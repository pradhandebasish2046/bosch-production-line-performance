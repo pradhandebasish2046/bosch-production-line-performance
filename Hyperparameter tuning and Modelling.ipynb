{
 "cells": [
  {
   "cell_type": "code",
   "execution_count": 2,
   "id": "70fc8361",
   "metadata": {},
   "outputs": [
    {
     "data": {
      "text/html": [
       "<style type='text/css'>\n",
       ".datatable table.frame { margin-bottom: 0; }\n",
       ".datatable table.frame thead { border-bottom: none; }\n",
       ".datatable table.frame tr.coltypes td {  color: #FFFFFF;  line-height: 6px;  padding: 0 0.5em;}\n",
       ".datatable .bool    { background: #DDDD99; }\n",
       ".datatable .object  { background: #565656; }\n",
       ".datatable .int     { background: #5D9E5D; }\n",
       ".datatable .float   { background: #4040CC; }\n",
       ".datatable .str     { background: #CC4040; }\n",
       ".datatable .time    { background: #40CC40; }\n",
       ".datatable .row_index {  background: var(--jp-border-color3);  border-right: 1px solid var(--jp-border-color0);  color: var(--jp-ui-font-color3);  font-size: 9px;}\n",
       ".datatable .frame tbody td { text-align: left; }\n",
       ".datatable .frame tr.coltypes .row_index {  background: var(--jp-border-color0);}\n",
       ".datatable th:nth-child(2) { padding-left: 12px; }\n",
       ".datatable .hellipsis {  color: var(--jp-cell-editor-border-color);}\n",
       ".datatable .vellipsis {  background: var(--jp-layout-color0);  color: var(--jp-cell-editor-border-color);}\n",
       ".datatable .na {  color: var(--jp-cell-editor-border-color);  font-size: 80%;}\n",
       ".datatable .sp {  opacity: 0.25;}\n",
       ".datatable .footer { font-size: 9px; }\n",
       ".datatable .frame_dimensions {  background: var(--jp-border-color3);  border-top: 1px solid var(--jp-border-color0);  color: var(--jp-ui-font-color3);  display: inline-block;  opacity: 0.6;  padding: 1px 10px 1px 5px;}\n",
       "</style>\n"
      ],
      "text/plain": [
       "<IPython.core.display.HTML object>"
      ]
     },
     "metadata": {},
     "output_type": "display_data"
    }
   ],
   "source": [
    "import numpy as np\n",
    "import pandas as pd\n",
    "import matplotlib.pyplot as plt\n",
    "import datatable as dt\n",
    "from tqdm import tqdm\n",
    "from sklearn.preprocessing import LabelEncoder\n",
    "from datatable.models import Ftrl\n",
    "import pickle\n",
    "from sklearn.model_selection import RandomizedSearchCV, GridSearchCV\n",
    "import xgboost as xgb\n",
    "from sklearn.metrics import make_scorer, matthews_corrcoef\n",
    "from datetime import datetime\n",
    "from sklearn.ensemble import StackingClassifier\n",
    "from sklearn.linear_model import LogisticRegression\n",
    "from sklearn.model_selection import train_test_split\n",
    "from sklearn.ensemble import RandomForestClassifier\n",
    "from sklearn.tree import DecisionTreeClassifier\n",
    "from sklearn.ensemble import AdaBoostClassifier\n",
    "import lightgbm as lgb\n",
    "from sklearn.ensemble import GradientBoostingClassifier"
   ]
  },
  {
   "cell_type": "code",
   "execution_count": 2,
   "id": "2adfb784",
   "metadata": {},
   "outputs": [],
   "source": [
    "df = pd.read_csv('final_df_train_3.0.csv',nrows=300000)\n",
    "df.fillna(0,inplace=True)"
   ]
  },
  {
   "cell_type": "code",
   "execution_count": 3,
   "id": "65a25ac0",
   "metadata": {},
   "outputs": [],
   "source": [
    "df.drop(['Unnamed: 0','kurtosis','max_num_value','skewness','skewness_imp_st','mean_num_value','sum_num_value_imp_st','sum_num_value','mean_num_value_imp_st'],axis=1,inplace=True)"
   ]
  },
  {
   "cell_type": "code",
   "execution_count": 4,
   "id": "0dd13dda",
   "metadata": {},
   "outputs": [
    {
     "data": {
      "text/html": [
       "<div>\n",
       "<style scoped>\n",
       "    .dataframe tbody tr th:only-of-type {\n",
       "        vertical-align: middle;\n",
       "    }\n",
       "\n",
       "    .dataframe tbody tr th {\n",
       "        vertical-align: top;\n",
       "    }\n",
       "\n",
       "    .dataframe thead th {\n",
       "        text-align: right;\n",
       "    }\n",
       "</style>\n",
       "<table border=\"1\" class=\"dataframe\">\n",
       "  <thead>\n",
       "    <tr style=\"text-align: right;\">\n",
       "      <th></th>\n",
       "      <th>Id</th>\n",
       "      <th>no_of_category</th>\n",
       "      <th>different_category</th>\n",
       "      <th>probability_value</th>\n",
       "      <th>L0_S0_F0</th>\n",
       "      <th>L0_S0_F2</th>\n",
       "      <th>L0_S0_F4</th>\n",
       "      <th>L0_S0_F6</th>\n",
       "      <th>L0_S0_F10</th>\n",
       "      <th>L0_S0_F14</th>\n",
       "      <th>...</th>\n",
       "      <th>fraction_of_measurementsL3</th>\n",
       "      <th>min_num_value</th>\n",
       "      <th>max_num_value_imp_st</th>\n",
       "      <th>min_num_value_imp_st</th>\n",
       "      <th>kurtosis_imp_st</th>\n",
       "      <th>error_rate_on_imp_stations</th>\n",
       "      <th>mintime_imp_st</th>\n",
       "      <th>maxtime_imp_st</th>\n",
       "      <th>time_difference_imp_st</th>\n",
       "      <th>total_no_of_different_date</th>\n",
       "    </tr>\n",
       "  </thead>\n",
       "  <tbody>\n",
       "    <tr>\n",
       "      <th>0</th>\n",
       "      <td>4</td>\n",
       "      <td>0</td>\n",
       "      <td>0</td>\n",
       "      <td>-0.000818</td>\n",
       "      <td>0.030</td>\n",
       "      <td>-0.034</td>\n",
       "      <td>-0.197</td>\n",
       "      <td>-0.179</td>\n",
       "      <td>0.116</td>\n",
       "      <td>-0.032</td>\n",
       "      <td>...</td>\n",
       "      <td>0.483516</td>\n",
       "      <td>-0.702</td>\n",
       "      <td>0.520</td>\n",
       "      <td>-0.702</td>\n",
       "      <td>46.537694</td>\n",
       "      <td>0.3</td>\n",
       "      <td>87.26</td>\n",
       "      <td>87.29</td>\n",
       "      <td>0.03</td>\n",
       "      <td>8</td>\n",
       "    </tr>\n",
       "    <tr>\n",
       "      <th>1</th>\n",
       "      <td>6</td>\n",
       "      <td>0</td>\n",
       "      <td>0</td>\n",
       "      <td>-0.000818</td>\n",
       "      <td>0.000</td>\n",
       "      <td>0.000</td>\n",
       "      <td>0.000</td>\n",
       "      <td>0.000</td>\n",
       "      <td>0.000</td>\n",
       "      <td>0.000</td>\n",
       "      <td>...</td>\n",
       "      <td>0.586081</td>\n",
       "      <td>-0.480</td>\n",
       "      <td>0.255</td>\n",
       "      <td>-0.480</td>\n",
       "      <td>28.652446</td>\n",
       "      <td>0.3</td>\n",
       "      <td>1315.73</td>\n",
       "      <td>1315.75</td>\n",
       "      <td>0.02</td>\n",
       "      <td>6</td>\n",
       "    </tr>\n",
       "    <tr>\n",
       "      <th>2</th>\n",
       "      <td>7</td>\n",
       "      <td>63</td>\n",
       "      <td>1</td>\n",
       "      <td>0.000415</td>\n",
       "      <td>0.088</td>\n",
       "      <td>0.086</td>\n",
       "      <td>0.003</td>\n",
       "      <td>-0.052</td>\n",
       "      <td>0.025</td>\n",
       "      <td>-0.072</td>\n",
       "      <td>...</td>\n",
       "      <td>0.586081</td>\n",
       "      <td>-0.480</td>\n",
       "      <td>0.238</td>\n",
       "      <td>-0.480</td>\n",
       "      <td>36.028735</td>\n",
       "      <td>0.3</td>\n",
       "      <td>1624.40</td>\n",
       "      <td>1624.42</td>\n",
       "      <td>0.02</td>\n",
       "      <td>7</td>\n",
       "    </tr>\n",
       "    <tr>\n",
       "      <th>3</th>\n",
       "      <td>9</td>\n",
       "      <td>63</td>\n",
       "      <td>1</td>\n",
       "      <td>0.000415</td>\n",
       "      <td>-0.036</td>\n",
       "      <td>-0.064</td>\n",
       "      <td>0.294</td>\n",
       "      <td>0.330</td>\n",
       "      <td>0.161</td>\n",
       "      <td>0.128</td>\n",
       "      <td>...</td>\n",
       "      <td>0.586081</td>\n",
       "      <td>-0.480</td>\n",
       "      <td>0.218</td>\n",
       "      <td>-0.480</td>\n",
       "      <td>37.098558</td>\n",
       "      <td>0.4</td>\n",
       "      <td>1154.12</td>\n",
       "      <td>1154.16</td>\n",
       "      <td>0.04</td>\n",
       "      <td>9</td>\n",
       "    </tr>\n",
       "    <tr>\n",
       "      <th>4</th>\n",
       "      <td>11</td>\n",
       "      <td>63</td>\n",
       "      <td>1</td>\n",
       "      <td>0.000415</td>\n",
       "      <td>-0.055</td>\n",
       "      <td>-0.086</td>\n",
       "      <td>0.294</td>\n",
       "      <td>0.330</td>\n",
       "      <td>0.025</td>\n",
       "      <td>0.168</td>\n",
       "      <td>...</td>\n",
       "      <td>0.586081</td>\n",
       "      <td>-0.347</td>\n",
       "      <td>0.520</td>\n",
       "      <td>-0.347</td>\n",
       "      <td>32.536342</td>\n",
       "      <td>0.4</td>\n",
       "      <td>606.00</td>\n",
       "      <td>606.02</td>\n",
       "      <td>0.02</td>\n",
       "      <td>7</td>\n",
       "    </tr>\n",
       "  </tbody>\n",
       "</table>\n",
       "<p>5 rows × 284 columns</p>\n",
       "</div>"
      ],
      "text/plain": [
       "   Id  no_of_category  different_category  probability_value  L0_S0_F0  \\\n",
       "0   4               0                   0          -0.000818     0.030   \n",
       "1   6               0                   0          -0.000818     0.000   \n",
       "2   7              63                   1           0.000415     0.088   \n",
       "3   9              63                   1           0.000415    -0.036   \n",
       "4  11              63                   1           0.000415    -0.055   \n",
       "\n",
       "   L0_S0_F2  L0_S0_F4  L0_S0_F6  L0_S0_F10  L0_S0_F14  ...  \\\n",
       "0    -0.034    -0.197    -0.179      0.116     -0.032  ...   \n",
       "1     0.000     0.000     0.000      0.000      0.000  ...   \n",
       "2     0.086     0.003    -0.052      0.025     -0.072  ...   \n",
       "3    -0.064     0.294     0.330      0.161      0.128  ...   \n",
       "4    -0.086     0.294     0.330      0.025      0.168  ...   \n",
       "\n",
       "   fraction_of_measurementsL3  min_num_value  max_num_value_imp_st  \\\n",
       "0                    0.483516         -0.702                 0.520   \n",
       "1                    0.586081         -0.480                 0.255   \n",
       "2                    0.586081         -0.480                 0.238   \n",
       "3                    0.586081         -0.480                 0.218   \n",
       "4                    0.586081         -0.347                 0.520   \n",
       "\n",
       "   min_num_value_imp_st  kurtosis_imp_st  error_rate_on_imp_stations  \\\n",
       "0                -0.702        46.537694                         0.3   \n",
       "1                -0.480        28.652446                         0.3   \n",
       "2                -0.480        36.028735                         0.3   \n",
       "3                -0.480        37.098558                         0.4   \n",
       "4                -0.347        32.536342                         0.4   \n",
       "\n",
       "   mintime_imp_st  maxtime_imp_st  time_difference_imp_st  \\\n",
       "0           87.26           87.29                    0.03   \n",
       "1         1315.73         1315.75                    0.02   \n",
       "2         1624.40         1624.42                    0.02   \n",
       "3         1154.12         1154.16                    0.04   \n",
       "4          606.00          606.02                    0.02   \n",
       "\n",
       "   total_no_of_different_date  \n",
       "0                           8  \n",
       "1                           6  \n",
       "2                           7  \n",
       "3                           9  \n",
       "4                           7  \n",
       "\n",
       "[5 rows x 284 columns]"
      ]
     },
     "execution_count": 4,
     "metadata": {},
     "output_type": "execute_result"
    }
   ],
   "source": [
    "df.head()"
   ]
  },
  {
   "cell_type": "code",
   "execution_count": 5,
   "id": "971eeac8",
   "metadata": {},
   "outputs": [],
   "source": [
    "X = df.drop([\"Id\",\"Response\"], axis=1)\n",
    "y = df['Response']"
   ]
  },
  {
   "cell_type": "code",
   "execution_count": 6,
   "id": "39be5d21",
   "metadata": {},
   "outputs": [],
   "source": [
    "#credit:-https://www.youtube.com/watch?v=9HomdnM12o4&t=716s\n",
    "def timer(start_time=None):\n",
    "    if not start_time:\n",
    "        start_time = datetime.now()\n",
    "        return start_time\n",
    "    elif start_time:\n",
    "        thour, temp_sec = divmod((datetime.now() - start_time).total_seconds(), 3600)\n",
    "        tmin, tsec = divmod(temp_sec, 60)\n",
    "        print('\\n Time taken: %i hours %i minutes and %s seconds.' % (thour, tmin, round(tsec, 2)))"
   ]
  },
  {
   "cell_type": "code",
   "execution_count": 9,
   "id": "81e44df6",
   "metadata": {},
   "outputs": [],
   "source": [
    "param_grid = {'gamma': [0,0.1,0.2,0.3,0.4,0.8,1.6,3.2,6.4,12.8,25.6,51.2,102.4, 200],\n",
    "              'learning_rate': [0.01, 0.03, 0.05, 0.1, 0.15, 0.2, 0.25, 0.300000012, 0.4, 0.5, 0.6, 0.7],\n",
    "              'max_depth': [3,5,6,7,8,9,10,11,12,15,17,20,23,25],\n",
    "              'n_estimators': [50,65,80,100,115,130,150],\n",
    "              'reg_alpha': [0,0.1,0.2,0.4,0.8,1.6,3.2,6.4,12.8,25.6,51.2,102.4,200],\n",
    "              'reg_lambda': [0,0.1,0.2,0.4,0.8,1.6,3.2,6.4,12.8,25.6,51.2,102.4,200],\n",
    "             \"min_child_weight\" : [ 1, 3, 5, 7, 9,12,15],\n",
    "             \"colsample_bytree\" : [ 0.3, 0.4, 0.5 , 0.7]}"
   ]
  },
  {
   "cell_type": "code",
   "execution_count": 11,
   "id": "153d8a7e",
   "metadata": {},
   "outputs": [],
   "source": [
    "mcc = make_scorer(matthews_corrcoef)\n",
    "classifier=xgb.XGBClassifier()\n",
    "random_search=RandomizedSearchCV(classifier,param_distributions=param_grid,n_iter=5,scoring=mcc,cv=5,verbose=3)"
   ]
  },
  {
   "cell_type": "code",
   "execution_count": 12,
   "id": "bb078c53",
   "metadata": {},
   "outputs": [
    {
     "name": "stdout",
     "output_type": "stream",
     "text": [
      "Fitting 5 folds for each of 5 candidates, totalling 25 fits\n",
      "[CV 1/5] END colsample_bytree=0.3, gamma=1.6, learning_rate=0.4, max_depth=7, min_child_weight=1, n_estimators=150, reg_alpha=25.6, reg_lambda=25.6;, score=0.262 total time=  15.4s\n",
      "[CV 2/5] END colsample_bytree=0.3, gamma=1.6, learning_rate=0.4, max_depth=7, min_child_weight=1, n_estimators=150, reg_alpha=25.6, reg_lambda=25.6;, score=0.315 total time=  15.5s\n",
      "[CV 3/5] END colsample_bytree=0.3, gamma=1.6, learning_rate=0.4, max_depth=7, min_child_weight=1, n_estimators=150, reg_alpha=25.6, reg_lambda=25.6;, score=0.297 total time=  16.1s\n",
      "[CV 4/5] END colsample_bytree=0.3, gamma=1.6, learning_rate=0.4, max_depth=7, min_child_weight=1, n_estimators=150, reg_alpha=25.6, reg_lambda=25.6;, score=0.299 total time=  16.1s\n",
      "[CV 5/5] END colsample_bytree=0.3, gamma=1.6, learning_rate=0.4, max_depth=7, min_child_weight=1, n_estimators=150, reg_alpha=25.6, reg_lambda=25.6;, score=0.323 total time=  15.1s\n",
      "[CV 1/5] END colsample_bytree=0.7, gamma=0.3, learning_rate=0.01, max_depth=11, min_child_weight=9, n_estimators=65, reg_alpha=12.8, reg_lambda=0.8;, score=0.260 total time=  19.3s\n",
      "[CV 2/5] END colsample_bytree=0.7, gamma=0.3, learning_rate=0.01, max_depth=11, min_child_weight=9, n_estimators=65, reg_alpha=12.8, reg_lambda=0.8;, score=0.317 total time=  20.3s\n",
      "[CV 3/5] END colsample_bytree=0.7, gamma=0.3, learning_rate=0.01, max_depth=11, min_child_weight=9, n_estimators=65, reg_alpha=12.8, reg_lambda=0.8;, score=0.256 total time=  18.9s\n",
      "[CV 4/5] END colsample_bytree=0.7, gamma=0.3, learning_rate=0.01, max_depth=11, min_child_weight=9, n_estimators=65, reg_alpha=12.8, reg_lambda=0.8;, score=0.287 total time=  20.7s\n",
      "[CV 5/5] END colsample_bytree=0.7, gamma=0.3, learning_rate=0.01, max_depth=11, min_child_weight=9, n_estimators=65, reg_alpha=12.8, reg_lambda=0.8;, score=0.288 total time=  20.2s\n",
      "[CV 1/5] END colsample_bytree=0.3, gamma=3.2, learning_rate=0.5, max_depth=3, min_child_weight=12, n_estimators=65, reg_alpha=1.6, reg_lambda=0.2;, score=0.291 total time=   7.7s\n",
      "[CV 2/5] END colsample_bytree=0.3, gamma=3.2, learning_rate=0.5, max_depth=3, min_child_weight=12, n_estimators=65, reg_alpha=1.6, reg_lambda=0.2;, score=0.338 total time=   7.9s\n",
      "[CV 3/5] END colsample_bytree=0.3, gamma=3.2, learning_rate=0.5, max_depth=3, min_child_weight=12, n_estimators=65, reg_alpha=1.6, reg_lambda=0.2;, score=0.282 total time=   7.7s\n",
      "[CV 4/5] END colsample_bytree=0.3, gamma=3.2, learning_rate=0.5, max_depth=3, min_child_weight=12, n_estimators=65, reg_alpha=1.6, reg_lambda=0.2;, score=0.319 total time=   7.7s\n",
      "[CV 5/5] END colsample_bytree=0.3, gamma=3.2, learning_rate=0.5, max_depth=3, min_child_weight=12, n_estimators=65, reg_alpha=1.6, reg_lambda=0.2;, score=0.342 total time=   7.8s\n",
      "[CV 1/5] END colsample_bytree=0.4, gamma=0, learning_rate=0.6, max_depth=7, min_child_weight=3, n_estimators=130, reg_alpha=25.6, reg_lambda=51.2;, score=0.253 total time=  15.8s\n",
      "[CV 2/5] END colsample_bytree=0.4, gamma=0, learning_rate=0.6, max_depth=7, min_child_weight=3, n_estimators=130, reg_alpha=25.6, reg_lambda=51.2;, score=0.338 total time=  16.2s\n",
      "[CV 3/5] END colsample_bytree=0.4, gamma=0, learning_rate=0.6, max_depth=7, min_child_weight=3, n_estimators=130, reg_alpha=25.6, reg_lambda=51.2;, score=0.334 total time=  15.7s\n",
      "[CV 4/5] END colsample_bytree=0.4, gamma=0, learning_rate=0.6, max_depth=7, min_child_weight=3, n_estimators=130, reg_alpha=25.6, reg_lambda=51.2;, score=0.330 total time=  16.0s\n",
      "[CV 5/5] END colsample_bytree=0.4, gamma=0, learning_rate=0.6, max_depth=7, min_child_weight=3, n_estimators=130, reg_alpha=25.6, reg_lambda=51.2;, score=0.311 total time=  16.5s\n",
      "[CV 1/5] END colsample_bytree=0.7, gamma=12.8, learning_rate=0.6, max_depth=10, min_child_weight=1, n_estimators=50, reg_alpha=0.4, reg_lambda=0.8;, score=0.227 total time=  26.2s\n",
      "[CV 2/5] END colsample_bytree=0.7, gamma=12.8, learning_rate=0.6, max_depth=10, min_child_weight=1, n_estimators=50, reg_alpha=0.4, reg_lambda=0.8;, score=0.272 total time=  27.7s\n",
      "[CV 3/5] END colsample_bytree=0.7, gamma=12.8, learning_rate=0.6, max_depth=10, min_child_weight=1, n_estimators=50, reg_alpha=0.4, reg_lambda=0.8;, score=0.273 total time=  27.8s\n",
      "[CV 4/5] END colsample_bytree=0.7, gamma=12.8, learning_rate=0.6, max_depth=10, min_child_weight=1, n_estimators=50, reg_alpha=0.4, reg_lambda=0.8;, score=0.285 total time=  28.1s\n",
      "[CV 5/5] END colsample_bytree=0.7, gamma=12.8, learning_rate=0.6, max_depth=10, min_child_weight=1, n_estimators=50, reg_alpha=0.4, reg_lambda=0.8;, score=0.301 total time=  27.5s\n",
      "\n",
      " Time taken: 0 hours 7 minutes and 27.81 seconds.\n"
     ]
    }
   ],
   "source": [
    "import warnings\n",
    "warnings.filterwarnings('ignore')\n",
    "# Here we go\n",
    "start_time = timer(None) # timing starts from this point for \"start_time\" variable\n",
    "random_search.fit(X,y,eval_metric = 'auc')\n",
    "timer(start_time) # timing ends here for \"start_time\" variable"
   ]
  },
  {
   "cell_type": "code",
   "execution_count": 13,
   "id": "a42f0d7b",
   "metadata": {},
   "outputs": [
    {
     "data": {
      "text/plain": [
       "{'reg_lambda': 0.2,\n",
       " 'reg_alpha': 1.6,\n",
       " 'n_estimators': 65,\n",
       " 'min_child_weight': 12,\n",
       " 'max_depth': 3,\n",
       " 'learning_rate': 0.5,\n",
       " 'gamma': 3.2,\n",
       " 'colsample_bytree': 0.3}"
      ]
     },
     "execution_count": 13,
     "metadata": {},
     "output_type": "execute_result"
    }
   ],
   "source": [
    "random_search.best_params_"
   ]
  },
  {
   "cell_type": "markdown",
   "id": "b4935c3e",
   "metadata": {},
   "source": [
    "# Tuning Random Forest"
   ]
  },
  {
   "cell_type": "code",
   "execution_count": 7,
   "id": "eca10349",
   "metadata": {},
   "outputs": [],
   "source": [
    "params_rf = {'bootstrap': [True, False],\n",
    " 'max_depth': [10, 20, 30, 40, 50, 60, 70, 80, 90, 100, None],\n",
    " 'max_features': ['auto', 'sqrt'],\n",
    " 'min_samples_leaf': [1, 2, 4],\n",
    " 'min_samples_split': [2, 5, 10],\n",
    " 'n_estimators': [200, 400, 600, 800, 1000, 1200, 1400, 1600, 1800, 2000]}"
   ]
  },
  {
   "cell_type": "code",
   "execution_count": 8,
   "id": "9f2c6890",
   "metadata": {},
   "outputs": [],
   "source": [
    "rf=RandomForestClassifier()\n",
    "random_search_rf=RandomizedSearchCV(rf,param_distributions=params_rf,n_iter=5,scoring='roc_auc',cv=5,verbose=3)"
   ]
  },
  {
   "cell_type": "code",
   "execution_count": 9,
   "id": "94216338",
   "metadata": {},
   "outputs": [
    {
     "name": "stdout",
     "output_type": "stream",
     "text": [
      "Fitting 5 folds for each of 5 candidates, totalling 25 fits\n",
      "[CV 1/5] END bootstrap=True, max_depth=10, max_features=sqrt, min_samples_leaf=2, min_samples_split=10, n_estimators=1800;, score=0.814 total time=  31.0s\n",
      "[CV 2/5] END bootstrap=True, max_depth=10, max_features=sqrt, min_samples_leaf=2, min_samples_split=10, n_estimators=1800;, score=0.952 total time=  31.4s\n",
      "[CV 3/5] END bootstrap=True, max_depth=10, max_features=sqrt, min_samples_leaf=2, min_samples_split=10, n_estimators=1800;, score=0.802 total time=  30.8s\n",
      "[CV 4/5] END bootstrap=True, max_depth=10, max_features=sqrt, min_samples_leaf=2, min_samples_split=10, n_estimators=1800;, score=0.810 total time=  30.9s\n",
      "[CV 5/5] END bootstrap=True, max_depth=10, max_features=sqrt, min_samples_leaf=2, min_samples_split=10, n_estimators=1800;, score=0.692 total time=  31.0s\n",
      "[CV 1/5] END bootstrap=False, max_depth=40, max_features=auto, min_samples_leaf=4, min_samples_split=10, n_estimators=2000;, score=0.839 total time= 1.3min\n",
      "[CV 2/5] END bootstrap=False, max_depth=40, max_features=auto, min_samples_leaf=4, min_samples_split=10, n_estimators=2000;, score=0.933 total time= 1.4min\n",
      "[CV 3/5] END bootstrap=False, max_depth=40, max_features=auto, min_samples_leaf=4, min_samples_split=10, n_estimators=2000;, score=0.758 total time= 1.3min\n",
      "[CV 4/5] END bootstrap=False, max_depth=40, max_features=auto, min_samples_leaf=4, min_samples_split=10, n_estimators=2000;, score=0.750 total time= 1.3min\n",
      "[CV 5/5] END bootstrap=False, max_depth=40, max_features=auto, min_samples_leaf=4, min_samples_split=10, n_estimators=2000;, score=0.668 total time= 1.4min\n",
      "[CV 1/5] END bootstrap=True, max_depth=30, max_features=sqrt, min_samples_leaf=1, min_samples_split=5, n_estimators=400;, score=0.854 total time=   8.8s\n",
      "[CV 2/5] END bootstrap=True, max_depth=30, max_features=sqrt, min_samples_leaf=1, min_samples_split=5, n_estimators=400;, score=0.940 total time=   9.1s\n",
      "[CV 3/5] END bootstrap=True, max_depth=30, max_features=sqrt, min_samples_leaf=1, min_samples_split=5, n_estimators=400;, score=0.764 total time=   8.5s\n",
      "[CV 4/5] END bootstrap=True, max_depth=30, max_features=sqrt, min_samples_leaf=1, min_samples_split=5, n_estimators=400;, score=0.763 total time=   8.7s\n",
      "[CV 5/5] END bootstrap=True, max_depth=30, max_features=sqrt, min_samples_leaf=1, min_samples_split=5, n_estimators=400;, score=0.631 total time=   8.9s\n",
      "[CV 1/5] END bootstrap=True, max_depth=70, max_features=auto, min_samples_leaf=2, min_samples_split=10, n_estimators=1400;, score=0.824 total time=  30.7s\n",
      "[CV 2/5] END bootstrap=True, max_depth=70, max_features=auto, min_samples_leaf=2, min_samples_split=10, n_estimators=1400;, score=0.944 total time=  31.8s\n",
      "[CV 3/5] END bootstrap=True, max_depth=70, max_features=auto, min_samples_leaf=2, min_samples_split=10, n_estimators=1400;, score=0.767 total time=  29.6s\n",
      "[CV 4/5] END bootstrap=True, max_depth=70, max_features=auto, min_samples_leaf=2, min_samples_split=10, n_estimators=1400;, score=0.802 total time=  29.8s\n",
      "[CV 5/5] END bootstrap=True, max_depth=70, max_features=auto, min_samples_leaf=2, min_samples_split=10, n_estimators=1400;, score=0.679 total time=  30.9s\n",
      "[CV 1/5] END bootstrap=False, max_depth=60, max_features=auto, min_samples_leaf=1, min_samples_split=5, n_estimators=600;, score=0.844 total time=  25.0s\n",
      "[CV 2/5] END bootstrap=False, max_depth=60, max_features=auto, min_samples_leaf=1, min_samples_split=5, n_estimators=600;, score=0.874 total time=  27.0s\n",
      "[CV 3/5] END bootstrap=False, max_depth=60, max_features=auto, min_samples_leaf=1, min_samples_split=5, n_estimators=600;, score=0.741 total time=  23.8s\n",
      "[CV 4/5] END bootstrap=False, max_depth=60, max_features=auto, min_samples_leaf=1, min_samples_split=5, n_estimators=600;, score=0.789 total time=  23.6s\n",
      "[CV 5/5] END bootstrap=False, max_depth=60, max_features=auto, min_samples_leaf=1, min_samples_split=5, n_estimators=600;, score=0.700 total time=  25.9s\n",
      "\n",
      " Time taken: 0 hours 15 minutes and 20.98 seconds.\n"
     ]
    }
   ],
   "source": [
    "start_time = timer(None) \n",
    "random_search_rf.fit(X,y)\n",
    "timer(start_time)"
   ]
  },
  {
   "cell_type": "code",
   "execution_count": 10,
   "id": "754ef3ae",
   "metadata": {},
   "outputs": [
    {
     "data": {
      "text/plain": [
       "{'n_estimators': 1800,\n",
       " 'min_samples_split': 10,\n",
       " 'min_samples_leaf': 2,\n",
       " 'max_features': 'sqrt',\n",
       " 'max_depth': 10,\n",
       " 'bootstrap': True}"
      ]
     },
     "execution_count": 10,
     "metadata": {},
     "output_type": "execute_result"
    }
   ],
   "source": [
    "random_search_rf.best_params_"
   ]
  },
  {
   "cell_type": "markdown",
   "id": "89f5e175",
   "metadata": {},
   "source": [
    "# Tuning Light GBM"
   ]
  },
  {
   "cell_type": "code",
   "execution_count": 14,
   "id": "4c0608ff",
   "metadata": {},
   "outputs": [],
   "source": [
    "from scipy.stats import randint as sp_randint\n",
    "from scipy.stats import uniform as sp_uniform\n",
    "param_lgm ={'num_leaves': sp_randint(6, 50), \n",
    "             'min_child_samples': sp_randint(100, 500), \n",
    "             'min_child_weight': [1e-5, 1e-3, 1e-2, 1e-1, 1, 1e1, 1e2, 1e3, 1e4],\n",
    "             'subsample': sp_uniform(loc=0.2, scale=0.8), \n",
    "             'colsample_bytree': sp_uniform(loc=0.4, scale=0.6),\n",
    "             'reg_alpha': [0, 1e-1, 1, 2, 5, 7, 10, 50, 100],\n",
    "             'reg_lambda': [0, 1e-1, 1, 5, 10, 20, 50, 100]}"
   ]
  },
  {
   "cell_type": "code",
   "execution_count": 15,
   "id": "1875c912",
   "metadata": {},
   "outputs": [],
   "source": [
    "#mcc = make_scorer(matthews_corrcoef)\n",
    "clf = lgb.LGBMClassifier()\n",
    "random_search_lgm = RandomizedSearchCV(\n",
    "    estimator=clf, param_distributions=param_lgm, \n",
    "    n_iter=5,\n",
    "    scoring='roc_auc',\n",
    "    cv=5,\n",
    "    verbose=3)"
   ]
  },
  {
   "cell_type": "code",
   "execution_count": 17,
   "id": "6908a8a8",
   "metadata": {},
   "outputs": [
    {
     "name": "stdout",
     "output_type": "stream",
     "text": [
      "Fitting 5 folds for each of 5 candidates, totalling 25 fits\n",
      "[CV 1/5] END colsample_bytree=0.43455527965836527, min_child_samples=198, min_child_weight=10.0, num_leaves=12, reg_alpha=0.1, reg_lambda=0.1, subsample=0.36181919064442924;, score=0.787 total time=   4.9s\n",
      "[CV 2/5] END colsample_bytree=0.43455527965836527, min_child_samples=198, min_child_weight=10.0, num_leaves=12, reg_alpha=0.1, reg_lambda=0.1, subsample=0.36181919064442924;, score=0.808 total time=   5.2s\n",
      "[CV 3/5] END colsample_bytree=0.43455527965836527, min_child_samples=198, min_child_weight=10.0, num_leaves=12, reg_alpha=0.1, reg_lambda=0.1, subsample=0.36181919064442924;, score=0.820 total time=   4.8s\n",
      "[CV 4/5] END colsample_bytree=0.43455527965836527, min_child_samples=198, min_child_weight=10.0, num_leaves=12, reg_alpha=0.1, reg_lambda=0.1, subsample=0.36181919064442924;, score=0.802 total time=   4.7s\n",
      "[CV 5/5] END colsample_bytree=0.43455527965836527, min_child_samples=198, min_child_weight=10.0, num_leaves=12, reg_alpha=0.1, reg_lambda=0.1, subsample=0.36181919064442924;, score=0.809 total time=   4.7s\n",
      "[CV 1/5] END colsample_bytree=0.7725932325217053, min_child_samples=414, min_child_weight=0.001, num_leaves=46, reg_alpha=7, reg_lambda=5, subsample=0.23589168959173154;, score=0.795 total time=   8.3s\n",
      "[CV 2/5] END colsample_bytree=0.7725932325217053, min_child_samples=414, min_child_weight=0.001, num_leaves=46, reg_alpha=7, reg_lambda=5, subsample=0.23589168959173154;, score=0.804 total time=   8.3s\n",
      "[CV 3/5] END colsample_bytree=0.7725932325217053, min_child_samples=414, min_child_weight=0.001, num_leaves=46, reg_alpha=7, reg_lambda=5, subsample=0.23589168959173154;, score=0.803 total time=   8.2s\n",
      "[CV 4/5] END colsample_bytree=0.7725932325217053, min_child_samples=414, min_child_weight=0.001, num_leaves=46, reg_alpha=7, reg_lambda=5, subsample=0.23589168959173154;, score=0.800 total time=   7.9s\n",
      "[CV 5/5] END colsample_bytree=0.7725932325217053, min_child_samples=414, min_child_weight=0.001, num_leaves=46, reg_alpha=7, reg_lambda=5, subsample=0.23589168959173154;, score=0.792 total time=   8.3s\n",
      "[CV 1/5] END colsample_bytree=0.6896125296478075, min_child_samples=499, min_child_weight=1000.0, num_leaves=25, reg_alpha=0, reg_lambda=50, subsample=0.45208076718208823;, score=0.500 total time=   3.5s\n",
      "[CV 2/5] END colsample_bytree=0.6896125296478075, min_child_samples=499, min_child_weight=1000.0, num_leaves=25, reg_alpha=0, reg_lambda=50, subsample=0.45208076718208823;, score=0.500 total time=   3.5s\n",
      "[CV 3/5] END colsample_bytree=0.6896125296478075, min_child_samples=499, min_child_weight=1000.0, num_leaves=25, reg_alpha=0, reg_lambda=50, subsample=0.45208076718208823;, score=0.500 total time=   3.5s\n",
      "[CV 4/5] END colsample_bytree=0.6896125296478075, min_child_samples=499, min_child_weight=1000.0, num_leaves=25, reg_alpha=0, reg_lambda=50, subsample=0.45208076718208823;, score=0.500 total time=   3.5s\n",
      "[CV 5/5] END colsample_bytree=0.6896125296478075, min_child_samples=499, min_child_weight=1000.0, num_leaves=25, reg_alpha=0, reg_lambda=50, subsample=0.45208076718208823;, score=0.500 total time=   3.3s\n",
      "[CV 1/5] END colsample_bytree=0.7650053426996126, min_child_samples=375, min_child_weight=1, num_leaves=28, reg_alpha=50, reg_lambda=1, subsample=0.30926944085476493;, score=0.782 total time=   4.1s\n",
      "[CV 2/5] END colsample_bytree=0.7650053426996126, min_child_samples=375, min_child_weight=1, num_leaves=28, reg_alpha=50, reg_lambda=1, subsample=0.30926944085476493;, score=0.801 total time=   4.1s\n",
      "[CV 3/5] END colsample_bytree=0.7650053426996126, min_child_samples=375, min_child_weight=1, num_leaves=28, reg_alpha=50, reg_lambda=1, subsample=0.30926944085476493;, score=0.808 total time=   4.2s\n",
      "[CV 4/5] END colsample_bytree=0.7650053426996126, min_child_samples=375, min_child_weight=1, num_leaves=28, reg_alpha=50, reg_lambda=1, subsample=0.30926944085476493;, score=0.805 total time=   4.1s\n",
      "[CV 5/5] END colsample_bytree=0.7650053426996126, min_child_samples=375, min_child_weight=1, num_leaves=28, reg_alpha=50, reg_lambda=1, subsample=0.30926944085476493;, score=0.811 total time=   4.2s\n",
      "[CV 1/5] END colsample_bytree=0.4049678581142832, min_child_samples=425, min_child_weight=1, num_leaves=40, reg_alpha=5, reg_lambda=5, subsample=0.2759305950646308;, score=0.798 total time=   6.6s\n",
      "[CV 2/5] END colsample_bytree=0.4049678581142832, min_child_samples=425, min_child_weight=1, num_leaves=40, reg_alpha=5, reg_lambda=5, subsample=0.2759305950646308;, score=0.803 total time=   6.0s\n",
      "[CV 3/5] END colsample_bytree=0.4049678581142832, min_child_samples=425, min_child_weight=1, num_leaves=40, reg_alpha=5, reg_lambda=5, subsample=0.2759305950646308;, score=0.805 total time=   6.1s\n",
      "[CV 4/5] END colsample_bytree=0.4049678581142832, min_child_samples=425, min_child_weight=1, num_leaves=40, reg_alpha=5, reg_lambda=5, subsample=0.2759305950646308;, score=0.803 total time=   6.3s\n",
      "[CV 5/5] END colsample_bytree=0.4049678581142832, min_child_samples=425, min_child_weight=1, num_leaves=40, reg_alpha=5, reg_lambda=5, subsample=0.2759305950646308;, score=0.805 total time=   6.2s\n",
      "\n",
      " Time taken: 0 hours 2 minutes and 24.42 seconds.\n"
     ]
    }
   ],
   "source": [
    "start_time = timer(None) # timing starts from this point for \"start_time\" variable\n",
    "random_search_lgm.fit(X,y)\n",
    "timer(start_time)"
   ]
  },
  {
   "cell_type": "code",
   "execution_count": 18,
   "id": "71ad3f14",
   "metadata": {},
   "outputs": [
    {
     "data": {
      "text/plain": [
       "{'colsample_bytree': 0.43455527965836527,\n",
       " 'min_child_samples': 198,\n",
       " 'min_child_weight': 10.0,\n",
       " 'num_leaves': 12,\n",
       " 'reg_alpha': 0.1,\n",
       " 'reg_lambda': 0.1,\n",
       " 'subsample': 0.36181919064442924}"
      ]
     },
     "execution_count": 18,
     "metadata": {},
     "output_type": "execute_result"
    }
   ],
   "source": [
    "random_search_lgm.best_params_"
   ]
  },
  {
   "cell_type": "markdown",
   "id": "5ecac42a",
   "metadata": {},
   "source": [
    "# Tuning DecisionTreeClassifier"
   ]
  },
  {
   "cell_type": "code",
   "execution_count": 19,
   "id": "fc829db0",
   "metadata": {},
   "outputs": [],
   "source": [
    "param_dt={\"splitter\":[\"best\",\"random\"],\n",
    "            \"max_depth\" : [1,3,5,7,9,11,12],\n",
    "           \"min_samples_leaf\":[1,2,3,4,5,6,7,8,9,10],\n",
    "           \"min_weight_fraction_leaf\":[0.1,0.2,0.3,0.4,0.5],\n",
    "           \"max_features\":[\"auto\",\"log2\",\"sqrt\",None],\n",
    "           \"max_leaf_nodes\":[None,10,20,30,40,50,60,70,80,90] }"
   ]
  },
  {
   "cell_type": "code",
   "execution_count": 20,
   "id": "d7a37616",
   "metadata": {},
   "outputs": [],
   "source": [
    "#mcc = make_scorer(matthews_corrcoef)\n",
    "dt=DecisionTreeClassifier()\n",
    "random_search_dt=RandomizedSearchCV(dt,param_distributions=param_dt,n_iter=10,scoring='roc_auc',cv=10,verbose=3)"
   ]
  },
  {
   "cell_type": "code",
   "execution_count": 22,
   "id": "7afa9239",
   "metadata": {},
   "outputs": [
    {
     "name": "stdout",
     "output_type": "stream",
     "text": [
      "Fitting 10 folds for each of 10 candidates, totalling 100 fits\n",
      "[CV 1/10] END max_depth=5, max_features=log2, max_leaf_nodes=60, min_samples_leaf=8, min_weight_fraction_leaf=0.3, splitter=random;, score=0.500 total time=   0.6s\n",
      "[CV 2/10] END max_depth=5, max_features=log2, max_leaf_nodes=60, min_samples_leaf=8, min_weight_fraction_leaf=0.3, splitter=random;, score=0.500 total time=   0.7s\n",
      "[CV 3/10] END max_depth=5, max_features=log2, max_leaf_nodes=60, min_samples_leaf=8, min_weight_fraction_leaf=0.3, splitter=random;, score=0.552 total time=   0.7s\n",
      "[CV 4/10] END max_depth=5, max_features=log2, max_leaf_nodes=60, min_samples_leaf=8, min_weight_fraction_leaf=0.3, splitter=random;, score=0.500 total time=   0.7s\n",
      "[CV 5/10] END max_depth=5, max_features=log2, max_leaf_nodes=60, min_samples_leaf=8, min_weight_fraction_leaf=0.3, splitter=random;, score=0.500 total time=   0.7s\n",
      "[CV 6/10] END max_depth=5, max_features=log2, max_leaf_nodes=60, min_samples_leaf=8, min_weight_fraction_leaf=0.3, splitter=random;, score=0.509 total time=   0.8s\n",
      "[CV 7/10] END max_depth=5, max_features=log2, max_leaf_nodes=60, min_samples_leaf=8, min_weight_fraction_leaf=0.3, splitter=random;, score=0.500 total time=   0.6s\n",
      "[CV 8/10] END max_depth=5, max_features=log2, max_leaf_nodes=60, min_samples_leaf=8, min_weight_fraction_leaf=0.3, splitter=random;, score=0.567 total time=   0.7s\n",
      "[CV 9/10] END max_depth=5, max_features=log2, max_leaf_nodes=60, min_samples_leaf=8, min_weight_fraction_leaf=0.3, splitter=random;, score=0.500 total time=   0.7s\n",
      "[CV 10/10] END max_depth=5, max_features=log2, max_leaf_nodes=60, min_samples_leaf=8, min_weight_fraction_leaf=0.3, splitter=random;, score=0.533 total time=   0.7s\n",
      "[CV 1/10] END max_depth=3, max_features=auto, max_leaf_nodes=60, min_samples_leaf=2, min_weight_fraction_leaf=0.5, splitter=random;, score=0.500 total time=   0.8s\n",
      "[CV 2/10] END max_depth=3, max_features=auto, max_leaf_nodes=60, min_samples_leaf=2, min_weight_fraction_leaf=0.5, splitter=random;, score=0.500 total time=   0.7s\n",
      "[CV 3/10] END max_depth=3, max_features=auto, max_leaf_nodes=60, min_samples_leaf=2, min_weight_fraction_leaf=0.5, splitter=random;, score=0.500 total time=   0.7s\n",
      "[CV 4/10] END max_depth=3, max_features=auto, max_leaf_nodes=60, min_samples_leaf=2, min_weight_fraction_leaf=0.5, splitter=random;, score=0.500 total time=   0.7s\n",
      "[CV 5/10] END max_depth=3, max_features=auto, max_leaf_nodes=60, min_samples_leaf=2, min_weight_fraction_leaf=0.5, splitter=random;, score=0.500 total time=   0.6s\n",
      "[CV 6/10] END max_depth=3, max_features=auto, max_leaf_nodes=60, min_samples_leaf=2, min_weight_fraction_leaf=0.5, splitter=random;, score=0.500 total time=   0.7s\n",
      "[CV 7/10] END max_depth=3, max_features=auto, max_leaf_nodes=60, min_samples_leaf=2, min_weight_fraction_leaf=0.5, splitter=random;, score=0.500 total time=   0.7s\n",
      "[CV 8/10] END max_depth=3, max_features=auto, max_leaf_nodes=60, min_samples_leaf=2, min_weight_fraction_leaf=0.5, splitter=random;, score=0.500 total time=   0.7s\n",
      "[CV 9/10] END max_depth=3, max_features=auto, max_leaf_nodes=60, min_samples_leaf=2, min_weight_fraction_leaf=0.5, splitter=random;, score=0.500 total time=   0.7s\n",
      "[CV 10/10] END max_depth=3, max_features=auto, max_leaf_nodes=60, min_samples_leaf=2, min_weight_fraction_leaf=0.5, splitter=random;, score=0.500 total time=   0.7s\n",
      "[CV 1/10] END max_depth=5, max_features=sqrt, max_leaf_nodes=None, min_samples_leaf=7, min_weight_fraction_leaf=0.5, splitter=random;, score=0.500 total time=   0.7s\n",
      "[CV 2/10] END max_depth=5, max_features=sqrt, max_leaf_nodes=None, min_samples_leaf=7, min_weight_fraction_leaf=0.5, splitter=random;, score=0.500 total time=   0.7s\n",
      "[CV 3/10] END max_depth=5, max_features=sqrt, max_leaf_nodes=None, min_samples_leaf=7, min_weight_fraction_leaf=0.5, splitter=random;, score=0.500 total time=   0.7s\n",
      "[CV 4/10] END max_depth=5, max_features=sqrt, max_leaf_nodes=None, min_samples_leaf=7, min_weight_fraction_leaf=0.5, splitter=random;, score=0.500 total time=   0.7s\n",
      "[CV 5/10] END max_depth=5, max_features=sqrt, max_leaf_nodes=None, min_samples_leaf=7, min_weight_fraction_leaf=0.5, splitter=random;, score=0.500 total time=   0.7s\n",
      "[CV 6/10] END max_depth=5, max_features=sqrt, max_leaf_nodes=None, min_samples_leaf=7, min_weight_fraction_leaf=0.5, splitter=random;, score=0.500 total time=   0.7s\n",
      "[CV 7/10] END max_depth=5, max_features=sqrt, max_leaf_nodes=None, min_samples_leaf=7, min_weight_fraction_leaf=0.5, splitter=random;, score=0.500 total time=   0.8s\n",
      "[CV 8/10] END max_depth=5, max_features=sqrt, max_leaf_nodes=None, min_samples_leaf=7, min_weight_fraction_leaf=0.5, splitter=random;, score=0.500 total time=   0.7s\n",
      "[CV 9/10] END max_depth=5, max_features=sqrt, max_leaf_nodes=None, min_samples_leaf=7, min_weight_fraction_leaf=0.5, splitter=random;, score=0.500 total time=   0.7s\n",
      "[CV 10/10] END max_depth=5, max_features=sqrt, max_leaf_nodes=None, min_samples_leaf=7, min_weight_fraction_leaf=0.5, splitter=random;, score=0.500 total time=   0.7s\n",
      "[CV 1/10] END max_depth=9, max_features=auto, max_leaf_nodes=90, min_samples_leaf=4, min_weight_fraction_leaf=0.3, splitter=best;, score=0.547 total time=   0.8s\n",
      "[CV 2/10] END max_depth=9, max_features=auto, max_leaf_nodes=90, min_samples_leaf=4, min_weight_fraction_leaf=0.3, splitter=best;, score=0.652 total time=   0.9s\n",
      "[CV 3/10] END max_depth=9, max_features=auto, max_leaf_nodes=90, min_samples_leaf=4, min_weight_fraction_leaf=0.3, splitter=best;, score=0.568 total time=   0.8s\n",
      "[CV 4/10] END max_depth=9, max_features=auto, max_leaf_nodes=90, min_samples_leaf=4, min_weight_fraction_leaf=0.3, splitter=best;, score=0.579 total time=   0.8s\n",
      "[CV 5/10] END max_depth=9, max_features=auto, max_leaf_nodes=90, min_samples_leaf=4, min_weight_fraction_leaf=0.3, splitter=best;, score=0.566 total time=   0.8s\n",
      "[CV 6/10] END max_depth=9, max_features=auto, max_leaf_nodes=90, min_samples_leaf=4, min_weight_fraction_leaf=0.3, splitter=best;, score=0.592 total time=   0.8s\n",
      "[CV 7/10] END max_depth=9, max_features=auto, max_leaf_nodes=90, min_samples_leaf=4, min_weight_fraction_leaf=0.3, splitter=best;, score=0.623 total time=   0.8s\n",
      "[CV 8/10] END max_depth=9, max_features=auto, max_leaf_nodes=90, min_samples_leaf=4, min_weight_fraction_leaf=0.3, splitter=best;, score=0.614 total time=   0.8s\n",
      "[CV 9/10] END max_depth=9, max_features=auto, max_leaf_nodes=90, min_samples_leaf=4, min_weight_fraction_leaf=0.3, splitter=best;, score=0.627 total time=   0.8s\n",
      "[CV 10/10] END max_depth=9, max_features=auto, max_leaf_nodes=90, min_samples_leaf=4, min_weight_fraction_leaf=0.3, splitter=best;, score=0.582 total time=   0.8s\n",
      "[CV 1/10] END max_depth=3, max_features=None, max_leaf_nodes=70, min_samples_leaf=7, min_weight_fraction_leaf=0.3, splitter=best;, score=0.669 total time=   3.9s\n",
      "[CV 2/10] END max_depth=3, max_features=None, max_leaf_nodes=70, min_samples_leaf=7, min_weight_fraction_leaf=0.3, splitter=best;, score=0.656 total time=   3.9s\n",
      "[CV 3/10] END max_depth=3, max_features=None, max_leaf_nodes=70, min_samples_leaf=7, min_weight_fraction_leaf=0.3, splitter=best;, score=0.673 total time=   3.9s\n",
      "[CV 4/10] END max_depth=3, max_features=None, max_leaf_nodes=70, min_samples_leaf=7, min_weight_fraction_leaf=0.3, splitter=best;, score=0.671 total time=   3.9s\n",
      "[CV 5/10] END max_depth=3, max_features=None, max_leaf_nodes=70, min_samples_leaf=7, min_weight_fraction_leaf=0.3, splitter=best;, score=0.657 total time=   3.9s\n",
      "[CV 6/10] END max_depth=3, max_features=None, max_leaf_nodes=70, min_samples_leaf=7, min_weight_fraction_leaf=0.3, splitter=best;, score=0.669 total time=   3.9s\n",
      "[CV 7/10] END max_depth=3, max_features=None, max_leaf_nodes=70, min_samples_leaf=7, min_weight_fraction_leaf=0.3, splitter=best;, score=0.671 total time=   3.9s\n",
      "[CV 8/10] END max_depth=3, max_features=None, max_leaf_nodes=70, min_samples_leaf=7, min_weight_fraction_leaf=0.3, splitter=best;, score=0.682 total time=   3.9s\n",
      "[CV 9/10] END max_depth=3, max_features=None, max_leaf_nodes=70, min_samples_leaf=7, min_weight_fraction_leaf=0.3, splitter=best;, score=0.689 total time=   4.0s\n",
      "[CV 10/10] END max_depth=3, max_features=None, max_leaf_nodes=70, min_samples_leaf=7, min_weight_fraction_leaf=0.3, splitter=best;, score=0.652 total time=   4.0s\n"
     ]
    },
    {
     "name": "stdout",
     "output_type": "stream",
     "text": [
      "[CV 1/10] END max_depth=3, max_features=log2, max_leaf_nodes=40, min_samples_leaf=6, min_weight_fraction_leaf=0.3, splitter=random;, score=0.515 total time=   0.7s\n",
      "[CV 2/10] END max_depth=3, max_features=log2, max_leaf_nodes=40, min_samples_leaf=6, min_weight_fraction_leaf=0.3, splitter=random;, score=0.500 total time=   0.9s\n",
      "[CV 3/10] END max_depth=3, max_features=log2, max_leaf_nodes=40, min_samples_leaf=6, min_weight_fraction_leaf=0.3, splitter=random;, score=0.500 total time=   0.8s\n",
      "[CV 4/10] END max_depth=3, max_features=log2, max_leaf_nodes=40, min_samples_leaf=6, min_weight_fraction_leaf=0.3, splitter=random;, score=0.573 total time=   0.8s\n",
      "[CV 5/10] END max_depth=3, max_features=log2, max_leaf_nodes=40, min_samples_leaf=6, min_weight_fraction_leaf=0.3, splitter=random;, score=0.500 total time=   0.8s\n",
      "[CV 6/10] END max_depth=3, max_features=log2, max_leaf_nodes=40, min_samples_leaf=6, min_weight_fraction_leaf=0.3, splitter=random;, score=0.500 total time=   0.8s\n",
      "[CV 7/10] END max_depth=3, max_features=log2, max_leaf_nodes=40, min_samples_leaf=6, min_weight_fraction_leaf=0.3, splitter=random;, score=0.500 total time=   0.7s\n",
      "[CV 8/10] END max_depth=3, max_features=log2, max_leaf_nodes=40, min_samples_leaf=6, min_weight_fraction_leaf=0.3, splitter=random;, score=0.498 total time=   0.7s\n",
      "[CV 9/10] END max_depth=3, max_features=log2, max_leaf_nodes=40, min_samples_leaf=6, min_weight_fraction_leaf=0.3, splitter=random;, score=0.500 total time=   0.7s\n",
      "[CV 10/10] END max_depth=3, max_features=log2, max_leaf_nodes=40, min_samples_leaf=6, min_weight_fraction_leaf=0.3, splitter=random;, score=0.477 total time=   0.6s\n",
      "[CV 1/10] END max_depth=12, max_features=sqrt, max_leaf_nodes=60, min_samples_leaf=1, min_weight_fraction_leaf=0.2, splitter=random;, score=0.538 total time=   0.7s\n",
      "[CV 2/10] END max_depth=12, max_features=sqrt, max_leaf_nodes=60, min_samples_leaf=1, min_weight_fraction_leaf=0.2, splitter=random;, score=0.559 total time=   0.7s\n",
      "[CV 3/10] END max_depth=12, max_features=sqrt, max_leaf_nodes=60, min_samples_leaf=1, min_weight_fraction_leaf=0.2, splitter=random;, score=0.517 total time=   0.7s\n",
      "[CV 4/10] END max_depth=12, max_features=sqrt, max_leaf_nodes=60, min_samples_leaf=1, min_weight_fraction_leaf=0.2, splitter=random;, score=0.621 total time=   0.8s\n",
      "[CV 5/10] END max_depth=12, max_features=sqrt, max_leaf_nodes=60, min_samples_leaf=1, min_weight_fraction_leaf=0.2, splitter=random;, score=0.516 total time=   0.7s\n",
      "[CV 6/10] END max_depth=12, max_features=sqrt, max_leaf_nodes=60, min_samples_leaf=1, min_weight_fraction_leaf=0.2, splitter=random;, score=0.526 total time=   0.8s\n",
      "[CV 7/10] END max_depth=12, max_features=sqrt, max_leaf_nodes=60, min_samples_leaf=1, min_weight_fraction_leaf=0.2, splitter=random;, score=0.591 total time=   0.8s\n",
      "[CV 8/10] END max_depth=12, max_features=sqrt, max_leaf_nodes=60, min_samples_leaf=1, min_weight_fraction_leaf=0.2, splitter=random;, score=0.500 total time=   0.7s\n",
      "[CV 9/10] END max_depth=12, max_features=sqrt, max_leaf_nodes=60, min_samples_leaf=1, min_weight_fraction_leaf=0.2, splitter=random;, score=0.586 total time=   0.7s\n",
      "[CV 10/10] END max_depth=12, max_features=sqrt, max_leaf_nodes=60, min_samples_leaf=1, min_weight_fraction_leaf=0.2, splitter=random;, score=0.502 total time=   0.8s\n",
      "[CV 1/10] END max_depth=11, max_features=sqrt, max_leaf_nodes=20, min_samples_leaf=6, min_weight_fraction_leaf=0.4, splitter=random;, score=0.527 total time=   0.7s\n",
      "[CV 2/10] END max_depth=11, max_features=sqrt, max_leaf_nodes=20, min_samples_leaf=6, min_weight_fraction_leaf=0.4, splitter=random;, score=0.500 total time=   0.7s\n",
      "[CV 3/10] END max_depth=11, max_features=sqrt, max_leaf_nodes=20, min_samples_leaf=6, min_weight_fraction_leaf=0.4, splitter=random;, score=0.500 total time=   0.7s\n",
      "[CV 4/10] END max_depth=11, max_features=sqrt, max_leaf_nodes=20, min_samples_leaf=6, min_weight_fraction_leaf=0.4, splitter=random;, score=0.500 total time=   0.7s\n",
      "[CV 5/10] END max_depth=11, max_features=sqrt, max_leaf_nodes=20, min_samples_leaf=6, min_weight_fraction_leaf=0.4, splitter=random;, score=0.624 total time=   0.8s\n",
      "[CV 6/10] END max_depth=11, max_features=sqrt, max_leaf_nodes=20, min_samples_leaf=6, min_weight_fraction_leaf=0.4, splitter=random;, score=0.477 total time=   0.7s\n",
      "[CV 7/10] END max_depth=11, max_features=sqrt, max_leaf_nodes=20, min_samples_leaf=6, min_weight_fraction_leaf=0.4, splitter=random;, score=0.500 total time=   0.7s\n",
      "[CV 8/10] END max_depth=11, max_features=sqrt, max_leaf_nodes=20, min_samples_leaf=6, min_weight_fraction_leaf=0.4, splitter=random;, score=0.598 total time=   0.7s\n",
      "[CV 9/10] END max_depth=11, max_features=sqrt, max_leaf_nodes=20, min_samples_leaf=6, min_weight_fraction_leaf=0.4, splitter=random;, score=0.500 total time=   0.8s\n",
      "[CV 10/10] END max_depth=11, max_features=sqrt, max_leaf_nodes=20, min_samples_leaf=6, min_weight_fraction_leaf=0.4, splitter=random;, score=0.562 total time=   0.9s\n",
      "[CV 1/10] END max_depth=9, max_features=sqrt, max_leaf_nodes=30, min_samples_leaf=1, min_weight_fraction_leaf=0.1, splitter=best;, score=0.674 total time=   1.1s\n",
      "[CV 2/10] END max_depth=9, max_features=sqrt, max_leaf_nodes=30, min_samples_leaf=1, min_weight_fraction_leaf=0.1, splitter=best;, score=0.597 total time=   1.0s\n",
      "[CV 3/10] END max_depth=9, max_features=sqrt, max_leaf_nodes=30, min_samples_leaf=1, min_weight_fraction_leaf=0.1, splitter=best;, score=0.597 total time=   1.0s\n",
      "[CV 4/10] END max_depth=9, max_features=sqrt, max_leaf_nodes=30, min_samples_leaf=1, min_weight_fraction_leaf=0.1, splitter=best;, score=0.665 total time=   1.0s\n",
      "[CV 5/10] END max_depth=9, max_features=sqrt, max_leaf_nodes=30, min_samples_leaf=1, min_weight_fraction_leaf=0.1, splitter=best;, score=0.748 total time=   1.2s\n",
      "[CV 6/10] END max_depth=9, max_features=sqrt, max_leaf_nodes=30, min_samples_leaf=1, min_weight_fraction_leaf=0.1, splitter=best;, score=0.753 total time=   1.2s\n",
      "[CV 7/10] END max_depth=9, max_features=sqrt, max_leaf_nodes=30, min_samples_leaf=1, min_weight_fraction_leaf=0.1, splitter=best;, score=0.723 total time=   1.1s\n",
      "[CV 8/10] END max_depth=9, max_features=sqrt, max_leaf_nodes=30, min_samples_leaf=1, min_weight_fraction_leaf=0.1, splitter=best;, score=0.657 total time=   1.1s\n",
      "[CV 9/10] END max_depth=9, max_features=sqrt, max_leaf_nodes=30, min_samples_leaf=1, min_weight_fraction_leaf=0.1, splitter=best;, score=0.695 total time=   1.0s\n",
      "[CV 10/10] END max_depth=9, max_features=sqrt, max_leaf_nodes=30, min_samples_leaf=1, min_weight_fraction_leaf=0.1, splitter=best;, score=0.617 total time=   1.0s\n",
      "[CV 1/10] END max_depth=12, max_features=log2, max_leaf_nodes=20, min_samples_leaf=5, min_weight_fraction_leaf=0.4, splitter=random;, score=0.520 total time=   0.7s\n",
      "[CV 2/10] END max_depth=12, max_features=log2, max_leaf_nodes=20, min_samples_leaf=5, min_weight_fraction_leaf=0.4, splitter=random;, score=0.550 total time=   0.7s\n",
      "[CV 3/10] END max_depth=12, max_features=log2, max_leaf_nodes=20, min_samples_leaf=5, min_weight_fraction_leaf=0.4, splitter=random;, score=0.500 total time=   0.7s\n",
      "[CV 4/10] END max_depth=12, max_features=log2, max_leaf_nodes=20, min_samples_leaf=5, min_weight_fraction_leaf=0.4, splitter=random;, score=0.551 total time=   0.7s\n",
      "[CV 5/10] END max_depth=12, max_features=log2, max_leaf_nodes=20, min_samples_leaf=5, min_weight_fraction_leaf=0.4, splitter=random;, score=0.500 total time=   0.8s\n",
      "[CV 6/10] END max_depth=12, max_features=log2, max_leaf_nodes=20, min_samples_leaf=5, min_weight_fraction_leaf=0.4, splitter=random;, score=0.481 total time=   0.6s\n",
      "[CV 7/10] END max_depth=12, max_features=log2, max_leaf_nodes=20, min_samples_leaf=5, min_weight_fraction_leaf=0.4, splitter=random;, score=0.543 total time=   0.7s\n",
      "[CV 8/10] END max_depth=12, max_features=log2, max_leaf_nodes=20, min_samples_leaf=5, min_weight_fraction_leaf=0.4, splitter=random;, score=0.500 total time=   0.7s\n",
      "[CV 9/10] END max_depth=12, max_features=log2, max_leaf_nodes=20, min_samples_leaf=5, min_weight_fraction_leaf=0.4, splitter=random;, score=0.521 total time=   0.8s\n",
      "[CV 10/10] END max_depth=12, max_features=log2, max_leaf_nodes=20, min_samples_leaf=5, min_weight_fraction_leaf=0.4, splitter=random;, score=0.500 total time=   0.7s\n"
     ]
    },
    {
     "name": "stdout",
     "output_type": "stream",
     "text": [
      "\n",
      " Time taken: 0 hours 2 minutes and 4.32 seconds.\n"
     ]
    }
   ],
   "source": [
    "start_time = timer(None) # timing starts from this point for \"start_time\" variable\n",
    "random_search_dt.fit(X,y)\n",
    "timer(start_time)"
   ]
  },
  {
   "cell_type": "code",
   "execution_count": 23,
   "id": "a525d80d",
   "metadata": {},
   "outputs": [
    {
     "data": {
      "text/plain": [
       "{'splitter': 'best',\n",
       " 'min_weight_fraction_leaf': 0.1,\n",
       " 'min_samples_leaf': 1,\n",
       " 'max_leaf_nodes': 30,\n",
       " 'max_features': 'sqrt',\n",
       " 'max_depth': 9}"
      ]
     },
     "execution_count": 23,
     "metadata": {},
     "output_type": "execute_result"
    }
   ],
   "source": [
    "random_search_dt.best_params_"
   ]
  },
  {
   "cell_type": "markdown",
   "id": "d1cc5220",
   "metadata": {},
   "source": [
    "# Tuning Adaboost "
   ]
  },
  {
   "cell_type": "code",
   "execution_count": 29,
   "id": "6db5f3ca",
   "metadata": {},
   "outputs": [],
   "source": [
    "param_adb = {\n",
    "    'n_estimators': [2, 3, 4, 5, 6, 7, 8, 9, 10, 11, 12, 20],\n",
    "    'learning_rate': [(0.97 + x / 100) for x in range(0, 8)],\n",
    "    'algorithm': ['SAMME', 'SAMME.R']\n",
    "}"
   ]
  },
  {
   "cell_type": "code",
   "execution_count": 30,
   "id": "65148110",
   "metadata": {},
   "outputs": [],
   "source": [
    "adb = AdaBoostClassifier(random_state=42)\n",
    "random_search_adb=RandomizedSearchCV(adb,param_distributions=param_adb,n_iter=5,scoring='roc_auc',cv=5,verbose=3)"
   ]
  },
  {
   "cell_type": "code",
   "execution_count": 31,
   "id": "6a546f98",
   "metadata": {},
   "outputs": [
    {
     "name": "stdout",
     "output_type": "stream",
     "text": [
      "Fitting 5 folds for each of 5 candidates, totalling 25 fits\n",
      "[CV 1/5] END algorithm=SAMME.R, learning_rate=1.01, n_estimators=5;, score=0.774 total time=  15.6s\n",
      "[CV 2/5] END algorithm=SAMME.R, learning_rate=1.01, n_estimators=5;, score=0.804 total time=  11.9s\n",
      "[CV 3/5] END algorithm=SAMME.R, learning_rate=1.01, n_estimators=5;, score=0.808 total time=  11.7s\n",
      "[CV 4/5] END algorithm=SAMME.R, learning_rate=1.01, n_estimators=5;, score=0.785 total time=  11.6s\n",
      "[CV 5/5] END algorithm=SAMME.R, learning_rate=1.01, n_estimators=5;, score=0.798 total time=  11.6s\n",
      "[CV 1/5] END algorithm=SAMME.R, learning_rate=0.97, n_estimators=7;, score=0.777 total time=  16.1s\n",
      "[CV 2/5] END algorithm=SAMME.R, learning_rate=0.97, n_estimators=7;, score=0.804 total time=  16.1s\n",
      "[CV 3/5] END algorithm=SAMME.R, learning_rate=0.97, n_estimators=7;, score=0.811 total time=  16.1s\n",
      "[CV 4/5] END algorithm=SAMME.R, learning_rate=0.97, n_estimators=7;, score=0.787 total time=  16.2s\n",
      "[CV 5/5] END algorithm=SAMME.R, learning_rate=0.97, n_estimators=7;, score=0.799 total time=  16.4s\n",
      "[CV 1/5] END algorithm=SAMME.R, learning_rate=1.03, n_estimators=5;, score=0.774 total time=  11.7s\n",
      "[CV 2/5] END algorithm=SAMME.R, learning_rate=1.03, n_estimators=5;, score=0.804 total time=  11.8s\n",
      "[CV 3/5] END algorithm=SAMME.R, learning_rate=1.03, n_estimators=5;, score=0.808 total time=  11.9s\n",
      "[CV 4/5] END algorithm=SAMME.R, learning_rate=1.03, n_estimators=5;, score=0.785 total time=  11.8s\n",
      "[CV 5/5] END algorithm=SAMME.R, learning_rate=1.03, n_estimators=5;, score=0.798 total time=  11.7s\n",
      "[CV 1/5] END algorithm=SAMME.R, learning_rate=1.0, n_estimators=3;, score=0.746 total time=   7.4s\n",
      "[CV 2/5] END algorithm=SAMME.R, learning_rate=1.0, n_estimators=3;, score=0.778 total time=   7.4s\n",
      "[CV 3/5] END algorithm=SAMME.R, learning_rate=1.0, n_estimators=3;, score=0.788 total time=   7.3s\n",
      "[CV 4/5] END algorithm=SAMME.R, learning_rate=1.0, n_estimators=3;, score=0.781 total time=   7.3s\n",
      "[CV 5/5] END algorithm=SAMME.R, learning_rate=1.0, n_estimators=3;, score=0.778 total time=   7.3s\n",
      "[CV 1/5] END algorithm=SAMME, learning_rate=1.01, n_estimators=6;, score=0.723 total time=  14.4s\n",
      "[CV 2/5] END algorithm=SAMME, learning_rate=1.01, n_estimators=6;, score=0.739 total time=  14.1s\n",
      "[CV 3/5] END algorithm=SAMME, learning_rate=1.01, n_estimators=6;, score=0.718 total time=  14.2s\n",
      "[CV 4/5] END algorithm=SAMME, learning_rate=1.01, n_estimators=6;, score=0.731 total time=  14.0s\n",
      "[CV 5/5] END algorithm=SAMME, learning_rate=1.01, n_estimators=6;, score=0.736 total time=  14.1s\n",
      "\n",
      " Time taken: 0 hours 5 minutes and 33.79 seconds.\n"
     ]
    }
   ],
   "source": [
    "start_time = timer(None) # timing starts from this point for \"start_time\" variable\n",
    "random_search_adb.fit(X,y)\n",
    "timer(start_time)"
   ]
  },
  {
   "cell_type": "code",
   "execution_count": 32,
   "id": "728ad839",
   "metadata": {},
   "outputs": [
    {
     "data": {
      "text/plain": [
       "{'n_estimators': 7, 'learning_rate': 0.97, 'algorithm': 'SAMME.R'}"
      ]
     },
     "execution_count": 32,
     "metadata": {},
     "output_type": "execute_result"
    }
   ],
   "source": [
    "random_search_adb.best_params_"
   ]
  },
  {
   "cell_type": "markdown",
   "id": "111b26ed",
   "metadata": {},
   "source": [
    "# Tuning SVM"
   ]
  },
  {
   "cell_type": "code",
   "execution_count": 7,
   "id": "4771b09e",
   "metadata": {},
   "outputs": [],
   "source": [
    "param_svm = {'C': [0.1, 1, 10, 100, 1000],\n",
    "              'gamma': [1, 0.1, 0.01, 0.001, 0.0001],\n",
    "              'kernel': ['rbf']}"
   ]
  },
  {
   "cell_type": "code",
   "execution_count": 8,
   "id": "0078e24d",
   "metadata": {},
   "outputs": [],
   "source": [
    "#mcc = make_scorer(matthews_corrcoef)\n",
    "from sklearn.svm import SVC\n",
    "s=SVC()\n",
    "random_search_svc=RandomizedSearchCV(s,param_distributions=param_svm,n_iter=5,scoring='roc_auc',cv=5,verbose=3)"
   ]
  },
  {
   "cell_type": "code",
   "execution_count": 9,
   "id": "4adfe825",
   "metadata": {},
   "outputs": [
    {
     "name": "stdout",
     "output_type": "stream",
     "text": [
      "Fitting 5 folds for each of 5 candidates, totalling 25 fits\n",
      "[CV 1/5] END .........C=10, gamma=1, kernel=rbf;, score=0.500 total time=  43.0s\n",
      "[CV 2/5] END .........C=10, gamma=1, kernel=rbf;, score=0.500 total time=  40.0s\n",
      "[CV 3/5] END .........C=10, gamma=1, kernel=rbf;, score=0.500 total time=  38.1s\n",
      "[CV 4/5] END .........C=10, gamma=1, kernel=rbf;, score=0.500 total time=  35.5s\n",
      "[CV 5/5] END .........C=10, gamma=1, kernel=rbf;, score=0.500 total time=  39.9s\n",
      "[CV 1/5] END ....C=10, gamma=0.0001, kernel=rbf;, score=0.502 total time=  48.5s\n",
      "[CV 2/5] END ....C=10, gamma=0.0001, kernel=rbf;, score=0.503 total time=  39.8s\n",
      "[CV 3/5] END ....C=10, gamma=0.0001, kernel=rbf;, score=0.503 total time=  34.4s\n",
      "[CV 4/5] END ....C=10, gamma=0.0001, kernel=rbf;, score=0.504 total time=  36.2s\n",
      "[CV 5/5] END ....C=10, gamma=0.0001, kernel=rbf;, score=0.503 total time=  33.7s\n",
      "[CV 1/5] END .....C=1000, gamma=0.1, kernel=rbf;, score=0.500 total time=  36.0s\n",
      "[CV 2/5] END .....C=1000, gamma=0.1, kernel=rbf;, score=0.500 total time=  39.0s\n",
      "[CV 3/5] END .....C=1000, gamma=0.1, kernel=rbf;, score=0.500 total time=  34.1s\n",
      "[CV 4/5] END .....C=1000, gamma=0.1, kernel=rbf;, score=0.500 total time=  37.0s\n",
      "[CV 5/5] END .....C=1000, gamma=0.1, kernel=rbf;, score=0.500 total time=  33.5s\n",
      "[CV 1/5] END ...C=0.1, gamma=0.0001, kernel=rbf;, score=0.502 total time=  14.6s\n",
      "[CV 2/5] END ...C=0.1, gamma=0.0001, kernel=rbf;, score=0.502 total time=  13.6s\n",
      "[CV 3/5] END ...C=0.1, gamma=0.0001, kernel=rbf;, score=0.502 total time=  13.2s\n",
      "[CV 4/5] END ...C=0.1, gamma=0.0001, kernel=rbf;, score=0.503 total time=  13.1s\n",
      "[CV 5/5] END ...C=0.1, gamma=0.0001, kernel=rbf;, score=0.502 total time=  13.2s\n",
      "[CV 1/5] END ......C=0.1, gamma=0.1, kernel=rbf;, score=0.500 total time=  13.5s\n",
      "[CV 2/5] END ......C=0.1, gamma=0.1, kernel=rbf;, score=0.500 total time=  13.5s\n",
      "[CV 3/5] END ......C=0.1, gamma=0.1, kernel=rbf;, score=0.500 total time=  13.1s\n",
      "[CV 4/5] END ......C=0.1, gamma=0.1, kernel=rbf;, score=0.500 total time=  13.3s\n",
      "[CV 5/5] END ......C=0.1, gamma=0.1, kernel=rbf;, score=0.500 total time=  13.9s\n",
      "\n",
      " Time taken: 0 hours 13 minutes and 4.46 seconds.\n"
     ]
    }
   ],
   "source": [
    "start_time = timer(None) # timing starts from this point for \"start_time\" variable\n",
    "random_search_svc.fit(X,y)\n",
    "timer(start_time)"
   ]
  },
  {
   "cell_type": "code",
   "execution_count": 10,
   "id": "53103709",
   "metadata": {},
   "outputs": [
    {
     "data": {
      "text/plain": [
       "{'kernel': 'rbf', 'gamma': 0.0001, 'C': 10}"
      ]
     },
     "execution_count": 10,
     "metadata": {},
     "output_type": "execute_result"
    }
   ],
   "source": [
    "random_search_svc.best_params_"
   ]
  },
  {
   "cell_type": "markdown",
   "id": "0802b671",
   "metadata": {},
   "source": [
    "# Tuning GBDT"
   ]
  },
  {
   "cell_type": "code",
   "execution_count": 7,
   "id": "ba305b40",
   "metadata": {},
   "outputs": [],
   "source": [
    "param_gbdt = {'learning_rate': [1, 0.5, 0.25, 0.1, 0.05, 0.01],\n",
    "              'n_estimators': [1, 2, 4, 8, 16, 32, 64, 100, 200],\n",
    "              'max_depth': np.linspace(1, 32, 32, endpoint=True),\n",
    "             'min_samples_split' : np.linspace(0.1, 1.0, 10, endpoint=True),\n",
    "             'min_samples_leaf' : np.linspace(0.1, 0.5, 5, endpoint=True),\n",
    "             'max_features' :  list(range(1,10,2))\n",
    "            }"
   ]
  },
  {
   "cell_type": "code",
   "execution_count": 8,
   "id": "ecc6557e",
   "metadata": {},
   "outputs": [],
   "source": [
    "from sklearn.ensemble import GradientBoostingClassifier\n",
    "gbdt = GradientBoostingClassifier()\n",
    "random_search_gbdt=RandomizedSearchCV(gbdt,param_distributions=param_gbdt,n_iter=5,scoring='roc_auc',cv=5,verbose=3)"
   ]
  },
  {
   "cell_type": "code",
   "execution_count": 9,
   "id": "148af340",
   "metadata": {},
   "outputs": [
    {
     "name": "stdout",
     "output_type": "stream",
     "text": [
      "Fitting 5 folds for each of 5 candidates, totalling 25 fits\n",
      "[CV 1/5] END learning_rate=1, max_depth=24.0, max_features=7, min_samples_leaf=0.1, min_samples_split=0.1, n_estimators=2;, score=0.615 total time=   1.1s\n",
      "[CV 2/5] END learning_rate=1, max_depth=24.0, max_features=7, min_samples_leaf=0.1, min_samples_split=0.1, n_estimators=2;, score=0.655 total time=   1.3s\n",
      "[CV 3/5] END learning_rate=1, max_depth=24.0, max_features=7, min_samples_leaf=0.1, min_samples_split=0.1, n_estimators=2;, score=0.665 total time=   1.2s\n",
      "[CV 4/5] END learning_rate=1, max_depth=24.0, max_features=7, min_samples_leaf=0.1, min_samples_split=0.1, n_estimators=2;, score=0.651 total time=   1.1s\n",
      "[CV 5/5] END learning_rate=1, max_depth=24.0, max_features=7, min_samples_leaf=0.1, min_samples_split=0.1, n_estimators=2;, score=0.637 total time=   1.1s\n",
      "[CV 1/5] END learning_rate=1, max_depth=21.0, max_features=3, min_samples_leaf=0.1, min_samples_split=0.8, n_estimators=1;, score=0.530 total time=   0.8s\n",
      "[CV 2/5] END learning_rate=1, max_depth=21.0, max_features=3, min_samples_leaf=0.1, min_samples_split=0.8, n_estimators=1;, score=0.536 total time=   0.8s\n",
      "[CV 3/5] END learning_rate=1, max_depth=21.0, max_features=3, min_samples_leaf=0.1, min_samples_split=0.8, n_estimators=1;, score=0.625 total time=   0.8s\n",
      "[CV 4/5] END learning_rate=1, max_depth=21.0, max_features=3, min_samples_leaf=0.1, min_samples_split=0.8, n_estimators=1;, score=0.527 total time=   0.8s\n",
      "[CV 5/5] END learning_rate=1, max_depth=21.0, max_features=3, min_samples_leaf=0.1, min_samples_split=0.8, n_estimators=1;, score=0.519 total time=   0.8s\n",
      "[CV 1/5] END learning_rate=0.5, max_depth=11.0, max_features=3, min_samples_leaf=0.1, min_samples_split=1.0, n_estimators=16;, score=0.716 total time=   1.6s\n",
      "[CV 2/5] END learning_rate=0.5, max_depth=11.0, max_features=3, min_samples_leaf=0.1, min_samples_split=1.0, n_estimators=16;, score=0.754 total time=   1.5s\n",
      "[CV 3/5] END learning_rate=0.5, max_depth=11.0, max_features=3, min_samples_leaf=0.1, min_samples_split=1.0, n_estimators=16;, score=0.670 total time=   1.6s\n",
      "[CV 4/5] END learning_rate=0.5, max_depth=11.0, max_features=3, min_samples_leaf=0.1, min_samples_split=1.0, n_estimators=16;, score=0.626 total time=   1.8s\n",
      "[CV 5/5] END learning_rate=0.5, max_depth=11.0, max_features=3, min_samples_leaf=0.1, min_samples_split=1.0, n_estimators=16;, score=0.662 total time=   1.6s\n",
      "[CV 1/5] END learning_rate=1, max_depth=26.0, max_features=5, min_samples_leaf=0.5, min_samples_split=0.1, n_estimators=8;, score=0.537 total time=   1.3s\n",
      "[CV 2/5] END learning_rate=1, max_depth=26.0, max_features=5, min_samples_leaf=0.5, min_samples_split=0.1, n_estimators=8;, score=0.500 total time=   1.2s\n",
      "[CV 3/5] END learning_rate=1, max_depth=26.0, max_features=5, min_samples_leaf=0.5, min_samples_split=0.1, n_estimators=8;, score=0.506 total time=   1.1s\n",
      "[CV 4/5] END learning_rate=1, max_depth=26.0, max_features=5, min_samples_leaf=0.5, min_samples_split=0.1, n_estimators=8;, score=0.549 total time=   1.2s\n",
      "[CV 5/5] END learning_rate=1, max_depth=26.0, max_features=5, min_samples_leaf=0.5, min_samples_split=0.1, n_estimators=8;, score=0.575 total time=   1.3s\n",
      "[CV 1/5] END learning_rate=1, max_depth=21.0, max_features=7, min_samples_leaf=0.2, min_samples_split=0.5, n_estimators=16;, score=0.696 total time=   2.4s\n",
      "[CV 2/5] END learning_rate=1, max_depth=21.0, max_features=7, min_samples_leaf=0.2, min_samples_split=0.5, n_estimators=16;, score=0.672 total time=   2.8s\n",
      "[CV 3/5] END learning_rate=1, max_depth=21.0, max_features=7, min_samples_leaf=0.2, min_samples_split=0.5, n_estimators=16;, score=0.689 total time=   2.5s\n",
      "[CV 4/5] END learning_rate=1, max_depth=21.0, max_features=7, min_samples_leaf=0.2, min_samples_split=0.5, n_estimators=16;, score=0.720 total time=   2.6s\n",
      "[CV 5/5] END learning_rate=1, max_depth=21.0, max_features=7, min_samples_leaf=0.2, min_samples_split=0.5, n_estimators=16;, score=0.663 total time=   2.6s\n",
      "\n",
      " Time taken: 0 hours 0 minutes and 43.54 seconds.\n"
     ]
    }
   ],
   "source": [
    "start_time = timer(None) # timing starts from this point for \"start_time\" variable\n",
    "random_search_gbdt.fit(X,y)\n",
    "timer(start_time)"
   ]
  },
  {
   "cell_type": "code",
   "execution_count": 10,
   "id": "94da05e2",
   "metadata": {},
   "outputs": [
    {
     "data": {
      "text/plain": [
       "{'n_estimators': 16,\n",
       " 'min_samples_split': 0.5,\n",
       " 'min_samples_leaf': 0.2,\n",
       " 'max_features': 7,\n",
       " 'max_depth': 21.0,\n",
       " 'learning_rate': 1}"
      ]
     },
     "execution_count": 10,
     "metadata": {},
     "output_type": "execute_result"
    }
   ],
   "source": [
    "random_search_gbdt.best_params_"
   ]
  },
  {
   "cell_type": "markdown",
   "id": "99be02d0",
   "metadata": {},
   "source": [
    "# Predicting with Best Parameters"
   ]
  },
  {
   "cell_type": "code",
   "execution_count": 2,
   "id": "a0a8ee1a",
   "metadata": {},
   "outputs": [],
   "source": [
    "df = pd.read_csv('final_df_train_3.0.csv')\n",
    "df.fillna(0,inplace=True)"
   ]
  },
  {
   "cell_type": "code",
   "execution_count": 3,
   "id": "a87fb642",
   "metadata": {},
   "outputs": [],
   "source": [
    "df.drop(['mindate_id_diff_reverse','mindate_id_diff','Unnamed: 0','kurtosis','max_num_value','skewness','skewness_imp_st','mean_num_value','sum_num_value_imp_st','sum_num_value','mean_num_value_imp_st'],axis=1,inplace=True)"
   ]
  },
  {
   "cell_type": "code",
   "execution_count": 4,
   "id": "c1a0d933",
   "metadata": {},
   "outputs": [],
   "source": [
    "df_test = pd.read_csv('final_df_test_3.0.csv')\n",
    "df_test.fillna(0,inplace=True)\n",
    "df_test.drop(['mindate_id_diff_reverse','mindate_id_diff','Unnamed: 0','kurtosis','max_num_value','skewness','skewness_imp_st','mean_num_value','sum_num_value_imp_st','sum_num_value','mean_num_value_imp_st'],axis=1,inplace=True)"
   ]
  },
  {
   "cell_type": "code",
   "execution_count": 5,
   "id": "b835caa3",
   "metadata": {},
   "outputs": [],
   "source": [
    "X_train, X_test, y_train, y_test = train_test_split(df.drop([\"Id\",\"Response\"], axis=1),df[\"Response\"],test_size=0.2, random_state=42, shuffle=True)"
   ]
  },
  {
   "cell_type": "code",
   "execution_count": 6,
   "id": "38605b52",
   "metadata": {},
   "outputs": [],
   "source": [
    "model_xgb=xgb.XGBClassifier(booster='gbtree', colsample_bylevel=1,\n",
    "       colsample_bytree=0.3, gamma=3.2, learning_rate=0.5,\n",
    "       max_delta_step=0, max_depth=3, min_child_weight=12, missing=1,\n",
    "       n_estimators=65, n_jobs=1,random_state=0,\n",
    "       objective='binary:logistic', reg_alpha=1.6,\n",
    "       reg_lambda=0.2, scale_pos_weight=1, seed=None, silent=True,\n",
    "       subsample=1,use_label_encoder=False)"
   ]
  },
  {
   "cell_type": "code",
   "execution_count": 7,
   "id": "7efa84da",
   "metadata": {},
   "outputs": [
    {
     "name": "stdout",
     "output_type": "stream",
     "text": [
      "[17:44:32] WARNING: C:/Users/Administrator/workspace/xgboost-win64_release_1.4.0/src/learner.cc:573: \n",
      "Parameters: { \"silent\" } might not be used.\n",
      "\n",
      "  This may not be accurate due to some parameters are only used in language bindings but\n",
      "  passed down to XGBoost core.  Or some parameters are not used but slip through this\n",
      "  verification. Please open an issue if you find above cases.\n",
      "\n",
      "\n",
      "[17:44:43] WARNING: C:/Users/Administrator/workspace/xgboost-win64_release_1.4.0/src/learner.cc:1095: Starting in XGBoost 1.3.0, the default evaluation metric used with the objective 'binary:logistic' was changed from 'error' to 'logloss'. Explicitly set eval_metric if you'd like to restore the old behavior.\n"
     ]
    },
    {
     "data": {
      "text/plain": [
       "XGBClassifier(base_score=0.5, booster='gbtree', colsample_bylevel=1,\n",
       "              colsample_bynode=1, colsample_bytree=0.3, gamma=3.2, gpu_id=-1,\n",
       "              importance_type='gain', interaction_constraints='',\n",
       "              learning_rate=0.5, max_delta_step=0, max_depth=3,\n",
       "              min_child_weight=12, missing=1, monotone_constraints='()',\n",
       "              n_estimators=65, n_jobs=1, num_parallel_tree=1, random_state=0,\n",
       "              reg_alpha=1.6, reg_lambda=0.2, scale_pos_weight=1, seed=0,\n",
       "              silent=True, subsample=1, tree_method='exact',\n",
       "              use_label_encoder=False, validate_parameters=1, verbosity=None)"
      ]
     },
     "execution_count": 7,
     "metadata": {},
     "output_type": "execute_result"
    }
   ],
   "source": [
    "model_xgb.fit(X_train,y_train)"
   ]
  },
  {
   "cell_type": "code",
   "execution_count": 8,
   "id": "fd92b6d4",
   "metadata": {},
   "outputs": [
    {
     "data": {
      "text/plain": [
       "0.22742238704879816"
      ]
     },
     "execution_count": 8,
     "metadata": {},
     "output_type": "execute_result"
    }
   ],
   "source": [
    "y_pred_train = model_xgb.predict(X_train)\n",
    "matthews_corrcoef(y_train,y_pred_train)"
   ]
  },
  {
   "cell_type": "code",
   "execution_count": 9,
   "id": "b7743596",
   "metadata": {},
   "outputs": [
    {
     "data": {
      "text/plain": [
       "0.1976596290376057"
      ]
     },
     "execution_count": 9,
     "metadata": {},
     "output_type": "execute_result"
    }
   ],
   "source": [
    "y_pred_test = model_xgb.predict(X_test)\n",
    "matthews_corrcoef(y_test,y_pred_test)"
   ]
  },
  {
   "cell_type": "code",
   "execution_count": 8,
   "id": "fd7924ed",
   "metadata": {},
   "outputs": [
    {
     "data": {
      "text/plain": [
       "0.32553513989186117"
      ]
     },
     "execution_count": 8,
     "metadata": {},
     "output_type": "execute_result"
    }
   ],
   "source": [
    "y_pred_train = model_xgb.predict(X_train)\n",
    "matthews_corrcoef(y_train,y_pred_train)"
   ]
  },
  {
   "cell_type": "code",
   "execution_count": 9,
   "id": "d11cfc7a",
   "metadata": {},
   "outputs": [
    {
     "data": {
      "text/plain": [
       "0.3034725677187602"
      ]
     },
     "execution_count": 9,
     "metadata": {},
     "output_type": "execute_result"
    }
   ],
   "source": [
    "y_pred_test = model_xgb.predict(X_test)\n",
    "matthews_corrcoef(y_test,y_pred_test)"
   ]
  },
  {
   "cell_type": "code",
   "execution_count": 11,
   "id": "ec3083ff",
   "metadata": {},
   "outputs": [],
   "source": [
    "y_pred = model_xgb.predict(df_test.drop(\"Id\",axis=1))"
   ]
  },
  {
   "cell_type": "code",
   "execution_count": 13,
   "id": "79e959e2",
   "metadata": {},
   "outputs": [
    {
     "data": {
      "text/plain": [
       "953"
      ]
     },
     "execution_count": 13,
     "metadata": {},
     "output_type": "execute_result"
    }
   ],
   "source": [
    "#kaggle score 0.30703\n",
    "c=0\n",
    "for i in y_pred:\n",
    "    if i == 1:\n",
    "        c+=1\n",
    "c"
   ]
  },
  {
   "cell_type": "code",
   "execution_count": 14,
   "id": "e2ed425e",
   "metadata": {},
   "outputs": [],
   "source": [
    "submission = pd.DataFrame({\"Id\": df_test.Id.values,\n",
    "                               \"Response\": y_pred})\n",
    "submission[['Id', 'Response']].to_csv('xgbsubmission.csv',\n",
    "                                          index=False)"
   ]
  },
  {
   "cell_type": "markdown",
   "id": "29fe9a48",
   "metadata": {},
   "source": [
    "# Random Forest"
   ]
  },
  {
   "cell_type": "code",
   "execution_count": null,
   "id": "b0e4f183",
   "metadata": {},
   "outputs": [],
   "source": [
    "{'n_estimators': 1800,\n",
    " 'min_samples_split': 10,\n",
    " 'min_samples_leaf': 2,\n",
    " 'max_features': 'sqrt',\n",
    " 'max_depth': 10,\n",
    " 'bootstrap': True}"
   ]
  },
  {
   "cell_type": "code",
   "execution_count": 7,
   "id": "13e57e87",
   "metadata": {},
   "outputs": [],
   "source": [
    "model_rf=RandomForestClassifier(n_estimators=1800,min_samples_split=10,min_samples_leaf=2,max_features='sqrt',max_depth=10,bootstrap=True)"
   ]
  },
  {
   "cell_type": "code",
   "execution_count": 8,
   "id": "250e8eba",
   "metadata": {},
   "outputs": [
    {
     "data": {
      "text/plain": [
       "RandomForestClassifier(max_depth=10, max_features='sqrt', min_samples_leaf=2,\n",
       "                       min_samples_split=10, n_estimators=1800)"
      ]
     },
     "execution_count": 8,
     "metadata": {},
     "output_type": "execute_result"
    }
   ],
   "source": [
    "model_rf.fit(X_train,y_train)"
   ]
  },
  {
   "cell_type": "code",
   "execution_count": 9,
   "id": "d96875d0",
   "metadata": {},
   "outputs": [
    {
     "data": {
      "text/plain": [
       "0.23748450253523393"
      ]
     },
     "execution_count": 9,
     "metadata": {},
     "output_type": "execute_result"
    }
   ],
   "source": [
    "y_pred_train = model_rf.predict(X_train)\n",
    "matthews_corrcoef(y_train,y_pred_train)"
   ]
  },
  {
   "cell_type": "code",
   "execution_count": 10,
   "id": "bf15ef9a",
   "metadata": {},
   "outputs": [
    {
     "data": {
      "text/plain": [
       "0.19808074357467986"
      ]
     },
     "execution_count": 10,
     "metadata": {},
     "output_type": "execute_result"
    }
   ],
   "source": [
    "y_pred_test = model_rf.predict(X_test)\n",
    "matthews_corrcoef(y_test,y_pred_test)"
   ]
  },
  {
   "cell_type": "code",
   "execution_count": 11,
   "id": "d90d1eae",
   "metadata": {},
   "outputs": [],
   "source": [
    "y_pred = model_rf.predict(df_test.drop(\"Id\",axis=1))"
   ]
  },
  {
   "cell_type": "code",
   "execution_count": 12,
   "id": "1db9643e",
   "metadata": {},
   "outputs": [
    {
     "data": {
      "text/plain": [
       "310"
      ]
     },
     "execution_count": 12,
     "metadata": {},
     "output_type": "execute_result"
    }
   ],
   "source": [
    "c=0\n",
    "for i in y_pred:\n",
    "    if i == 1:\n",
    "        c+=1\n",
    "c"
   ]
  },
  {
   "cell_type": "code",
   "execution_count": 13,
   "id": "39a25cc1",
   "metadata": {},
   "outputs": [],
   "source": [
    "submission = pd.DataFrame({\"Id\": df_test.Id.values,\n",
    "                               \"Response\": y_pred})\n",
    "submission[['Id', 'Response']].to_csv('rfsubmission.csv',\n",
    "                                          index=False)"
   ]
  },
  {
   "cell_type": "markdown",
   "id": "c7ccdcbc",
   "metadata": {},
   "source": [
    "# Light GBM"
   ]
  },
  {
   "cell_type": "code",
   "execution_count": 17,
   "id": "42c8331b",
   "metadata": {},
   "outputs": [],
   "source": [
    "model_lgb = lgb.LGBMClassifier(colsample_bytree= 0.43455527965836527,\n",
    " min_child_samples= 198,\n",
    " min_child_weight= 10.0,\n",
    " num_leaves= 12,\n",
    " reg_alpha= 0.1,\n",
    " reg_lambda= 0.1,\n",
    " subsample= 0.36181919064442924)"
   ]
  },
  {
   "cell_type": "code",
   "execution_count": 18,
   "id": "69f9695e",
   "metadata": {},
   "outputs": [
    {
     "data": {
      "text/plain": [
       "LGBMClassifier(colsample_bytree=0.43455527965836527, min_child_samples=198,\n",
       "               min_child_weight=10.0, num_leaves=12, reg_alpha=0.1,\n",
       "               reg_lambda=0.1, subsample=0.36181919064442924)"
      ]
     },
     "execution_count": 18,
     "metadata": {},
     "output_type": "execute_result"
    }
   ],
   "source": [
    "model_lgb.fit(X_train,y_train)"
   ]
  },
  {
   "cell_type": "code",
   "execution_count": 19,
   "id": "4b17183e",
   "metadata": {},
   "outputs": [
    {
     "data": {
      "text/plain": [
       "0.3211997158771233"
      ]
     },
     "execution_count": 19,
     "metadata": {},
     "output_type": "execute_result"
    }
   ],
   "source": [
    "y_pred_train = model_lgb.predict(X_train)\n",
    "matthews_corrcoef(y_train,y_pred_train)"
   ]
  },
  {
   "cell_type": "code",
   "execution_count": 20,
   "id": "a781c4ba",
   "metadata": {},
   "outputs": [
    {
     "data": {
      "text/plain": [
       "0.3033726979155154"
      ]
     },
     "execution_count": 20,
     "metadata": {},
     "output_type": "execute_result"
    }
   ],
   "source": [
    "y_pred_test = model_lgb.predict(X_test)\n",
    "matthews_corrcoef(y_test,y_pred_test)"
   ]
  },
  {
   "cell_type": "code",
   "execution_count": 21,
   "id": "25b8bb24",
   "metadata": {},
   "outputs": [],
   "source": [
    "y_pred = model_lgb.predict(df_test.drop(\"Id\",axis=1))"
   ]
  },
  {
   "cell_type": "code",
   "execution_count": 22,
   "id": "59813b0f",
   "metadata": {},
   "outputs": [
    {
     "data": {
      "text/plain": [
       "941"
      ]
     },
     "execution_count": 22,
     "metadata": {},
     "output_type": "execute_result"
    }
   ],
   "source": [
    "#kaggle score  0.30381\n",
    "c=0\n",
    "for i in y_pred:\n",
    "    if i == 1:\n",
    "        c+=1\n",
    "c"
   ]
  },
  {
   "cell_type": "code",
   "execution_count": 23,
   "id": "2da2f4ba",
   "metadata": {},
   "outputs": [],
   "source": [
    "submission = pd.DataFrame({\"Id\": df_test.Id.values,\n",
    "                               \"Response\": y_pred})\n",
    "submission[['Id', 'Response']].to_csv('lgbsubmission final'+'.csv',\n",
    "                                          index=False)"
   ]
  },
  {
   "cell_type": "markdown",
   "id": "3dec1007",
   "metadata": {},
   "source": [
    "# AdaBoost"
   ]
  },
  {
   "cell_type": "code",
   "execution_count": 24,
   "id": "33426a3a",
   "metadata": {},
   "outputs": [],
   "source": [
    "adb = AdaBoostClassifier(n_estimators=7,learning_rate=0.97,algorithm='SAMME.R')"
   ]
  },
  {
   "cell_type": "code",
   "execution_count": 27,
   "id": "201fac1f",
   "metadata": {},
   "outputs": [
    {
     "data": {
      "text/plain": [
       "AdaBoostClassifier(learning_rate=0.97, n_estimators=7)"
      ]
     },
     "execution_count": 27,
     "metadata": {},
     "output_type": "execute_result"
    }
   ],
   "source": [
    "adb.fit(X_train,y_train)"
   ]
  },
  {
   "cell_type": "code",
   "execution_count": 29,
   "id": "a0c71536",
   "metadata": {},
   "outputs": [
    {
     "data": {
      "text/plain": [
       "0.22178350926090884"
      ]
     },
     "execution_count": 29,
     "metadata": {},
     "output_type": "execute_result"
    }
   ],
   "source": [
    "y_pred_train = adb.predict(X_train)\n",
    "matthews_corrcoef(y_train,y_pred_train)"
   ]
  },
  {
   "cell_type": "code",
   "execution_count": 30,
   "id": "029e15cb",
   "metadata": {},
   "outputs": [
    {
     "data": {
      "text/plain": [
       "0.20683896613710062"
      ]
     },
     "execution_count": 30,
     "metadata": {},
     "output_type": "execute_result"
    }
   ],
   "source": [
    "y_pred_test = adb.predict(X_test)\n",
    "matthews_corrcoef(y_test,y_pred_test)"
   ]
  },
  {
   "cell_type": "code",
   "execution_count": 31,
   "id": "045e768d",
   "metadata": {},
   "outputs": [],
   "source": [
    "y_pred = adb.predict(df_test.drop(\"Id\",axis=1))"
   ]
  },
  {
   "cell_type": "code",
   "execution_count": 32,
   "id": "74094415",
   "metadata": {},
   "outputs": [
    {
     "data": {
      "text/plain": [
       "556"
      ]
     },
     "execution_count": 32,
     "metadata": {},
     "output_type": "execute_result"
    }
   ],
   "source": [
    "#kaggle score  0.21444\n",
    "c=0\n",
    "for i in y_pred:\n",
    "    if i == 1:\n",
    "        c+=1\n",
    "c"
   ]
  },
  {
   "cell_type": "code",
   "execution_count": 33,
   "id": "a8efdd0d",
   "metadata": {},
   "outputs": [],
   "source": [
    "submission = pd.DataFrame({\"Id\": df_test.Id.values,\n",
    "                               \"Response\": y_pred})\n",
    "submission[['Id', 'Response']].to_csv('adbsubmission final'+'.csv',\n",
    "                                          index=False)"
   ]
  },
  {
   "cell_type": "markdown",
   "id": "52e7754c",
   "metadata": {},
   "source": [
    "# DecisionTree"
   ]
  },
  {
   "cell_type": "code",
   "execution_count": 34,
   "id": "4806845e",
   "metadata": {},
   "outputs": [],
   "source": [
    "model_dt=DecisionTreeClassifier(splitter='best',min_weight_fraction_leaf=0.1,min_samples_leaf=1,max_leaf_nodes=30,max_features='sqrt',max_depth=9)"
   ]
  },
  {
   "cell_type": "code",
   "execution_count": 35,
   "id": "4460cff6",
   "metadata": {},
   "outputs": [
    {
     "data": {
      "text/plain": [
       "DecisionTreeClassifier(max_depth=9, max_features='sqrt', max_leaf_nodes=30,\n",
       "                       min_weight_fraction_leaf=0.1)"
      ]
     },
     "execution_count": 35,
     "metadata": {},
     "output_type": "execute_result"
    }
   ],
   "source": [
    "model_dt.fit(X_train,y_train)"
   ]
  },
  {
   "cell_type": "code",
   "execution_count": 36,
   "id": "6a8fc2ea",
   "metadata": {},
   "outputs": [
    {
     "name": "stderr",
     "output_type": "stream",
     "text": [
      "C:\\Users\\Debasish Pradhan\\anaconda3\\lib\\site-packages\\sklearn\\metrics\\_classification.py:873: RuntimeWarning: invalid value encountered in double_scalars\n",
      "  mcc = cov_ytyp / np.sqrt(cov_ytyt * cov_ypyp)\n"
     ]
    },
    {
     "data": {
      "text/plain": [
       "0.0"
      ]
     },
     "execution_count": 36,
     "metadata": {},
     "output_type": "execute_result"
    }
   ],
   "source": [
    "y_pred_train = model_dt.predict(X_train)\n",
    "matthews_corrcoef(y_train,y_pred_train)"
   ]
  },
  {
   "cell_type": "code",
   "execution_count": 37,
   "id": "e86e88cd",
   "metadata": {},
   "outputs": [
    {
     "name": "stderr",
     "output_type": "stream",
     "text": [
      "C:\\Users\\Debasish Pradhan\\anaconda3\\lib\\site-packages\\sklearn\\metrics\\_classification.py:873: RuntimeWarning: invalid value encountered in double_scalars\n",
      "  mcc = cov_ytyp / np.sqrt(cov_ytyt * cov_ypyp)\n"
     ]
    },
    {
     "data": {
      "text/plain": [
       "0.0"
      ]
     },
     "execution_count": 37,
     "metadata": {},
     "output_type": "execute_result"
    }
   ],
   "source": [
    "y_pred_test = model_dt.predict(X_test)\n",
    "matthews_corrcoef(y_test,y_pred_test)"
   ]
  },
  {
   "cell_type": "markdown",
   "id": "adcfdf3b",
   "metadata": {},
   "source": [
    "# GBDT"
   ]
  },
  {
   "cell_type": "code",
   "execution_count": 6,
   "id": "a1947d6f",
   "metadata": {},
   "outputs": [],
   "source": [
    "gbdt = GradientBoostingClassifier(n_estimators=16,min_samples_split=0.5,min_samples_leaf=0.2,max_features=7,max_depth=21.0,learning_rate=1)"
   ]
  },
  {
   "cell_type": "code",
   "execution_count": 7,
   "id": "83702452",
   "metadata": {},
   "outputs": [
    {
     "data": {
      "text/plain": [
       "GradientBoostingClassifier(learning_rate=1, max_depth=21.0, max_features=7,\n",
       "                           min_samples_leaf=0.2, min_samples_split=0.5,\n",
       "                           n_estimators=16)"
      ]
     },
     "execution_count": 7,
     "metadata": {},
     "output_type": "execute_result"
    }
   ],
   "source": [
    "gbdt.fit(X_train,y_train)"
   ]
  },
  {
   "cell_type": "code",
   "execution_count": 8,
   "id": "89c72f77",
   "metadata": {},
   "outputs": [
    {
     "name": "stderr",
     "output_type": "stream",
     "text": [
      "C:\\Users\\Debasish Pradhan\\anaconda3\\lib\\site-packages\\sklearn\\metrics\\_classification.py:873: RuntimeWarning: invalid value encountered in double_scalars\n",
      "  mcc = cov_ytyp / np.sqrt(cov_ytyt * cov_ypyp)\n"
     ]
    },
    {
     "data": {
      "text/plain": [
       "0.0"
      ]
     },
     "execution_count": 8,
     "metadata": {},
     "output_type": "execute_result"
    }
   ],
   "source": [
    "y_pred_train = gbdt.predict(X_train)\n",
    "matthews_corrcoef(y_train,y_pred_train)"
   ]
  },
  {
   "cell_type": "code",
   "execution_count": 9,
   "id": "0c8b527f",
   "metadata": {},
   "outputs": [
    {
     "name": "stderr",
     "output_type": "stream",
     "text": [
      "C:\\Users\\Debasish Pradhan\\anaconda3\\lib\\site-packages\\sklearn\\metrics\\_classification.py:873: RuntimeWarning: invalid value encountered in double_scalars\n",
      "  mcc = cov_ytyp / np.sqrt(cov_ytyt * cov_ypyp)\n"
     ]
    },
    {
     "data": {
      "text/plain": [
       "0.0"
      ]
     },
     "execution_count": 9,
     "metadata": {},
     "output_type": "execute_result"
    }
   ],
   "source": [
    "y_pred_test = gbdt.predict(X_test)\n",
    "matthews_corrcoef(y_test,y_pred_test)"
   ]
  }
 ],
 "metadata": {
  "kernelspec": {
   "display_name": "Python 3 (ipykernel)",
   "language": "python",
   "name": "python3"
  },
  "language_info": {
   "codemirror_mode": {
    "name": "ipython",
    "version": 3
   },
   "file_extension": ".py",
   "mimetype": "text/x-python",
   "name": "python",
   "nbconvert_exporter": "python",
   "pygments_lexer": "ipython3",
   "version": "3.8.5"
  }
 },
 "nbformat": 4,
 "nbformat_minor": 5
}

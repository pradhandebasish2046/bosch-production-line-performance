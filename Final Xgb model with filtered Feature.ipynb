{
 "cells": [
  {
   "cell_type": "code",
   "execution_count": 1,
   "id": "94abc41d",
   "metadata": {},
   "outputs": [
    {
     "data": {
      "text/html": [
       "<style type='text/css'>\n",
       ".datatable table.frame { margin-bottom: 0; }\n",
       ".datatable table.frame thead { border-bottom: none; }\n",
       ".datatable table.frame tr.coltypes td {  color: #FFFFFF;  line-height: 6px;  padding: 0 0.5em;}\n",
       ".datatable .bool    { background: #DDDD99; }\n",
       ".datatable .object  { background: #565656; }\n",
       ".datatable .int     { background: #5D9E5D; }\n",
       ".datatable .float   { background: #4040CC; }\n",
       ".datatable .str     { background: #CC4040; }\n",
       ".datatable .time    { background: #40CC40; }\n",
       ".datatable .row_index {  background: var(--jp-border-color3);  border-right: 1px solid var(--jp-border-color0);  color: var(--jp-ui-font-color3);  font-size: 9px;}\n",
       ".datatable .frame tbody td { text-align: left; }\n",
       ".datatable .frame tr.coltypes .row_index {  background: var(--jp-border-color0);}\n",
       ".datatable th:nth-child(2) { padding-left: 12px; }\n",
       ".datatable .hellipsis {  color: var(--jp-cell-editor-border-color);}\n",
       ".datatable .vellipsis {  background: var(--jp-layout-color0);  color: var(--jp-cell-editor-border-color);}\n",
       ".datatable .na {  color: var(--jp-cell-editor-border-color);  font-size: 80%;}\n",
       ".datatable .sp {  opacity: 0.25;}\n",
       ".datatable .footer { font-size: 9px; }\n",
       ".datatable .frame_dimensions {  background: var(--jp-border-color3);  border-top: 1px solid var(--jp-border-color0);  color: var(--jp-ui-font-color3);  display: inline-block;  opacity: 0.6;  padding: 1px 10px 1px 5px;}\n",
       "</style>\n"
      ],
      "text/plain": [
       "<IPython.core.display.HTML object>"
      ]
     },
     "metadata": {},
     "output_type": "display_data"
    }
   ],
   "source": [
    "import numpy as np\n",
    "import pandas as pd\n",
    "import matplotlib.pyplot as plt\n",
    "import datatable as dt\n",
    "from tqdm import tqdm\n",
    "from sklearn.preprocessing import LabelEncoder\n",
    "from datatable.models import Ftrl\n",
    "import joblib"
   ]
  },
  {
   "cell_type": "code",
   "execution_count": null,
   "id": "5dccc6e1",
   "metadata": {},
   "outputs": [],
   "source": [
    "http://localhost:5000"
   ]
  },
  {
   "cell_type": "code",
   "execution_count": 2,
   "id": "e025f3ca",
   "metadata": {},
   "outputs": [],
   "source": [
    "'''df_cat = pd.read_csv(\"C:\\\\OBS Studio\\\\self_case_study_file\\\\test_categorical.csv\",nrows=10,low_memory = False)\n",
    "df_nume = pd.read_csv(\"C:\\\\OBS Studio\\\\self_case_study_file\\\\test_numeric.csv\",nrows=10,low_memory = False)\n",
    "df_date = pd.read_csv(\"C:\\\\OBS Studio\\\\self_case_study_file\\\\test_date.csv\",nrows=10,low_memory = False)\n",
    "\n",
    "joblib.dump(df_cat.columns,'pkl_files/categorical_columns')\n",
    "joblib.dump(df_nume.columns,'pkl_files/numerical_columns')\n",
    "joblib.dump(df_date.columns,'pkl_files/date_columns')'''"
   ]
  },
  {
   "cell_type": "code",
   "execution_count": 2,
   "id": "482580aa",
   "metadata": {},
   "outputs": [
    {
     "name": "stderr",
     "output_type": "stream",
     "text": [
      "119it [02:53,  1.46s/it]\n"
     ]
    },
    {
     "data": {
      "text/plain": [
       "1978"
      ]
     },
     "execution_count": 2,
     "metadata": {},
     "output_type": "execute_result"
    }
   ],
   "source": [
    "df = pd.read_csv(\"C:\\\\OBS Studio\\\\self_case_study_file\\\\test_categorical.csv\",nrows=100,low_memory = False)\n",
    "columns = df.columns\n",
    "lst = [0]*len(columns)\n",
    "\n",
    "#This for loop counts the no of products passes through each sation\n",
    "for chunk_df in tqdm(pd.read_csv('C:\\\\OBS Studio\\\\self_case_study_file\\\\train_categorical.csv.zip',iterator=True, chunksize=10000,compression='zip',low_memory=False)):\n",
    "    val = []\n",
    "    columns = chunk_df.columns\n",
    "    for i in columns:\n",
    "        col = pd.Series(chunk_df[i])\n",
    "        n = col.count()\n",
    "        val.append(n)\n",
    "    for i in range(len(lst)):\n",
    "        lst[i] += val[i]\n",
    "d = dict()#creating a dictionary where key is column name and value is the no of product passes through that line\n",
    "for i in range(len(df.columns)):\n",
    "    d[df.columns[i]] = lst[i]\n",
    "imp_cols = []\n",
    "for k,v in d.items():\n",
    "    if v != 0:\n",
    "        imp_cols.append(k)\n",
    "len(imp_cols)"
   ]
  },
  {
   "cell_type": "code",
   "execution_count": 18,
   "id": "a1abb853",
   "metadata": {},
   "outputs": [
    {
     "data": {
      "text/plain": [
       "(100, 1978)"
      ]
     },
     "execution_count": 18,
     "metadata": {},
     "output_type": "execute_result"
    }
   ],
   "source": [
    "a = df[list(imp_cols)]\n",
    "a.shape"
   ]
  },
  {
   "cell_type": "code",
   "execution_count": 20,
   "id": "bb51cd9d",
   "metadata": {},
   "outputs": [
    {
     "data": {
      "text/plain": [
       "['cat_data_imp_cols.pkl']"
      ]
     },
     "execution_count": 20,
     "metadata": {},
     "output_type": "execute_result"
    }
   ],
   "source": [
    "cat_data_cols = list(df.columns)\n",
    "joblib.dump(cat_data_cols,'cat_data_cols.pkl')\n",
    "joblib.dump(imp_cols,'cat_data_imp_cols.pkl')"
   ]
  },
  {
   "cell_type": "code",
   "execution_count": 3,
   "id": "dde9843b",
   "metadata": {},
   "outputs": [
    {
     "data": {
      "text/plain": [
       "\"#extracting all categories from train data\\nall_categories = []\\nfor chunk_df in tqdm(pd.read_csv('C:\\\\OBS Studio\\\\self_case_study_file\\\\train_categorical.csv.zip',iterator=True, chunksize=10000,compression='zip',low_memory=False)):\\n    for i in range(len(chunk_df)):\\n        row = chunk_df.iloc[i]\\n        for j in row[1:]:\\n            if str(j) != 'nan':\\n                if j not in all_categories:\\n                    all_categories.append(j)\\nall_categories.append('not_passed')\""
      ]
     },
     "execution_count": 3,
     "metadata": {},
     "output_type": "execute_result"
    }
   ],
   "source": [
    "'''#extracting all categories from train data\n",
    "all_categories = []\n",
    "for chunk_df in tqdm(pd.read_csv('C:\\\\OBS Studio\\\\self_case_study_file\\\\train_categorical.csv.zip',iterator=True, chunksize=10000,compression='zip',low_memory=False)):\n",
    "    for i in range(len(chunk_df)):\n",
    "        row = chunk_df.iloc[i]\n",
    "        for j in row[1:]:\n",
    "            if str(j) != 'nan':\n",
    "                if j not in all_categories:\n",
    "                    all_categories.append(j)\n",
    "all_categories.append('not_passed')'''"
   ]
  },
  {
   "cell_type": "code",
   "execution_count": null,
   "id": "54f67887",
   "metadata": {},
   "outputs": [],
   "source": [
    "'''#Numerical to categorical for train data\n",
    "from sklearn.preprocessing import OrdinalEncoder\n",
    "encoder = OrdinalEncoder(handle_unknown='use_encoded_value',unknown_value=-1)\n",
    "encoder.fit(np.array(all_categories).reshape(-1,1))'''"
   ]
  },
  {
   "cell_type": "code",
   "execution_count": null,
   "id": "80eaa811",
   "metadata": {},
   "outputs": [],
   "source": [
    "#joblib.dump(encoder, 'OrdinalEncoder.pkl')"
   ]
  },
  {
   "cell_type": "code",
   "execution_count": 6,
   "id": "0694b453",
   "metadata": {},
   "outputs": [
    {
     "name": "stdout",
     "output_type": "stream",
     "text": [
      "Wall time: 1e+03 µs\n"
     ]
    }
   ],
   "source": [
    "%%time\n",
    "encoder = joblib.load('OrdinalEncoder.pkl')"
   ]
  },
  {
   "cell_type": "code",
   "execution_count": 7,
   "id": "fd518414",
   "metadata": {},
   "outputs": [
    {
     "name": "stderr",
     "output_type": "stream",
     "text": [
      "119it [38:11, 19.25s/it]\n"
     ]
    }
   ],
   "source": [
    "#Numerical to categorical for train data\n",
    "first_itr = None\n",
    "for chunk_df in tqdm(pd.read_csv('C:\\\\OBS Studio\\\\self_case_study_file\\\\train_categorical.csv.zip',usecols = imp_cols, iterator=True, chunksize=10000,compression='zip',low_memory=False)):\n",
    "    chunk_df = chunk_df.fillna('not_passed') #replacing all the nan values with not_passed category\n",
    "    chunk_df = chunk_df.drop('Id',axis=1)\n",
    "    for i in range(len(chunk_df)):\n",
    "        row = encoder.transform(np.array(chunk_df.iloc[i]).reshape(-1,1))\n",
    "        chunk_df.iloc[i] = row.reshape(1,-1)[0]\n",
    "    chunk_df = chunk_df.astype('int32')\n",
    "    if first_itr is None:\n",
    "        chunk_dt = dt.Frame(chunk_df) #convertinf pandas dataframe to datatables\n",
    "        first_itr = 'Not None'\n",
    "    else:\n",
    "        dt_ = dt.Frame(chunk_df)\n",
    "        chunk_dt.rbind(dt_)#joining all the dataset"
   ]
  },
  {
   "cell_type": "code",
   "execution_count": 8,
   "id": "8b642610",
   "metadata": {},
   "outputs": [],
   "source": [
    "'''chunk_dt.to_csv(\"cat_to_nume.csv\")'''"
   ]
  },
  {
   "cell_type": "code",
   "execution_count": 32,
   "id": "4a8b592b",
   "metadata": {},
   "outputs": [
    {
     "data": {
      "text/plain": [
       "['min_val_each_col_in_cat_data.pkl']"
      ]
     },
     "execution_count": 32,
     "metadata": {},
     "output_type": "execute_result"
    }
   ],
   "source": [
    "#joblib.dump(min_val,'min_val_each_col_in_cat_data.pkl')"
   ]
  },
  {
   "cell_type": "code",
   "execution_count": 2,
   "id": "912331c9",
   "metadata": {},
   "outputs": [],
   "source": [
    "train = dt.fread('cat_to_nume.csv')"
   ]
  },
  {
   "cell_type": "code",
   "execution_count": 4,
   "id": "5f8c3811",
   "metadata": {},
   "outputs": [
    {
     "name": "stderr",
     "output_type": "stream",
     "text": [
      "100%|██████████████████████████████████████████████████████████████████████████████| 1977/1977 [00:49<00:00, 40.02it/s]\n"
     ]
    }
   ],
   "source": [
    "#normalizing the train data\n",
    "from datatable import f, min, max\n",
    "for col in tqdm(train.names):\n",
    "    train[:,f[col]] = train[:, (f[col] - min(f[col]))/(max(f[col]) - min(f[col]))]"
   ]
  },
  {
   "cell_type": "code",
   "execution_count": 5,
   "id": "8073a74a",
   "metadata": {},
   "outputs": [],
   "source": [
    "train_num = pd.read_csv('C:\\\\OBS Studio\\\\self_case_study_file\\\\train_numeric.csv',usecols = ['Response'])\n",
    "train_num_ = dt.Frame(train_num)\n",
    "target = train_num_[:,'Response']"
   ]
  },
  {
   "cell_type": "code",
   "execution_count": 6,
   "id": "f3122851",
   "metadata": {},
   "outputs": [],
   "source": [
    "X_train, X_valid = train[:800000, :], train[800000:, :]\n",
    "y_train, y_valid = target[:800000, :], target[800000:, :]"
   ]
  },
  {
   "cell_type": "code",
   "execution_count": 6,
   "id": "95509b5b",
   "metadata": {},
   "outputs": [
    {
     "data": {
      "text/plain": [
       "FtrlFitOutput(epoch=2.0, loss=0.0006457398412749171)"
      ]
     },
     "execution_count": 6,
     "metadata": {},
     "output_type": "execute_result"
    }
   ],
   "source": [
    "model_ftrl = Ftrl(nepochs=5, nbins=10**8, lambda1=0.1,lambda2=1)\n",
    "model_ftrl.fit(X_train, y_train, X_validation=X_valid, y_validation=y_valid)"
   ]
  },
  {
   "cell_type": "code",
   "execution_count": 7,
   "id": "df0087c3",
   "metadata": {},
   "outputs": [],
   "source": [
    "y_pred = model_ftrl.predict(train) #predicting the result \n",
    "y_pred_csv = y_pred.to_pandas()"
   ]
  },
  {
   "cell_type": "code",
   "execution_count": 8,
   "id": "a00ddc1d",
   "metadata": {},
   "outputs": [],
   "source": [
    "df_train = pd.read_csv('C:\\\\OBS Studio\\\\self_case_study_file\\\\train_categorical.csv',usecols=[\"Id\"])\n",
    "y_pred_csv['Id'] = df_train[\"Id\"]"
   ]
  },
  {
   "cell_type": "code",
   "execution_count": 9,
   "id": "94f726bf",
   "metadata": {},
   "outputs": [],
   "source": [
    "y_pred_csv.to_csv(\"final_categorical_train.csv\")"
   ]
  },
  {
   "cell_type": "code",
   "execution_count": 10,
   "id": "2239d377",
   "metadata": {},
   "outputs": [
    {
     "data": {
      "text/plain": [
       "['model_ftrl.pkl']"
      ]
     },
     "execution_count": 10,
     "metadata": {},
     "output_type": "execute_result"
    }
   ],
   "source": [
    "joblib.dump(model_ftrl, 'model_ftrl.pkl')"
   ]
  },
  {
   "cell_type": "code",
   "execution_count": 3,
   "id": "0217d22c",
   "metadata": {},
   "outputs": [
    {
     "name": "stderr",
     "output_type": "stream",
     "text": [
      "119it [30:19, 15.29s/it]\n"
     ]
    }
   ],
   "source": [
    "#Train data\n",
    "#creating some new engineered feature for categorical data\n",
    "new_category_feature = pd.DataFrame()\n",
    "for chunk_df in tqdm(pd.read_csv('C:\\\\OBS Studio\\\\self_case_study_file\\\\train_categorical.csv.zip',iterator=True, chunksize=10000,compression='zip',low_memory=False)):\n",
    "    df = chunk_df[['Id']].copy()\n",
    "    df['no_of_category'] = chunk_df.count(axis=1)-1 #no of values except nan\n",
    "    different_cat = []\n",
    "    for i in range(len(chunk_df)):\n",
    "        different_cat.append(len(chunk_df.iloc[i].value_counts())-1)\n",
    "    df['different_category'] = different_cat #total no of different category used in a single product\n",
    "    new_category_feature = pd.concat([new_category_feature,df])"
   ]
  },
  {
   "cell_type": "code",
   "execution_count": 8,
   "id": "82edaf85",
   "metadata": {},
   "outputs": [],
   "source": [
    "probability_value = pd.read_csv('final_categorical_train.csv').drop(\"Unnamed: 0\",axis=1)"
   ]
  },
  {
   "cell_type": "code",
   "execution_count": 10,
   "id": "e9bd6a4a",
   "metadata": {},
   "outputs": [],
   "source": [
    "new_category_feature['probability_value'] = probability_value['Response']"
   ]
  },
  {
   "cell_type": "code",
   "execution_count": 12,
   "id": "7a7df8d1",
   "metadata": {},
   "outputs": [],
   "source": [
    "#new_category_feature.to_csv('final_df_train_categorical.csv')"
   ]
  },
  {
   "cell_type": "markdown",
   "id": "8535db83",
   "metadata": {},
   "source": [
    "# Numerical "
   ]
  },
  {
   "cell_type": "code",
   "execution_count": 30,
   "id": "88ad58e5",
   "metadata": {},
   "outputs": [],
   "source": [
    "imp_numerical_features_name = ['L0_S0_F0', 'L0_S0_F2', 'L0_S0_F4', 'L0_S0_F6', 'L0_S0_F10',\n",
    "       'L0_S0_F14', 'L0_S0_F20', 'L0_S1_F24', 'L0_S2_F48', 'L0_S3_F72',\n",
    "       'L0_S3_F84', 'L0_S3_F92', 'L0_S3_F100', 'L0_S8_F144', 'L0_S9_F210',\n",
    "       'L0_S10_F249', 'L0_S10_F259', 'L0_S12_F342', 'L0_S12_F350',\n",
    "       'L0_S13_F356', 'L0_S17_F431', 'L0_S22_F596', 'L1_S24_F1490',\n",
    "       'L1_S24_F1494', 'L1_S24_F1498', 'L1_S24_F1516', 'L1_S24_F1565',\n",
    "       'L1_S24_F1571', 'L1_S24_F1575', 'L1_S24_F1578', 'L1_S24_F1581',\n",
    "       'L1_S24_F1604', 'L1_S24_F1609', 'L1_S24_F1622', 'L1_S24_F1632',\n",
    "       'L1_S24_F1657', 'L1_S24_F1672', 'L1_S24_F1695', 'L1_S24_F1713',\n",
    "       'L1_S24_F1718', 'L1_S24_F1723', 'L1_S24_F1758', 'L1_S24_F1783',\n",
    "       'L1_S24_F1831', 'L1_S24_F1842', 'L1_S24_F1844', 'L1_S24_F1846',\n",
    "       'L1_S25_F2155', 'L1_S25_F2346', 'L1_S25_F2395', 'L1_S25_F2435',\n",
    "       'L1_S25_F2443', 'L1_S25_F2449', 'L2_S26_F3040', 'L2_S26_F3051',\n",
    "       'L2_S26_F3055', 'L2_S26_F3062', 'L2_S26_F3073', 'L2_S26_F3106',\n",
    "       'L2_S27_F3144', 'L2_S27_F3199', 'L2_S27_F3210', 'L2_S27_F3214',\n",
    "       'L3_S29_F3339', 'L3_S29_F3342', 'L3_S29_F3351', 'L3_S29_F3354',\n",
    "       'L3_S29_F3357', 'L3_S29_F3373', 'L3_S29_F3382', 'L3_S29_F3407',\n",
    "       'L3_S29_F3461', 'L3_S29_F3464', 'L3_S30_F3514', 'L3_S30_F3534',\n",
    "       'L3_S30_F3544', 'L3_S30_F3554', 'L3_S30_F3574', 'L3_S30_F3584',\n",
    "       'L3_S30_F3604', 'L3_S30_F3644', 'L3_S30_F3704', 'L3_S30_F3744',\n",
    "       'L3_S30_F3754', 'L3_S30_F3759', 'L3_S30_F3794', 'L3_S30_F3799',\n",
    "       'L3_S30_F3804', 'L3_S30_F3829', 'L3_S32_F3850', 'L3_S33_F3855',\n",
    "       'L3_S33_F3857', 'L3_S33_F3859', 'L3_S33_F3865', 'L3_S36_F3920',\n",
    "       'L3_S38_F3952', 'L3_S38_F3956', 'L3_S41_F4000', 'L3_S41_F4016',\n",
    "       'L3_S49_F4211']"
   ]
  },
  {
   "cell_type": "code",
   "execution_count": 36,
   "id": "73a3bb53",
   "metadata": {},
   "outputs": [
    {
     "data": {
      "text/plain": [
       "100"
      ]
     },
     "execution_count": 36,
     "metadata": {},
     "output_type": "execute_result"
    }
   ],
   "source": [
    "len(imp_numerical_features_name)"
   ]
  },
  {
   "cell_type": "code",
   "execution_count": 31,
   "id": "1d8c9507",
   "metadata": {},
   "outputs": [
    {
     "data": {
      "text/plain": [
       "['pkl_files/imp_numerical_features_name.pkl']"
      ]
     },
     "execution_count": 31,
     "metadata": {},
     "output_type": "execute_result"
    }
   ],
   "source": [
    "#joblib.dump(imp_numerical_features_name,'pkl_files/imp_numerical_features_name.pkl')"
   ]
  },
  {
   "cell_type": "code",
   "execution_count": 32,
   "id": "147218cb",
   "metadata": {},
   "outputs": [],
   "source": [
    "imp_nume_col = joblib.load('pkl_files/imp_numerical_features_name.pkl')"
   ]
  },
  {
   "cell_type": "code",
   "execution_count": 34,
   "id": "4ea6d52b",
   "metadata": {},
   "outputs": [],
   "source": [
    "df_nume = pd.read_csv('C:\\\\OBS Studio\\\\self_case_study_file\\\\train_numeric.csv',usecols = imp_nume_col)"
   ]
  },
  {
   "cell_type": "code",
   "execution_count": 35,
   "id": "36d3770f",
   "metadata": {},
   "outputs": [
    {
     "data": {
      "text/html": [
       "<div>\n",
       "<style scoped>\n",
       "    .dataframe tbody tr th:only-of-type {\n",
       "        vertical-align: middle;\n",
       "    }\n",
       "\n",
       "    .dataframe tbody tr th {\n",
       "        vertical-align: top;\n",
       "    }\n",
       "\n",
       "    .dataframe thead th {\n",
       "        text-align: right;\n",
       "    }\n",
       "</style>\n",
       "<table border=\"1\" class=\"dataframe\">\n",
       "  <thead>\n",
       "    <tr style=\"text-align: right;\">\n",
       "      <th></th>\n",
       "      <th>L0_S0_F0</th>\n",
       "      <th>L0_S0_F2</th>\n",
       "      <th>L0_S0_F4</th>\n",
       "      <th>L0_S0_F6</th>\n",
       "      <th>L0_S0_F10</th>\n",
       "      <th>L0_S0_F14</th>\n",
       "      <th>L0_S0_F20</th>\n",
       "      <th>L0_S1_F24</th>\n",
       "      <th>L0_S2_F48</th>\n",
       "      <th>L0_S3_F72</th>\n",
       "      <th>...</th>\n",
       "      <th>L3_S33_F3855</th>\n",
       "      <th>L3_S33_F3857</th>\n",
       "      <th>L3_S33_F3859</th>\n",
       "      <th>L3_S33_F3865</th>\n",
       "      <th>L3_S36_F3920</th>\n",
       "      <th>L3_S38_F3952</th>\n",
       "      <th>L3_S38_F3956</th>\n",
       "      <th>L3_S41_F4000</th>\n",
       "      <th>L3_S41_F4016</th>\n",
       "      <th>L3_S49_F4211</th>\n",
       "    </tr>\n",
       "  </thead>\n",
       "  <tbody>\n",
       "    <tr>\n",
       "      <th>0</th>\n",
       "      <td>0.030</td>\n",
       "      <td>-0.034</td>\n",
       "      <td>-0.197</td>\n",
       "      <td>-0.179</td>\n",
       "      <td>0.116</td>\n",
       "      <td>-0.032</td>\n",
       "      <td>-0.273</td>\n",
       "      <td>-0.271</td>\n",
       "      <td>0.001</td>\n",
       "      <td>NaN</td>\n",
       "      <td>...</td>\n",
       "      <td>-0.119</td>\n",
       "      <td>-0.102</td>\n",
       "      <td>-0.048</td>\n",
       "      <td>0.026</td>\n",
       "      <td>NaN</td>\n",
       "      <td>NaN</td>\n",
       "      <td>NaN</td>\n",
       "      <td>NaN</td>\n",
       "      <td>NaN</td>\n",
       "      <td>NaN</td>\n",
       "    </tr>\n",
       "    <tr>\n",
       "      <th>1</th>\n",
       "      <td>NaN</td>\n",
       "      <td>NaN</td>\n",
       "      <td>NaN</td>\n",
       "      <td>NaN</td>\n",
       "      <td>NaN</td>\n",
       "      <td>NaN</td>\n",
       "      <td>NaN</td>\n",
       "      <td>NaN</td>\n",
       "      <td>NaN</td>\n",
       "      <td>NaN</td>\n",
       "      <td>...</td>\n",
       "      <td>-0.029</td>\n",
       "      <td>-0.026</td>\n",
       "      <td>-0.210</td>\n",
       "      <td>-0.047</td>\n",
       "      <td>NaN</td>\n",
       "      <td>NaN</td>\n",
       "      <td>NaN</td>\n",
       "      <td>NaN</td>\n",
       "      <td>NaN</td>\n",
       "      <td>NaN</td>\n",
       "    </tr>\n",
       "    <tr>\n",
       "      <th>2</th>\n",
       "      <td>0.088</td>\n",
       "      <td>0.086</td>\n",
       "      <td>0.003</td>\n",
       "      <td>-0.052</td>\n",
       "      <td>0.025</td>\n",
       "      <td>-0.072</td>\n",
       "      <td>0.250</td>\n",
       "      <td>0.057</td>\n",
       "      <td>-0.005</td>\n",
       "      <td>NaN</td>\n",
       "      <td>...</td>\n",
       "      <td>0.199</td>\n",
       "      <td>0.191</td>\n",
       "      <td>0.236</td>\n",
       "      <td>0.108</td>\n",
       "      <td>NaN</td>\n",
       "      <td>NaN</td>\n",
       "      <td>NaN</td>\n",
       "      <td>NaN</td>\n",
       "      <td>NaN</td>\n",
       "      <td>NaN</td>\n",
       "    </tr>\n",
       "    <tr>\n",
       "      <th>3</th>\n",
       "      <td>-0.036</td>\n",
       "      <td>-0.064</td>\n",
       "      <td>0.294</td>\n",
       "      <td>0.330</td>\n",
       "      <td>0.161</td>\n",
       "      <td>0.128</td>\n",
       "      <td>-0.253</td>\n",
       "      <td>0.147</td>\n",
       "      <td>0.005</td>\n",
       "      <td>NaN</td>\n",
       "      <td>...</td>\n",
       "      <td>0.017</td>\n",
       "      <td>0.031</td>\n",
       "      <td>0.165</td>\n",
       "      <td>0.035</td>\n",
       "      <td>-0.030</td>\n",
       "      <td>NaN</td>\n",
       "      <td>NaN</td>\n",
       "      <td>NaN</td>\n",
       "      <td>NaN</td>\n",
       "      <td>NaN</td>\n",
       "    </tr>\n",
       "    <tr>\n",
       "      <th>4</th>\n",
       "      <td>-0.055</td>\n",
       "      <td>-0.086</td>\n",
       "      <td>0.294</td>\n",
       "      <td>0.330</td>\n",
       "      <td>0.025</td>\n",
       "      <td>0.168</td>\n",
       "      <td>0.042</td>\n",
       "      <td>-0.012</td>\n",
       "      <td>NaN</td>\n",
       "      <td>-0.272</td>\n",
       "      <td>...</td>\n",
       "      <td>-0.074</td>\n",
       "      <td>-0.049</td>\n",
       "      <td>0.147</td>\n",
       "      <td>-0.006</td>\n",
       "      <td>0.083</td>\n",
       "      <td>NaN</td>\n",
       "      <td>NaN</td>\n",
       "      <td>NaN</td>\n",
       "      <td>NaN</td>\n",
       "      <td>NaN</td>\n",
       "    </tr>\n",
       "    <tr>\n",
       "      <th>...</th>\n",
       "      <td>...</td>\n",
       "      <td>...</td>\n",
       "      <td>...</td>\n",
       "      <td>...</td>\n",
       "      <td>...</td>\n",
       "      <td>...</td>\n",
       "      <td>...</td>\n",
       "      <td>...</td>\n",
       "      <td>...</td>\n",
       "      <td>...</td>\n",
       "      <td>...</td>\n",
       "      <td>...</td>\n",
       "      <td>...</td>\n",
       "      <td>...</td>\n",
       "      <td>...</td>\n",
       "      <td>...</td>\n",
       "      <td>...</td>\n",
       "      <td>...</td>\n",
       "      <td>...</td>\n",
       "      <td>...</td>\n",
       "      <td>...</td>\n",
       "    </tr>\n",
       "    <tr>\n",
       "      <th>1183742</th>\n",
       "      <td>-0.023</td>\n",
       "      <td>0.033</td>\n",
       "      <td>-0.015</td>\n",
       "      <td>-0.016</td>\n",
       "      <td>0.070</td>\n",
       "      <td>-0.032</td>\n",
       "      <td>0.159</td>\n",
       "      <td>-0.084</td>\n",
       "      <td>0.002</td>\n",
       "      <td>NaN</td>\n",
       "      <td>...</td>\n",
       "      <td>-0.119</td>\n",
       "      <td>-0.095</td>\n",
       "      <td>0.152</td>\n",
       "      <td>0.035</td>\n",
       "      <td>NaN</td>\n",
       "      <td>NaN</td>\n",
       "      <td>NaN</td>\n",
       "      <td>NaN</td>\n",
       "      <td>NaN</td>\n",
       "      <td>NaN</td>\n",
       "    </tr>\n",
       "    <tr>\n",
       "      <th>1183743</th>\n",
       "      <td>NaN</td>\n",
       "      <td>NaN</td>\n",
       "      <td>NaN</td>\n",
       "      <td>NaN</td>\n",
       "      <td>NaN</td>\n",
       "      <td>NaN</td>\n",
       "      <td>NaN</td>\n",
       "      <td>NaN</td>\n",
       "      <td>NaN</td>\n",
       "      <td>NaN</td>\n",
       "      <td>...</td>\n",
       "      <td>-0.210</td>\n",
       "      <td>-0.184</td>\n",
       "      <td>-0.139</td>\n",
       "      <td>0.075</td>\n",
       "      <td>0.065</td>\n",
       "      <td>NaN</td>\n",
       "      <td>NaN</td>\n",
       "      <td>NaN</td>\n",
       "      <td>NaN</td>\n",
       "      <td>NaN</td>\n",
       "    </tr>\n",
       "    <tr>\n",
       "      <th>1183744</th>\n",
       "      <td>0.075</td>\n",
       "      <td>0.123</td>\n",
       "      <td>-0.343</td>\n",
       "      <td>-0.325</td>\n",
       "      <td>0.161</td>\n",
       "      <td>-0.232</td>\n",
       "      <td>0.046</td>\n",
       "      <td>0.057</td>\n",
       "      <td>NaN</td>\n",
       "      <td>-0.202</td>\n",
       "      <td>...</td>\n",
       "      <td>0.017</td>\n",
       "      <td>0.019</td>\n",
       "      <td>-0.114</td>\n",
       "      <td>-0.177</td>\n",
       "      <td>-0.036</td>\n",
       "      <td>NaN</td>\n",
       "      <td>NaN</td>\n",
       "      <td>NaN</td>\n",
       "      <td>NaN</td>\n",
       "      <td>NaN</td>\n",
       "    </tr>\n",
       "    <tr>\n",
       "      <th>1183745</th>\n",
       "      <td>-0.062</td>\n",
       "      <td>-0.019</td>\n",
       "      <td>-0.179</td>\n",
       "      <td>-0.179</td>\n",
       "      <td>0.116</td>\n",
       "      <td>-0.072</td>\n",
       "      <td>0.156</td>\n",
       "      <td>-0.010</td>\n",
       "      <td>NaN</td>\n",
       "      <td>-0.188</td>\n",
       "      <td>...</td>\n",
       "      <td>0.062</td>\n",
       "      <td>0.072</td>\n",
       "      <td>0.031</td>\n",
       "      <td>0.083</td>\n",
       "      <td>NaN</td>\n",
       "      <td>NaN</td>\n",
       "      <td>NaN</td>\n",
       "      <td>NaN</td>\n",
       "      <td>NaN</td>\n",
       "      <td>NaN</td>\n",
       "    </tr>\n",
       "    <tr>\n",
       "      <th>1183746</th>\n",
       "      <td>-0.023</td>\n",
       "      <td>0.019</td>\n",
       "      <td>-0.033</td>\n",
       "      <td>-0.052</td>\n",
       "      <td>0.161</td>\n",
       "      <td>-0.032</td>\n",
       "      <td>0.143</td>\n",
       "      <td>0.042</td>\n",
       "      <td>0.000</td>\n",
       "      <td>NaN</td>\n",
       "      <td>...</td>\n",
       "      <td>-0.029</td>\n",
       "      <td>-0.043</td>\n",
       "      <td>-0.051</td>\n",
       "      <td>0.067</td>\n",
       "      <td>-0.080</td>\n",
       "      <td>NaN</td>\n",
       "      <td>NaN</td>\n",
       "      <td>NaN</td>\n",
       "      <td>NaN</td>\n",
       "      <td>NaN</td>\n",
       "    </tr>\n",
       "  </tbody>\n",
       "</table>\n",
       "<p>1183747 rows × 100 columns</p>\n",
       "</div>"
      ],
      "text/plain": [
       "         L0_S0_F0  L0_S0_F2  L0_S0_F4  L0_S0_F6  L0_S0_F10  L0_S0_F14  \\\n",
       "0           0.030    -0.034    -0.197    -0.179      0.116     -0.032   \n",
       "1             NaN       NaN       NaN       NaN        NaN        NaN   \n",
       "2           0.088     0.086     0.003    -0.052      0.025     -0.072   \n",
       "3          -0.036    -0.064     0.294     0.330      0.161      0.128   \n",
       "4          -0.055    -0.086     0.294     0.330      0.025      0.168   \n",
       "...           ...       ...       ...       ...        ...        ...   \n",
       "1183742    -0.023     0.033    -0.015    -0.016      0.070     -0.032   \n",
       "1183743       NaN       NaN       NaN       NaN        NaN        NaN   \n",
       "1183744     0.075     0.123    -0.343    -0.325      0.161     -0.232   \n",
       "1183745    -0.062    -0.019    -0.179    -0.179      0.116     -0.072   \n",
       "1183746    -0.023     0.019    -0.033    -0.052      0.161     -0.032   \n",
       "\n",
       "         L0_S0_F20  L0_S1_F24  L0_S2_F48  L0_S3_F72  ...  L3_S33_F3855  \\\n",
       "0           -0.273     -0.271      0.001        NaN  ...        -0.119   \n",
       "1              NaN        NaN        NaN        NaN  ...        -0.029   \n",
       "2            0.250      0.057     -0.005        NaN  ...         0.199   \n",
       "3           -0.253      0.147      0.005        NaN  ...         0.017   \n",
       "4            0.042     -0.012        NaN     -0.272  ...        -0.074   \n",
       "...            ...        ...        ...        ...  ...           ...   \n",
       "1183742      0.159     -0.084      0.002        NaN  ...        -0.119   \n",
       "1183743        NaN        NaN        NaN        NaN  ...        -0.210   \n",
       "1183744      0.046      0.057        NaN     -0.202  ...         0.017   \n",
       "1183745      0.156     -0.010        NaN     -0.188  ...         0.062   \n",
       "1183746      0.143      0.042      0.000        NaN  ...        -0.029   \n",
       "\n",
       "         L3_S33_F3857  L3_S33_F3859  L3_S33_F3865  L3_S36_F3920  L3_S38_F3952  \\\n",
       "0              -0.102        -0.048         0.026           NaN           NaN   \n",
       "1              -0.026        -0.210        -0.047           NaN           NaN   \n",
       "2               0.191         0.236         0.108           NaN           NaN   \n",
       "3               0.031         0.165         0.035        -0.030           NaN   \n",
       "4              -0.049         0.147        -0.006         0.083           NaN   \n",
       "...               ...           ...           ...           ...           ...   \n",
       "1183742        -0.095         0.152         0.035           NaN           NaN   \n",
       "1183743        -0.184        -0.139         0.075         0.065           NaN   \n",
       "1183744         0.019        -0.114        -0.177        -0.036           NaN   \n",
       "1183745         0.072         0.031         0.083           NaN           NaN   \n",
       "1183746        -0.043        -0.051         0.067        -0.080           NaN   \n",
       "\n",
       "         L3_S38_F3956  L3_S41_F4000  L3_S41_F4016  L3_S49_F4211  \n",
       "0                 NaN           NaN           NaN           NaN  \n",
       "1                 NaN           NaN           NaN           NaN  \n",
       "2                 NaN           NaN           NaN           NaN  \n",
       "3                 NaN           NaN           NaN           NaN  \n",
       "4                 NaN           NaN           NaN           NaN  \n",
       "...               ...           ...           ...           ...  \n",
       "1183742           NaN           NaN           NaN           NaN  \n",
       "1183743           NaN           NaN           NaN           NaN  \n",
       "1183744           NaN           NaN           NaN           NaN  \n",
       "1183745           NaN           NaN           NaN           NaN  \n",
       "1183746           NaN           NaN           NaN           NaN  \n",
       "\n",
       "[1183747 rows x 100 columns]"
      ]
     },
     "execution_count": 35,
     "metadata": {},
     "output_type": "execute_result"
    }
   ],
   "source": [
    "df_nume"
   ]
  },
  {
   "cell_type": "code",
   "execution_count": 100,
   "id": "d9a02f21",
   "metadata": {},
   "outputs": [],
   "source": [
    "#df_nume.to_csv('final_df_train_numeric.csv')"
   ]
  },
  {
   "cell_type": "markdown",
   "id": "72ce0d61",
   "metadata": {},
   "source": [
    "# Date "
   ]
  },
  {
   "cell_type": "code",
   "execution_count": 16,
   "id": "ad118818",
   "metadata": {},
   "outputs": [],
   "source": [
    "import joblib\n",
    "imp_date_cols = joblib.load('pkl_files/imp_date_cols_name.pkl')"
   ]
  },
  {
   "cell_type": "code",
   "execution_count": 19,
   "id": "8c2f592c",
   "metadata": {},
   "outputs": [
    {
     "data": {
      "text/plain": [
       "['Unnamed: 0',\n",
       " 'L0_S0_D1',\n",
       " 'L0_S0_D3',\n",
       " 'L0_S1_D26',\n",
       " 'L0_S1_D30',\n",
       " 'L0_S2_D34',\n",
       " 'L0_S2_D38',\n",
       " 'L0_S3_D70',\n",
       " 'L0_S3_D74',\n",
       " 'L0_S4_D106',\n",
       " 'L0_S4_D111',\n",
       " 'L0_S5_D115',\n",
       " 'L0_S5_D117',\n",
       " 'L0_S6_D120',\n",
       " 'L0_S6_D124',\n",
       " 'L0_S7_D137',\n",
       " 'L0_S7_D139',\n",
       " 'L0_S8_D145',\n",
       " 'L0_S8_D147',\n",
       " 'L0_S9_D152',\n",
       " 'L0_S9_D162',\n",
       " 'L0_S10_D216',\n",
       " 'L0_S10_D226',\n",
       " 'L0_S11_D280',\n",
       " 'L0_S11_D284',\n",
       " 'L0_S12_D331',\n",
       " 'L0_S12_D333',\n",
       " 'L0_S13_D355',\n",
       " 'L0_S13_D357',\n",
       " 'L0_S14_D360',\n",
       " 'L0_S14_D364',\n",
       " 'L0_S15_D395',\n",
       " 'L0_S15_D398',\n",
       " 'L0_S16_D423',\n",
       " 'L0_S16_D428',\n",
       " 'L0_S17_D432',\n",
       " 'L0_S17_D434',\n",
       " 'L0_S18_D437',\n",
       " 'L0_S18_D441',\n",
       " 'L0_S19_D454',\n",
       " 'L0_S19_D456',\n",
       " 'L0_S20_D462',\n",
       " 'L0_S20_D464',\n",
       " 'L0_S21_D469',\n",
       " 'L0_S21_D479',\n",
       " 'L0_S22_D543',\n",
       " 'L0_S22_D553',\n",
       " 'L0_S23_D617',\n",
       " 'L0_S23_D621',\n",
       " 'L1_S24_D1826',\n",
       " 'L1_S24_D1828',\n",
       " 'L1_S25_D1854',\n",
       " 'L1_S25_D1857',\n",
       " 'L2_S26_D3037',\n",
       " 'L2_S26_D3041',\n",
       " 'L2_S27_D3130',\n",
       " 'L2_S27_D3134',\n",
       " 'L2_S28_D3223',\n",
       " 'L2_S28_D3227',\n",
       " 'L3_S29_D3316',\n",
       " 'L3_S29_D3319',\n",
       " 'L3_S30_D3726',\n",
       " 'L3_S30_D3731',\n",
       " 'L3_S31_D3836',\n",
       " 'L3_S31_D3840',\n",
       " 'L3_S32_D3852',\n",
       " 'L3_S33_D3856',\n",
       " 'L3_S33_D3858',\n",
       " 'L3_S34_D3875',\n",
       " 'L3_S34_D3877',\n",
       " 'L3_S35_D3900',\n",
       " 'L3_S35_D3905',\n",
       " 'L3_S36_D3928',\n",
       " 'L3_S36_D3932',\n",
       " 'L3_S37_D3942',\n",
       " 'L3_S37_D3943',\n",
       " 'L3_S38_D3953',\n",
       " 'L3_S38_D3957',\n",
       " 'L3_S39_D3966',\n",
       " 'L3_S39_D3970',\n",
       " 'L3_S40_D3985',\n",
       " 'L3_S40_D3987',\n",
       " 'L3_S41_D3997',\n",
       " 'L3_S41_D3999',\n",
       " 'L3_S42_D4029',\n",
       " 'L3_S42_D4033',\n",
       " 'L3_S43_D4062',\n",
       " 'L3_S43_D4067',\n",
       " 'L3_S44_D4101',\n",
       " 'L3_S44_D4104',\n",
       " 'L3_S45_D4125',\n",
       " 'L3_S45_D4127',\n",
       " 'L3_S46_D4135',\n",
       " 'L3_S47_D4140',\n",
       " 'L3_S47_D4145',\n",
       " 'L3_S48_D4194',\n",
       " 'L3_S48_D4195',\n",
       " 'L3_S49_D4218',\n",
       " 'L3_S49_D4223',\n",
       " 'L3_S50_D4242',\n",
       " 'L3_S50_D4244',\n",
       " 'L3_S51_D4255',\n",
       " 'L3_S51_D4257']"
      ]
     },
     "execution_count": 19,
     "metadata": {},
     "output_type": "execute_result"
    }
   ],
   "source": [
    "list(imp_date_cols.values)"
   ]
  },
  {
   "cell_type": "code",
   "execution_count": 10,
   "id": "59a329ac",
   "metadata": {},
   "outputs": [],
   "source": [
    "st = []\n",
    "imp_date_single_cols = []\n",
    "for col in imp_date_cols[1:]:\n",
    "    station = col.split(\"_\")[1]\n",
    "    if station not in st:\n",
    "        st.append(station)\n",
    "        imp_date_single_cols.append(col)"
   ]
  },
  {
   "cell_type": "code",
   "execution_count": 13,
   "id": "741feab9",
   "metadata": {},
   "outputs": [
    {
     "data": {
      "text/plain": [
       "['imp_date_single_cols_name.pkl']"
      ]
     },
     "execution_count": 13,
     "metadata": {},
     "output_type": "execute_result"
    }
   ],
   "source": [
    "#joblib.dump(imp_date_single_cols,'imp_date_single_cols_name.pkl')"
   ]
  },
  {
   "cell_type": "code",
   "execution_count": 14,
   "id": "cfea402d",
   "metadata": {},
   "outputs": [],
   "source": [
    "diff_st_date = []\n",
    "for i in range(51):\n",
    "    diff_st_date.append('S'+str(i))"
   ]
  },
  {
   "cell_type": "code",
   "execution_count": 18,
   "id": "d05b46de",
   "metadata": {},
   "outputs": [],
   "source": [
    "ohe_station = pd.DataFrame(columns=diff_st_date)\n",
    "df = pd.read_csv('C:\\\\OBS Studio\\\\self_case_study_file\\\\train_date.csv',usecols = imp_date_single_cols)"
   ]
  },
  {
   "cell_type": "code",
   "execution_count": 19,
   "id": "5068b218",
   "metadata": {},
   "outputs": [
    {
     "name": "stderr",
     "output_type": "stream",
     "text": [
      "100%|██████████████████████████████████████████████████████████████████████████████████| 52/52 [04:57<00:00,  5.72s/it]\n"
     ]
    }
   ],
   "source": [
    "leave_col = ['S24','S25']\n",
    "for col in tqdm(df.columns):\n",
    "    lst = [0]*len(df)\n",
    "    st = col.split(\"_\")[1]\n",
    "    if st not in leave_col:\n",
    "        temp = df[col]\n",
    "        for i in range(len(temp)):\n",
    "            val = temp.iloc[i]\n",
    "            if str(val) != 'nan':\n",
    "                lst[i] = 1\n",
    "    ohe_station[st] = lst"
   ]
  },
  {
   "cell_type": "code",
   "execution_count": 21,
   "id": "b722c873",
   "metadata": {},
   "outputs": [],
   "source": [
    "df_date = pd.read_csv('C:\\\\OBS Studio\\\\self_case_study_file\\\\train_date.csv',nrows=10)\n",
    "col_24 = []\n",
    "col_25 = []\n",
    "#doing one hot encoding of of S24 and S25 station \n",
    "for i in df_date.columns:\n",
    "    if 'S24' in i.split(\"_\"):\n",
    "        col_24.append(i)\n",
    "    if 'S25' in i.split(\"_\"):\n",
    "        col_25.append(i)"
   ]
  },
  {
   "cell_type": "code",
   "execution_count": 22,
   "id": "28ad006d",
   "metadata": {},
   "outputs": [
    {
     "data": {
      "text/plain": [
       "['col_24_25.pkl']"
      ]
     },
     "execution_count": 22,
     "metadata": {},
     "output_type": "execute_result"
    }
   ],
   "source": [
    "col_24_25 = [col_24,col_25]\n",
    "joblib.dump(col_24_25,'col_24_25.pkl')"
   ]
  },
  {
   "cell_type": "code",
   "execution_count": 28,
   "id": "cadbd8c2",
   "metadata": {},
   "outputs": [],
   "source": [
    "df_24 = pd.read_csv('C:\\\\OBS Studio\\\\self_case_study_file\\\\train_date.csv',usecols = col_24)\n",
    "df_25 = pd.read_csv('C:\\\\OBS Studio\\\\self_case_study_file\\\\train_date.csv',usecols = col_25)"
   ]
  },
  {
   "cell_type": "code",
   "execution_count": 29,
   "id": "bea30af7",
   "metadata": {},
   "outputs": [
    {
     "name": "stderr",
     "output_type": "stream",
     "text": [
      "100%|█████████████████████████████████████████████████████████████████████| 1183747/1183747 [01:12<00:00, 16356.34it/s]\n",
      "100%|█████████████████████████████████████████████████████████████████████| 1183747/1183747 [01:14<00:00, 15840.70it/s]\n"
     ]
    }
   ],
   "source": [
    "n_24 = [0]*len(df_24)\n",
    "for i in tqdm(range(len(df_24))):\n",
    "    row = df_24.iloc[i]\n",
    "    if row.count() != 0:\n",
    "        n_24[i] = 1\n",
    "ohe_station['S24'] = n_24\n",
    "\n",
    "n_25 = [0]*len(df_25)\n",
    "for i in tqdm(range(len(df_25))):\n",
    "    row = df_25.iloc[i]\n",
    "    if row.count() != 0:\n",
    "        n_25[i] = 1\n",
    "ohe_station['S25'] = n_25"
   ]
  },
  {
   "cell_type": "code",
   "execution_count": 30,
   "id": "e776a7b2",
   "metadata": {},
   "outputs": [
    {
     "data": {
      "text/html": [
       "<div>\n",
       "<style scoped>\n",
       "    .dataframe tbody tr th:only-of-type {\n",
       "        vertical-align: middle;\n",
       "    }\n",
       "\n",
       "    .dataframe tbody tr th {\n",
       "        vertical-align: top;\n",
       "    }\n",
       "\n",
       "    .dataframe thead th {\n",
       "        text-align: right;\n",
       "    }\n",
       "</style>\n",
       "<table border=\"1\" class=\"dataframe\">\n",
       "  <thead>\n",
       "    <tr style=\"text-align: right;\">\n",
       "      <th></th>\n",
       "      <th>S0</th>\n",
       "      <th>S1</th>\n",
       "      <th>S2</th>\n",
       "      <th>S3</th>\n",
       "      <th>S4</th>\n",
       "      <th>S5</th>\n",
       "      <th>S6</th>\n",
       "      <th>S7</th>\n",
       "      <th>S8</th>\n",
       "      <th>S9</th>\n",
       "      <th>...</th>\n",
       "      <th>S42</th>\n",
       "      <th>S43</th>\n",
       "      <th>S44</th>\n",
       "      <th>S45</th>\n",
       "      <th>S46</th>\n",
       "      <th>S47</th>\n",
       "      <th>S48</th>\n",
       "      <th>S49</th>\n",
       "      <th>S50</th>\n",
       "      <th>S51</th>\n",
       "    </tr>\n",
       "  </thead>\n",
       "  <tbody>\n",
       "    <tr>\n",
       "      <th>0</th>\n",
       "      <td>1</td>\n",
       "      <td>1</td>\n",
       "      <td>1</td>\n",
       "      <td>0</td>\n",
       "      <td>1</td>\n",
       "      <td>0</td>\n",
       "      <td>0</td>\n",
       "      <td>1</td>\n",
       "      <td>1</td>\n",
       "      <td>0</td>\n",
       "      <td>...</td>\n",
       "      <td>0</td>\n",
       "      <td>0</td>\n",
       "      <td>0</td>\n",
       "      <td>0</td>\n",
       "      <td>0</td>\n",
       "      <td>0</td>\n",
       "      <td>0</td>\n",
       "      <td>0</td>\n",
       "      <td>0</td>\n",
       "      <td>0</td>\n",
       "    </tr>\n",
       "    <tr>\n",
       "      <th>1</th>\n",
       "      <td>0</td>\n",
       "      <td>0</td>\n",
       "      <td>0</td>\n",
       "      <td>0</td>\n",
       "      <td>0</td>\n",
       "      <td>0</td>\n",
       "      <td>0</td>\n",
       "      <td>0</td>\n",
       "      <td>0</td>\n",
       "      <td>0</td>\n",
       "      <td>...</td>\n",
       "      <td>0</td>\n",
       "      <td>0</td>\n",
       "      <td>0</td>\n",
       "      <td>0</td>\n",
       "      <td>0</td>\n",
       "      <td>0</td>\n",
       "      <td>0</td>\n",
       "      <td>0</td>\n",
       "      <td>0</td>\n",
       "      <td>0</td>\n",
       "    </tr>\n",
       "    <tr>\n",
       "      <th>2</th>\n",
       "      <td>1</td>\n",
       "      <td>1</td>\n",
       "      <td>1</td>\n",
       "      <td>0</td>\n",
       "      <td>0</td>\n",
       "      <td>1</td>\n",
       "      <td>1</td>\n",
       "      <td>0</td>\n",
       "      <td>1</td>\n",
       "      <td>0</td>\n",
       "      <td>...</td>\n",
       "      <td>0</td>\n",
       "      <td>0</td>\n",
       "      <td>0</td>\n",
       "      <td>0</td>\n",
       "      <td>0</td>\n",
       "      <td>0</td>\n",
       "      <td>0</td>\n",
       "      <td>0</td>\n",
       "      <td>0</td>\n",
       "      <td>0</td>\n",
       "    </tr>\n",
       "    <tr>\n",
       "      <th>3</th>\n",
       "      <td>1</td>\n",
       "      <td>1</td>\n",
       "      <td>1</td>\n",
       "      <td>0</td>\n",
       "      <td>1</td>\n",
       "      <td>0</td>\n",
       "      <td>0</td>\n",
       "      <td>1</td>\n",
       "      <td>1</td>\n",
       "      <td>0</td>\n",
       "      <td>...</td>\n",
       "      <td>0</td>\n",
       "      <td>0</td>\n",
       "      <td>0</td>\n",
       "      <td>0</td>\n",
       "      <td>0</td>\n",
       "      <td>0</td>\n",
       "      <td>0</td>\n",
       "      <td>0</td>\n",
       "      <td>0</td>\n",
       "      <td>0</td>\n",
       "    </tr>\n",
       "    <tr>\n",
       "      <th>4</th>\n",
       "      <td>1</td>\n",
       "      <td>1</td>\n",
       "      <td>0</td>\n",
       "      <td>1</td>\n",
       "      <td>1</td>\n",
       "      <td>0</td>\n",
       "      <td>0</td>\n",
       "      <td>1</td>\n",
       "      <td>1</td>\n",
       "      <td>0</td>\n",
       "      <td>...</td>\n",
       "      <td>0</td>\n",
       "      <td>0</td>\n",
       "      <td>0</td>\n",
       "      <td>0</td>\n",
       "      <td>0</td>\n",
       "      <td>0</td>\n",
       "      <td>0</td>\n",
       "      <td>0</td>\n",
       "      <td>0</td>\n",
       "      <td>0</td>\n",
       "    </tr>\n",
       "    <tr>\n",
       "      <th>...</th>\n",
       "      <td>...</td>\n",
       "      <td>...</td>\n",
       "      <td>...</td>\n",
       "      <td>...</td>\n",
       "      <td>...</td>\n",
       "      <td>...</td>\n",
       "      <td>...</td>\n",
       "      <td>...</td>\n",
       "      <td>...</td>\n",
       "      <td>...</td>\n",
       "      <td>...</td>\n",
       "      <td>...</td>\n",
       "      <td>...</td>\n",
       "      <td>...</td>\n",
       "      <td>...</td>\n",
       "      <td>...</td>\n",
       "      <td>...</td>\n",
       "      <td>...</td>\n",
       "      <td>...</td>\n",
       "      <td>...</td>\n",
       "      <td>...</td>\n",
       "    </tr>\n",
       "    <tr>\n",
       "      <th>1183742</th>\n",
       "      <td>1</td>\n",
       "      <td>1</td>\n",
       "      <td>1</td>\n",
       "      <td>0</td>\n",
       "      <td>1</td>\n",
       "      <td>0</td>\n",
       "      <td>1</td>\n",
       "      <td>0</td>\n",
       "      <td>1</td>\n",
       "      <td>1</td>\n",
       "      <td>...</td>\n",
       "      <td>0</td>\n",
       "      <td>0</td>\n",
       "      <td>0</td>\n",
       "      <td>0</td>\n",
       "      <td>0</td>\n",
       "      <td>0</td>\n",
       "      <td>0</td>\n",
       "      <td>0</td>\n",
       "      <td>0</td>\n",
       "      <td>0</td>\n",
       "    </tr>\n",
       "    <tr>\n",
       "      <th>1183743</th>\n",
       "      <td>0</td>\n",
       "      <td>0</td>\n",
       "      <td>0</td>\n",
       "      <td>0</td>\n",
       "      <td>0</td>\n",
       "      <td>0</td>\n",
       "      <td>0</td>\n",
       "      <td>0</td>\n",
       "      <td>0</td>\n",
       "      <td>0</td>\n",
       "      <td>...</td>\n",
       "      <td>0</td>\n",
       "      <td>0</td>\n",
       "      <td>0</td>\n",
       "      <td>0</td>\n",
       "      <td>0</td>\n",
       "      <td>0</td>\n",
       "      <td>0</td>\n",
       "      <td>0</td>\n",
       "      <td>0</td>\n",
       "      <td>0</td>\n",
       "    </tr>\n",
       "    <tr>\n",
       "      <th>1183744</th>\n",
       "      <td>1</td>\n",
       "      <td>1</td>\n",
       "      <td>0</td>\n",
       "      <td>1</td>\n",
       "      <td>0</td>\n",
       "      <td>1</td>\n",
       "      <td>1</td>\n",
       "      <td>0</td>\n",
       "      <td>1</td>\n",
       "      <td>1</td>\n",
       "      <td>...</td>\n",
       "      <td>0</td>\n",
       "      <td>0</td>\n",
       "      <td>0</td>\n",
       "      <td>0</td>\n",
       "      <td>0</td>\n",
       "      <td>0</td>\n",
       "      <td>0</td>\n",
       "      <td>0</td>\n",
       "      <td>0</td>\n",
       "      <td>0</td>\n",
       "    </tr>\n",
       "    <tr>\n",
       "      <th>1183745</th>\n",
       "      <td>1</td>\n",
       "      <td>1</td>\n",
       "      <td>0</td>\n",
       "      <td>1</td>\n",
       "      <td>1</td>\n",
       "      <td>0</td>\n",
       "      <td>0</td>\n",
       "      <td>1</td>\n",
       "      <td>1</td>\n",
       "      <td>1</td>\n",
       "      <td>...</td>\n",
       "      <td>0</td>\n",
       "      <td>0</td>\n",
       "      <td>0</td>\n",
       "      <td>0</td>\n",
       "      <td>0</td>\n",
       "      <td>0</td>\n",
       "      <td>0</td>\n",
       "      <td>0</td>\n",
       "      <td>0</td>\n",
       "      <td>0</td>\n",
       "    </tr>\n",
       "    <tr>\n",
       "      <th>1183746</th>\n",
       "      <td>1</td>\n",
       "      <td>1</td>\n",
       "      <td>1</td>\n",
       "      <td>0</td>\n",
       "      <td>1</td>\n",
       "      <td>0</td>\n",
       "      <td>0</td>\n",
       "      <td>1</td>\n",
       "      <td>1</td>\n",
       "      <td>0</td>\n",
       "      <td>...</td>\n",
       "      <td>0</td>\n",
       "      <td>0</td>\n",
       "      <td>0</td>\n",
       "      <td>0</td>\n",
       "      <td>0</td>\n",
       "      <td>0</td>\n",
       "      <td>0</td>\n",
       "      <td>0</td>\n",
       "      <td>0</td>\n",
       "      <td>0</td>\n",
       "    </tr>\n",
       "  </tbody>\n",
       "</table>\n",
       "<p>1183747 rows × 52 columns</p>\n",
       "</div>"
      ],
      "text/plain": [
       "         S0  S1  S2  S3  S4  S5  S6  S7  S8  S9  ...  S42  S43  S44  S45  S46  \\\n",
       "0         1   1   1   0   1   0   0   1   1   0  ...    0    0    0    0    0   \n",
       "1         0   0   0   0   0   0   0   0   0   0  ...    0    0    0    0    0   \n",
       "2         1   1   1   0   0   1   1   0   1   0  ...    0    0    0    0    0   \n",
       "3         1   1   1   0   1   0   0   1   1   0  ...    0    0    0    0    0   \n",
       "4         1   1   0   1   1   0   0   1   1   0  ...    0    0    0    0    0   \n",
       "...      ..  ..  ..  ..  ..  ..  ..  ..  ..  ..  ...  ...  ...  ...  ...  ...   \n",
       "1183742   1   1   1   0   1   0   1   0   1   1  ...    0    0    0    0    0   \n",
       "1183743   0   0   0   0   0   0   0   0   0   0  ...    0    0    0    0    0   \n",
       "1183744   1   1   0   1   0   1   1   0   1   1  ...    0    0    0    0    0   \n",
       "1183745   1   1   0   1   1   0   0   1   1   1  ...    0    0    0    0    0   \n",
       "1183746   1   1   1   0   1   0   0   1   1   0  ...    0    0    0    0    0   \n",
       "\n",
       "         S47  S48  S49  S50  S51  \n",
       "0          0    0    0    0    0  \n",
       "1          0    0    0    0    0  \n",
       "2          0    0    0    0    0  \n",
       "3          0    0    0    0    0  \n",
       "4          0    0    0    0    0  \n",
       "...      ...  ...  ...  ...  ...  \n",
       "1183742    0    0    0    0    0  \n",
       "1183743    0    0    0    0    0  \n",
       "1183744    0    0    0    0    0  \n",
       "1183745    0    0    0    0    0  \n",
       "1183746    0    0    0    0    0  \n",
       "\n",
       "[1183747 rows x 52 columns]"
      ]
     },
     "execution_count": 30,
     "metadata": {},
     "output_type": "execute_result"
    }
   ],
   "source": [
    "ohe_station"
   ]
  },
  {
   "cell_type": "code",
   "execution_count": 31,
   "id": "d93ae753",
   "metadata": {},
   "outputs": [],
   "source": [
    "#ohe_station.to_csv(\"ohe_station.csv\")"
   ]
  },
  {
   "cell_type": "code",
   "execution_count": 32,
   "id": "0dca634c",
   "metadata": {},
   "outputs": [
    {
     "name": "stderr",
     "output_type": "stream",
     "text": [
      "100%|██████████████████████████████████████████████████████████████████████| 1183747/1183747 [05:16<00:00, 3737.28it/s]\n"
     ]
    }
   ],
   "source": [
    "start_station = []\n",
    "end_station = []\n",
    "path_length = []\n",
    "for i in tqdm(range(len(ohe_station))):\n",
    "    row = ohe_station.iloc[i]\n",
    "    start = 0\n",
    "    end = 0\n",
    "    \n",
    "    for j in range(len(row)):\n",
    "        if row[j] == 1:\n",
    "            start = j\n",
    "            break\n",
    "    for k in range(len(row)-1,-1,-1):\n",
    "        if row[k] == 1:\n",
    "            end = k\n",
    "            break\n",
    "    path_length.append(np.count_nonzero(row == 1))\n",
    "    start_station.append(start)\n",
    "    end_station.append(end)"
   ]
  },
  {
   "cell_type": "code",
   "execution_count": 33,
   "id": "abf759a1",
   "metadata": {},
   "outputs": [],
   "source": [
    "ohe_station['start_station'] = start_station\n",
    "ohe_station['end_station'] = end_station\n",
    "ohe_station['path_length'] = path_length"
   ]
  },
  {
   "cell_type": "code",
   "execution_count": 34,
   "id": "4823c9a9",
   "metadata": {},
   "outputs": [
    {
     "data": {
      "text/html": [
       "<div>\n",
       "<style scoped>\n",
       "    .dataframe tbody tr th:only-of-type {\n",
       "        vertical-align: middle;\n",
       "    }\n",
       "\n",
       "    .dataframe tbody tr th {\n",
       "        vertical-align: top;\n",
       "    }\n",
       "\n",
       "    .dataframe thead th {\n",
       "        text-align: right;\n",
       "    }\n",
       "</style>\n",
       "<table border=\"1\" class=\"dataframe\">\n",
       "  <thead>\n",
       "    <tr style=\"text-align: right;\">\n",
       "      <th></th>\n",
       "      <th>S0</th>\n",
       "      <th>S1</th>\n",
       "      <th>S2</th>\n",
       "      <th>S3</th>\n",
       "      <th>S4</th>\n",
       "      <th>S5</th>\n",
       "      <th>S6</th>\n",
       "      <th>S7</th>\n",
       "      <th>S8</th>\n",
       "      <th>S9</th>\n",
       "      <th>...</th>\n",
       "      <th>S46</th>\n",
       "      <th>S47</th>\n",
       "      <th>S48</th>\n",
       "      <th>S49</th>\n",
       "      <th>S50</th>\n",
       "      <th>S51</th>\n",
       "      <th>start_station</th>\n",
       "      <th>end_station</th>\n",
       "      <th>path_length</th>\n",
       "      <th>Id</th>\n",
       "    </tr>\n",
       "  </thead>\n",
       "  <tbody>\n",
       "    <tr>\n",
       "      <th>0</th>\n",
       "      <td>1</td>\n",
       "      <td>1</td>\n",
       "      <td>1</td>\n",
       "      <td>0</td>\n",
       "      <td>1</td>\n",
       "      <td>0</td>\n",
       "      <td>0</td>\n",
       "      <td>1</td>\n",
       "      <td>1</td>\n",
       "      <td>0</td>\n",
       "      <td>...</td>\n",
       "      <td>0</td>\n",
       "      <td>0</td>\n",
       "      <td>0</td>\n",
       "      <td>0</td>\n",
       "      <td>0</td>\n",
       "      <td>0</td>\n",
       "      <td>0</td>\n",
       "      <td>37</td>\n",
       "      <td>14</td>\n",
       "      <td>4</td>\n",
       "    </tr>\n",
       "    <tr>\n",
       "      <th>1</th>\n",
       "      <td>0</td>\n",
       "      <td>0</td>\n",
       "      <td>0</td>\n",
       "      <td>0</td>\n",
       "      <td>0</td>\n",
       "      <td>0</td>\n",
       "      <td>0</td>\n",
       "      <td>0</td>\n",
       "      <td>0</td>\n",
       "      <td>0</td>\n",
       "      <td>...</td>\n",
       "      <td>0</td>\n",
       "      <td>0</td>\n",
       "      <td>0</td>\n",
       "      <td>0</td>\n",
       "      <td>0</td>\n",
       "      <td>0</td>\n",
       "      <td>12</td>\n",
       "      <td>37</td>\n",
       "      <td>13</td>\n",
       "      <td>6</td>\n",
       "    </tr>\n",
       "    <tr>\n",
       "      <th>2</th>\n",
       "      <td>1</td>\n",
       "      <td>1</td>\n",
       "      <td>1</td>\n",
       "      <td>0</td>\n",
       "      <td>0</td>\n",
       "      <td>1</td>\n",
       "      <td>1</td>\n",
       "      <td>0</td>\n",
       "      <td>1</td>\n",
       "      <td>0</td>\n",
       "      <td>...</td>\n",
       "      <td>0</td>\n",
       "      <td>0</td>\n",
       "      <td>0</td>\n",
       "      <td>0</td>\n",
       "      <td>0</td>\n",
       "      <td>0</td>\n",
       "      <td>0</td>\n",
       "      <td>37</td>\n",
       "      <td>13</td>\n",
       "      <td>7</td>\n",
       "    </tr>\n",
       "    <tr>\n",
       "      <th>3</th>\n",
       "      <td>1</td>\n",
       "      <td>1</td>\n",
       "      <td>1</td>\n",
       "      <td>0</td>\n",
       "      <td>1</td>\n",
       "      <td>0</td>\n",
       "      <td>0</td>\n",
       "      <td>1</td>\n",
       "      <td>1</td>\n",
       "      <td>0</td>\n",
       "      <td>...</td>\n",
       "      <td>0</td>\n",
       "      <td>0</td>\n",
       "      <td>0</td>\n",
       "      <td>0</td>\n",
       "      <td>0</td>\n",
       "      <td>0</td>\n",
       "      <td>0</td>\n",
       "      <td>37</td>\n",
       "      <td>13</td>\n",
       "      <td>9</td>\n",
       "    </tr>\n",
       "    <tr>\n",
       "      <th>4</th>\n",
       "      <td>1</td>\n",
       "      <td>1</td>\n",
       "      <td>0</td>\n",
       "      <td>1</td>\n",
       "      <td>1</td>\n",
       "      <td>0</td>\n",
       "      <td>0</td>\n",
       "      <td>1</td>\n",
       "      <td>1</td>\n",
       "      <td>0</td>\n",
       "      <td>...</td>\n",
       "      <td>0</td>\n",
       "      <td>0</td>\n",
       "      <td>0</td>\n",
       "      <td>0</td>\n",
       "      <td>0</td>\n",
       "      <td>0</td>\n",
       "      <td>0</td>\n",
       "      <td>37</td>\n",
       "      <td>13</td>\n",
       "      <td>11</td>\n",
       "    </tr>\n",
       "  </tbody>\n",
       "</table>\n",
       "<p>5 rows × 56 columns</p>\n",
       "</div>"
      ],
      "text/plain": [
       "   S0  S1  S2  S3  S4  S5  S6  S7  S8  S9  ...  S46  S47  S48  S49  S50  S51  \\\n",
       "0   1   1   1   0   1   0   0   1   1   0  ...    0    0    0    0    0    0   \n",
       "1   0   0   0   0   0   0   0   0   0   0  ...    0    0    0    0    0    0   \n",
       "2   1   1   1   0   0   1   1   0   1   0  ...    0    0    0    0    0    0   \n",
       "3   1   1   1   0   1   0   0   1   1   0  ...    0    0    0    0    0    0   \n",
       "4   1   1   0   1   1   0   0   1   1   0  ...    0    0    0    0    0    0   \n",
       "\n",
       "   start_station  end_station  path_length  Id  \n",
       "0              0           37           14   4  \n",
       "1             12           37           13   6  \n",
       "2              0           37           13   7  \n",
       "3              0           37           13   9  \n",
       "4              0           37           13  11  \n",
       "\n",
       "[5 rows x 56 columns]"
      ]
     },
     "execution_count": 34,
     "metadata": {},
     "output_type": "execute_result"
    }
   ],
   "source": [
    "df = pd.read_csv('C:\\\\OBS Studio\\\\self_case_study_file\\\\train_date.csv.zip',usecols = ['Id'])\n",
    "ohe_station['Id'] = df['Id']\n",
    "ohe_station.head(5)"
   ]
  },
  {
   "cell_type": "code",
   "execution_count": 35,
   "id": "75f3f516",
   "metadata": {},
   "outputs": [
    {
     "name": "stderr",
     "output_type": "stream",
     "text": [
      "119it [02:14,  1.13s/it]\n"
     ]
    }
   ],
   "source": [
    "#credit:-https://www.kaggle.com/choithuthoi/my-solution\n",
    "\n",
    "new_date_feature = pd.DataFrame()\n",
    "for chunk_df in tqdm(pd.read_csv('C:\\\\OBS Studio\\\\self_case_study_file\\\\train_date.csv.zip',iterator=True, chunksize=10000,compression='zip',low_memory=False)):\n",
    "    columns = chunk_df.columns[1:] \n",
    "    df = chunk_df[['Id']].copy()\n",
    "    df['mintime'] = chunk_df[columns].min(axis=1).values\n",
    "    df['maxtime'] = chunk_df[columns].max(axis=1).values\n",
    "    df['time_difference'] =  df['maxtime'] - df['mintime']\n",
    "    df.fillna(0,inplace=True)\n",
    "    week_duration = 1679\n",
    "    \n",
    "    df['part_week'] = ((df['mintime'].values * 100)  % week_duration).astype(np.int64)\n",
    "    df['min_time_station'] =  chunk_df[columns].idxmin(axis = 1).apply(lambda s: int(s.split('_')[1][1:]) if s is not np.nan else -1)\n",
    "    df['max_time_station'] =  chunk_df[columns].idxmax(axis = 1).apply(lambda s: int(s.split('_')[1][1:]) if s is not np.nan else -1)\n",
    "    new_date_feature = pd.concat([new_date_feature,df])"
   ]
  },
  {
   "cell_type": "code",
   "execution_count": 36,
   "id": "ab9b2b5a",
   "metadata": {},
   "outputs": [],
   "source": [
    "#credit:-https://www.kaggle.com/choithuthoi/my-solution\n",
    "new_date_feature.sort_values(by=['mintime', 'Id'], inplace=True)\n",
    "new_date_feature['mindate_id_diff'] = new_date_feature.Id.diff()\n",
    "midr = np.full_like(new_date_feature.mindate_id_diff.values, np.nan)\n",
    "midr[0:-1] = -new_date_feature.mindate_id_diff.values[1:]\n",
    "new_date_feature['mindate_id_diff_reverse'] = midr"
   ]
  },
  {
   "cell_type": "code",
   "execution_count": 37,
   "id": "df4f6ffb",
   "metadata": {},
   "outputs": [],
   "source": [
    "new_date_feature.sort_values(by=['Id'],inplace=True)"
   ]
  },
  {
   "cell_type": "code",
   "execution_count": 38,
   "id": "f82e8073",
   "metadata": {},
   "outputs": [
    {
     "data": {
      "text/html": [
       "<div>\n",
       "<style scoped>\n",
       "    .dataframe tbody tr th:only-of-type {\n",
       "        vertical-align: middle;\n",
       "    }\n",
       "\n",
       "    .dataframe tbody tr th {\n",
       "        vertical-align: top;\n",
       "    }\n",
       "\n",
       "    .dataframe thead th {\n",
       "        text-align: right;\n",
       "    }\n",
       "</style>\n",
       "<table border=\"1\" class=\"dataframe\">\n",
       "  <thead>\n",
       "    <tr style=\"text-align: right;\">\n",
       "      <th></th>\n",
       "      <th>Id</th>\n",
       "      <th>mintime</th>\n",
       "      <th>maxtime</th>\n",
       "      <th>time_difference</th>\n",
       "      <th>part_week</th>\n",
       "      <th>min_time_station</th>\n",
       "      <th>max_time_station</th>\n",
       "      <th>mindate_id_diff</th>\n",
       "      <th>mindate_id_diff_reverse</th>\n",
       "    </tr>\n",
       "  </thead>\n",
       "  <tbody>\n",
       "    <tr>\n",
       "      <th>0</th>\n",
       "      <td>4</td>\n",
       "      <td>82.24</td>\n",
       "      <td>87.29</td>\n",
       "      <td>5.05</td>\n",
       "      <td>1508</td>\n",
       "      <td>0</td>\n",
       "      <td>35</td>\n",
       "      <td>-2314450.0</td>\n",
       "      <td>-224451.0</td>\n",
       "    </tr>\n",
       "    <tr>\n",
       "      <th>1</th>\n",
       "      <td>6</td>\n",
       "      <td>1313.12</td>\n",
       "      <td>1315.75</td>\n",
       "      <td>2.63</td>\n",
       "      <td>350</td>\n",
       "      <td>12</td>\n",
       "      <td>33</td>\n",
       "      <td>-943242.0</td>\n",
       "      <td>-67530.0</td>\n",
       "    </tr>\n",
       "    <tr>\n",
       "      <th>2</th>\n",
       "      <td>7</td>\n",
       "      <td>1618.70</td>\n",
       "      <td>1624.42</td>\n",
       "      <td>5.72</td>\n",
       "      <td>686</td>\n",
       "      <td>0</td>\n",
       "      <td>33</td>\n",
       "      <td>-2313512.0</td>\n",
       "      <td>-26876.0</td>\n",
       "    </tr>\n",
       "    <tr>\n",
       "      <th>3</th>\n",
       "      <td>9</td>\n",
       "      <td>1149.20</td>\n",
       "      <td>1154.16</td>\n",
       "      <td>4.96</td>\n",
       "      <td>748</td>\n",
       "      <td>0</td>\n",
       "      <td>36</td>\n",
       "      <td>-2196581.0</td>\n",
       "      <td>-7838.0</td>\n",
       "    </tr>\n",
       "    <tr>\n",
       "      <th>4</th>\n",
       "      <td>11</td>\n",
       "      <td>602.64</td>\n",
       "      <td>606.02</td>\n",
       "      <td>3.38</td>\n",
       "      <td>1499</td>\n",
       "      <td>0</td>\n",
       "      <td>36</td>\n",
       "      <td>-2226678.0</td>\n",
       "      <td>-6827.0</td>\n",
       "    </tr>\n",
       "  </tbody>\n",
       "</table>\n",
       "</div>"
      ],
      "text/plain": [
       "   Id  mintime  maxtime  time_difference  part_week  min_time_station  \\\n",
       "0   4    82.24    87.29             5.05       1508                 0   \n",
       "1   6  1313.12  1315.75             2.63        350                12   \n",
       "2   7  1618.70  1624.42             5.72        686                 0   \n",
       "3   9  1149.20  1154.16             4.96        748                 0   \n",
       "4  11   602.64   606.02             3.38       1499                 0   \n",
       "\n",
       "   max_time_station  mindate_id_diff  mindate_id_diff_reverse  \n",
       "0                35       -2314450.0                -224451.0  \n",
       "1                33        -943242.0                 -67530.0  \n",
       "2                33       -2313512.0                 -26876.0  \n",
       "3                36       -2196581.0                  -7838.0  \n",
       "4                36       -2226678.0                  -6827.0  "
      ]
     },
     "execution_count": 38,
     "metadata": {},
     "output_type": "execute_result"
    }
   ],
   "source": [
    "new_date_feature.head()"
   ]
  },
  {
   "cell_type": "code",
   "execution_count": 39,
   "id": "49ac698d",
   "metadata": {},
   "outputs": [
    {
     "data": {
      "text/html": [
       "<div>\n",
       "<style scoped>\n",
       "    .dataframe tbody tr th:only-of-type {\n",
       "        vertical-align: middle;\n",
       "    }\n",
       "\n",
       "    .dataframe tbody tr th {\n",
       "        vertical-align: top;\n",
       "    }\n",
       "\n",
       "    .dataframe thead th {\n",
       "        text-align: right;\n",
       "    }\n",
       "</style>\n",
       "<table border=\"1\" class=\"dataframe\">\n",
       "  <thead>\n",
       "    <tr style=\"text-align: right;\">\n",
       "      <th></th>\n",
       "      <th>Id</th>\n",
       "      <th>mintime</th>\n",
       "      <th>maxtime</th>\n",
       "      <th>time_difference</th>\n",
       "      <th>part_week</th>\n",
       "      <th>min_time_station</th>\n",
       "      <th>max_time_station</th>\n",
       "      <th>mindate_id_diff</th>\n",
       "      <th>mindate_id_diff_reverse</th>\n",
       "      <th>S0</th>\n",
       "      <th>...</th>\n",
       "      <th>S45</th>\n",
       "      <th>S46</th>\n",
       "      <th>S47</th>\n",
       "      <th>S48</th>\n",
       "      <th>S49</th>\n",
       "      <th>S50</th>\n",
       "      <th>S51</th>\n",
       "      <th>start_station</th>\n",
       "      <th>end_station</th>\n",
       "      <th>path_length</th>\n",
       "    </tr>\n",
       "  </thead>\n",
       "  <tbody>\n",
       "    <tr>\n",
       "      <th>0</th>\n",
       "      <td>4</td>\n",
       "      <td>82.24</td>\n",
       "      <td>87.29</td>\n",
       "      <td>5.05</td>\n",
       "      <td>1508</td>\n",
       "      <td>0</td>\n",
       "      <td>35</td>\n",
       "      <td>-2314450.0</td>\n",
       "      <td>-224451.0</td>\n",
       "      <td>1</td>\n",
       "      <td>...</td>\n",
       "      <td>0</td>\n",
       "      <td>0</td>\n",
       "      <td>0</td>\n",
       "      <td>0</td>\n",
       "      <td>0</td>\n",
       "      <td>0</td>\n",
       "      <td>0</td>\n",
       "      <td>0</td>\n",
       "      <td>37</td>\n",
       "      <td>14</td>\n",
       "    </tr>\n",
       "    <tr>\n",
       "      <th>1</th>\n",
       "      <td>6</td>\n",
       "      <td>1313.12</td>\n",
       "      <td>1315.75</td>\n",
       "      <td>2.63</td>\n",
       "      <td>350</td>\n",
       "      <td>12</td>\n",
       "      <td>33</td>\n",
       "      <td>-943242.0</td>\n",
       "      <td>-67530.0</td>\n",
       "      <td>0</td>\n",
       "      <td>...</td>\n",
       "      <td>0</td>\n",
       "      <td>0</td>\n",
       "      <td>0</td>\n",
       "      <td>0</td>\n",
       "      <td>0</td>\n",
       "      <td>0</td>\n",
       "      <td>0</td>\n",
       "      <td>12</td>\n",
       "      <td>37</td>\n",
       "      <td>13</td>\n",
       "    </tr>\n",
       "    <tr>\n",
       "      <th>2</th>\n",
       "      <td>7</td>\n",
       "      <td>1618.70</td>\n",
       "      <td>1624.42</td>\n",
       "      <td>5.72</td>\n",
       "      <td>686</td>\n",
       "      <td>0</td>\n",
       "      <td>33</td>\n",
       "      <td>-2313512.0</td>\n",
       "      <td>-26876.0</td>\n",
       "      <td>1</td>\n",
       "      <td>...</td>\n",
       "      <td>0</td>\n",
       "      <td>0</td>\n",
       "      <td>0</td>\n",
       "      <td>0</td>\n",
       "      <td>0</td>\n",
       "      <td>0</td>\n",
       "      <td>0</td>\n",
       "      <td>0</td>\n",
       "      <td>37</td>\n",
       "      <td>13</td>\n",
       "    </tr>\n",
       "    <tr>\n",
       "      <th>3</th>\n",
       "      <td>9</td>\n",
       "      <td>1149.20</td>\n",
       "      <td>1154.16</td>\n",
       "      <td>4.96</td>\n",
       "      <td>748</td>\n",
       "      <td>0</td>\n",
       "      <td>36</td>\n",
       "      <td>-2196581.0</td>\n",
       "      <td>-7838.0</td>\n",
       "      <td>1</td>\n",
       "      <td>...</td>\n",
       "      <td>0</td>\n",
       "      <td>0</td>\n",
       "      <td>0</td>\n",
       "      <td>0</td>\n",
       "      <td>0</td>\n",
       "      <td>0</td>\n",
       "      <td>0</td>\n",
       "      <td>0</td>\n",
       "      <td>37</td>\n",
       "      <td>13</td>\n",
       "    </tr>\n",
       "    <tr>\n",
       "      <th>4</th>\n",
       "      <td>11</td>\n",
       "      <td>602.64</td>\n",
       "      <td>606.02</td>\n",
       "      <td>3.38</td>\n",
       "      <td>1499</td>\n",
       "      <td>0</td>\n",
       "      <td>36</td>\n",
       "      <td>-2226678.0</td>\n",
       "      <td>-6827.0</td>\n",
       "      <td>1</td>\n",
       "      <td>...</td>\n",
       "      <td>0</td>\n",
       "      <td>0</td>\n",
       "      <td>0</td>\n",
       "      <td>0</td>\n",
       "      <td>0</td>\n",
       "      <td>0</td>\n",
       "      <td>0</td>\n",
       "      <td>0</td>\n",
       "      <td>37</td>\n",
       "      <td>13</td>\n",
       "    </tr>\n",
       "  </tbody>\n",
       "</table>\n",
       "<p>5 rows × 64 columns</p>\n",
       "</div>"
      ],
      "text/plain": [
       "   Id  mintime  maxtime  time_difference  part_week  min_time_station  \\\n",
       "0   4    82.24    87.29             5.05       1508                 0   \n",
       "1   6  1313.12  1315.75             2.63        350                12   \n",
       "2   7  1618.70  1624.42             5.72        686                 0   \n",
       "3   9  1149.20  1154.16             4.96        748                 0   \n",
       "4  11   602.64   606.02             3.38       1499                 0   \n",
       "\n",
       "   max_time_station  mindate_id_diff  mindate_id_diff_reverse  S0  ...  S45  \\\n",
       "0                35       -2314450.0                -224451.0   1  ...    0   \n",
       "1                33        -943242.0                 -67530.0   0  ...    0   \n",
       "2                33       -2313512.0                 -26876.0   1  ...    0   \n",
       "3                36       -2196581.0                  -7838.0   1  ...    0   \n",
       "4                36       -2226678.0                  -6827.0   1  ...    0   \n",
       "\n",
       "   S46  S47  S48  S49  S50  S51  start_station  end_station  path_length  \n",
       "0    0    0    0    0    0    0              0           37           14  \n",
       "1    0    0    0    0    0    0             12           37           13  \n",
       "2    0    0    0    0    0    0              0           37           13  \n",
       "3    0    0    0    0    0    0              0           37           13  \n",
       "4    0    0    0    0    0    0              0           37           13  \n",
       "\n",
       "[5 rows x 64 columns]"
      ]
     },
     "execution_count": 39,
     "metadata": {},
     "output_type": "execute_result"
    }
   ],
   "source": [
    "final_date_feature = pd.merge(new_date_feature,ohe_station,on = 'Id')\n",
    "final_date_feature.head()"
   ]
  },
  {
   "cell_type": "code",
   "execution_count": 58,
   "id": "8780e8b1",
   "metadata": {},
   "outputs": [
    {
     "data": {
      "text/html": [
       "<div>\n",
       "<style scoped>\n",
       "    .dataframe tbody tr th:only-of-type {\n",
       "        vertical-align: middle;\n",
       "    }\n",
       "\n",
       "    .dataframe tbody tr th {\n",
       "        vertical-align: top;\n",
       "    }\n",
       "\n",
       "    .dataframe thead th {\n",
       "        text-align: right;\n",
       "    }\n",
       "</style>\n",
       "<table border=\"1\" class=\"dataframe\">\n",
       "  <thead>\n",
       "    <tr style=\"text-align: right;\">\n",
       "      <th></th>\n",
       "      <th>Id</th>\n",
       "      <th>L0_S0_D1</th>\n",
       "      <th>L0_S0_D3</th>\n",
       "      <th>L0_S1_D26</th>\n",
       "      <th>L0_S1_D30</th>\n",
       "      <th>L0_S2_D34</th>\n",
       "      <th>L0_S2_D38</th>\n",
       "      <th>L0_S3_D70</th>\n",
       "      <th>L0_S3_D74</th>\n",
       "      <th>L0_S4_D106</th>\n",
       "      <th>...</th>\n",
       "      <th>L3_S47_D4140</th>\n",
       "      <th>L3_S47_D4145</th>\n",
       "      <th>L3_S48_D4194</th>\n",
       "      <th>L3_S48_D4195</th>\n",
       "      <th>L3_S49_D4218</th>\n",
       "      <th>L3_S49_D4223</th>\n",
       "      <th>L3_S50_D4242</th>\n",
       "      <th>L3_S50_D4244</th>\n",
       "      <th>L3_S51_D4255</th>\n",
       "      <th>L3_S51_D4257</th>\n",
       "    </tr>\n",
       "  </thead>\n",
       "  <tbody>\n",
       "    <tr>\n",
       "      <th>0</th>\n",
       "      <td>4</td>\n",
       "      <td>82.24</td>\n",
       "      <td>82.24</td>\n",
       "      <td>82.24</td>\n",
       "      <td>82.24</td>\n",
       "      <td>82.24</td>\n",
       "      <td>82.24</td>\n",
       "      <td>NaN</td>\n",
       "      <td>NaN</td>\n",
       "      <td>82.26</td>\n",
       "      <td>...</td>\n",
       "      <td>NaN</td>\n",
       "      <td>NaN</td>\n",
       "      <td>NaN</td>\n",
       "      <td>NaN</td>\n",
       "      <td>NaN</td>\n",
       "      <td>NaN</td>\n",
       "      <td>NaN</td>\n",
       "      <td>NaN</td>\n",
       "      <td>NaN</td>\n",
       "      <td>NaN</td>\n",
       "    </tr>\n",
       "    <tr>\n",
       "      <th>1</th>\n",
       "      <td>6</td>\n",
       "      <td>NaN</td>\n",
       "      <td>NaN</td>\n",
       "      <td>NaN</td>\n",
       "      <td>NaN</td>\n",
       "      <td>NaN</td>\n",
       "      <td>NaN</td>\n",
       "      <td>NaN</td>\n",
       "      <td>NaN</td>\n",
       "      <td>NaN</td>\n",
       "      <td>...</td>\n",
       "      <td>NaN</td>\n",
       "      <td>NaN</td>\n",
       "      <td>NaN</td>\n",
       "      <td>NaN</td>\n",
       "      <td>NaN</td>\n",
       "      <td>NaN</td>\n",
       "      <td>NaN</td>\n",
       "      <td>NaN</td>\n",
       "      <td>NaN</td>\n",
       "      <td>NaN</td>\n",
       "    </tr>\n",
       "    <tr>\n",
       "      <th>2</th>\n",
       "      <td>7</td>\n",
       "      <td>1618.70</td>\n",
       "      <td>1618.70</td>\n",
       "      <td>1618.70</td>\n",
       "      <td>1618.70</td>\n",
       "      <td>1618.70</td>\n",
       "      <td>1618.70</td>\n",
       "      <td>NaN</td>\n",
       "      <td>NaN</td>\n",
       "      <td>NaN</td>\n",
       "      <td>...</td>\n",
       "      <td>NaN</td>\n",
       "      <td>NaN</td>\n",
       "      <td>NaN</td>\n",
       "      <td>NaN</td>\n",
       "      <td>NaN</td>\n",
       "      <td>NaN</td>\n",
       "      <td>NaN</td>\n",
       "      <td>NaN</td>\n",
       "      <td>NaN</td>\n",
       "      <td>NaN</td>\n",
       "    </tr>\n",
       "    <tr>\n",
       "      <th>3</th>\n",
       "      <td>9</td>\n",
       "      <td>1149.20</td>\n",
       "      <td>1149.20</td>\n",
       "      <td>1149.20</td>\n",
       "      <td>1149.20</td>\n",
       "      <td>1149.21</td>\n",
       "      <td>1149.21</td>\n",
       "      <td>NaN</td>\n",
       "      <td>NaN</td>\n",
       "      <td>1149.22</td>\n",
       "      <td>...</td>\n",
       "      <td>NaN</td>\n",
       "      <td>NaN</td>\n",
       "      <td>NaN</td>\n",
       "      <td>NaN</td>\n",
       "      <td>NaN</td>\n",
       "      <td>NaN</td>\n",
       "      <td>NaN</td>\n",
       "      <td>NaN</td>\n",
       "      <td>NaN</td>\n",
       "      <td>NaN</td>\n",
       "    </tr>\n",
       "    <tr>\n",
       "      <th>4</th>\n",
       "      <td>11</td>\n",
       "      <td>602.64</td>\n",
       "      <td>602.64</td>\n",
       "      <td>602.64</td>\n",
       "      <td>602.64</td>\n",
       "      <td>NaN</td>\n",
       "      <td>NaN</td>\n",
       "      <td>602.64</td>\n",
       "      <td>602.64</td>\n",
       "      <td>602.66</td>\n",
       "      <td>...</td>\n",
       "      <td>NaN</td>\n",
       "      <td>NaN</td>\n",
       "      <td>NaN</td>\n",
       "      <td>NaN</td>\n",
       "      <td>NaN</td>\n",
       "      <td>NaN</td>\n",
       "      <td>NaN</td>\n",
       "      <td>NaN</td>\n",
       "      <td>NaN</td>\n",
       "      <td>NaN</td>\n",
       "    </tr>\n",
       "  </tbody>\n",
       "</table>\n",
       "<p>5 rows × 103 columns</p>\n",
       "</div>"
      ],
      "text/plain": [
       "   Id  L0_S0_D1  L0_S0_D3  L0_S1_D26  L0_S1_D30  L0_S2_D34  L0_S2_D38  \\\n",
       "0   4     82.24     82.24      82.24      82.24      82.24      82.24   \n",
       "1   6       NaN       NaN        NaN        NaN        NaN        NaN   \n",
       "2   7   1618.70   1618.70    1618.70    1618.70    1618.70    1618.70   \n",
       "3   9   1149.20   1149.20    1149.20    1149.20    1149.21    1149.21   \n",
       "4  11    602.64    602.64     602.64     602.64        NaN        NaN   \n",
       "\n",
       "   L0_S3_D70  L0_S3_D74  L0_S4_D106  ...  L3_S47_D4140  L3_S47_D4145  \\\n",
       "0        NaN        NaN       82.26  ...           NaN           NaN   \n",
       "1        NaN        NaN         NaN  ...           NaN           NaN   \n",
       "2        NaN        NaN         NaN  ...           NaN           NaN   \n",
       "3        NaN        NaN     1149.22  ...           NaN           NaN   \n",
       "4     602.64     602.64      602.66  ...           NaN           NaN   \n",
       "\n",
       "   L3_S48_D4194  L3_S48_D4195  L3_S49_D4218  L3_S49_D4223  L3_S50_D4242  \\\n",
       "0           NaN           NaN           NaN           NaN           NaN   \n",
       "1           NaN           NaN           NaN           NaN           NaN   \n",
       "2           NaN           NaN           NaN           NaN           NaN   \n",
       "3           NaN           NaN           NaN           NaN           NaN   \n",
       "4           NaN           NaN           NaN           NaN           NaN   \n",
       "\n",
       "   L3_S50_D4244  L3_S51_D4255  L3_S51_D4257  \n",
       "0           NaN           NaN           NaN  \n",
       "1           NaN           NaN           NaN  \n",
       "2           NaN           NaN           NaN  \n",
       "3           NaN           NaN           NaN  \n",
       "4           NaN           NaN           NaN  \n",
       "\n",
       "[5 rows x 103 columns]"
      ]
     },
     "execution_count": 58,
     "metadata": {},
     "output_type": "execute_result"
    }
   ],
   "source": [
    "imp_date_cols_name = list(joblib.load('imp_date_cols_name.pkl').values[1:])\n",
    "imp_date_cols_name.append(\"Id\")\n",
    "imp_date_feature = pd.read_csv('C:\\\\OBS Studio\\\\self_case_study_file\\\\train_date.csv.zip',usecols = imp_date_cols_name)\n",
    "imp_date_feature.head()"
   ]
  },
  {
   "cell_type": "code",
   "execution_count": 59,
   "id": "a828e155",
   "metadata": {},
   "outputs": [],
   "source": [
    "final_date_feature = pd.merge(final_date_feature,imp_date_feature,on='Id')"
   ]
  },
  {
   "cell_type": "code",
   "execution_count": 60,
   "id": "2255886e",
   "metadata": {},
   "outputs": [
    {
     "data": {
      "text/html": [
       "<div>\n",
       "<style scoped>\n",
       "    .dataframe tbody tr th:only-of-type {\n",
       "        vertical-align: middle;\n",
       "    }\n",
       "\n",
       "    .dataframe tbody tr th {\n",
       "        vertical-align: top;\n",
       "    }\n",
       "\n",
       "    .dataframe thead th {\n",
       "        text-align: right;\n",
       "    }\n",
       "</style>\n",
       "<table border=\"1\" class=\"dataframe\">\n",
       "  <thead>\n",
       "    <tr style=\"text-align: right;\">\n",
       "      <th></th>\n",
       "      <th>Id</th>\n",
       "      <th>mintime</th>\n",
       "      <th>maxtime</th>\n",
       "      <th>time_difference</th>\n",
       "      <th>part_week</th>\n",
       "      <th>min_time_station</th>\n",
       "      <th>max_time_station</th>\n",
       "      <th>mindate_id_diff</th>\n",
       "      <th>mindate_id_diff_reverse</th>\n",
       "      <th>S0</th>\n",
       "      <th>...</th>\n",
       "      <th>L3_S47_D4140</th>\n",
       "      <th>L3_S47_D4145</th>\n",
       "      <th>L3_S48_D4194</th>\n",
       "      <th>L3_S48_D4195</th>\n",
       "      <th>L3_S49_D4218</th>\n",
       "      <th>L3_S49_D4223</th>\n",
       "      <th>L3_S50_D4242</th>\n",
       "      <th>L3_S50_D4244</th>\n",
       "      <th>L3_S51_D4255</th>\n",
       "      <th>L3_S51_D4257</th>\n",
       "    </tr>\n",
       "  </thead>\n",
       "  <tbody>\n",
       "    <tr>\n",
       "      <th>0</th>\n",
       "      <td>4</td>\n",
       "      <td>82.24</td>\n",
       "      <td>87.29</td>\n",
       "      <td>5.05</td>\n",
       "      <td>1508</td>\n",
       "      <td>0</td>\n",
       "      <td>35</td>\n",
       "      <td>-2314450.0</td>\n",
       "      <td>-224451.0</td>\n",
       "      <td>1</td>\n",
       "      <td>...</td>\n",
       "      <td>NaN</td>\n",
       "      <td>NaN</td>\n",
       "      <td>NaN</td>\n",
       "      <td>NaN</td>\n",
       "      <td>NaN</td>\n",
       "      <td>NaN</td>\n",
       "      <td>NaN</td>\n",
       "      <td>NaN</td>\n",
       "      <td>NaN</td>\n",
       "      <td>NaN</td>\n",
       "    </tr>\n",
       "    <tr>\n",
       "      <th>1</th>\n",
       "      <td>6</td>\n",
       "      <td>1313.12</td>\n",
       "      <td>1315.75</td>\n",
       "      <td>2.63</td>\n",
       "      <td>350</td>\n",
       "      <td>12</td>\n",
       "      <td>33</td>\n",
       "      <td>-943242.0</td>\n",
       "      <td>-67530.0</td>\n",
       "      <td>0</td>\n",
       "      <td>...</td>\n",
       "      <td>NaN</td>\n",
       "      <td>NaN</td>\n",
       "      <td>NaN</td>\n",
       "      <td>NaN</td>\n",
       "      <td>NaN</td>\n",
       "      <td>NaN</td>\n",
       "      <td>NaN</td>\n",
       "      <td>NaN</td>\n",
       "      <td>NaN</td>\n",
       "      <td>NaN</td>\n",
       "    </tr>\n",
       "    <tr>\n",
       "      <th>2</th>\n",
       "      <td>7</td>\n",
       "      <td>1618.70</td>\n",
       "      <td>1624.42</td>\n",
       "      <td>5.72</td>\n",
       "      <td>686</td>\n",
       "      <td>0</td>\n",
       "      <td>33</td>\n",
       "      <td>-2313512.0</td>\n",
       "      <td>-26876.0</td>\n",
       "      <td>1</td>\n",
       "      <td>...</td>\n",
       "      <td>NaN</td>\n",
       "      <td>NaN</td>\n",
       "      <td>NaN</td>\n",
       "      <td>NaN</td>\n",
       "      <td>NaN</td>\n",
       "      <td>NaN</td>\n",
       "      <td>NaN</td>\n",
       "      <td>NaN</td>\n",
       "      <td>NaN</td>\n",
       "      <td>NaN</td>\n",
       "    </tr>\n",
       "    <tr>\n",
       "      <th>3</th>\n",
       "      <td>9</td>\n",
       "      <td>1149.20</td>\n",
       "      <td>1154.16</td>\n",
       "      <td>4.96</td>\n",
       "      <td>748</td>\n",
       "      <td>0</td>\n",
       "      <td>36</td>\n",
       "      <td>-2196581.0</td>\n",
       "      <td>-7838.0</td>\n",
       "      <td>1</td>\n",
       "      <td>...</td>\n",
       "      <td>NaN</td>\n",
       "      <td>NaN</td>\n",
       "      <td>NaN</td>\n",
       "      <td>NaN</td>\n",
       "      <td>NaN</td>\n",
       "      <td>NaN</td>\n",
       "      <td>NaN</td>\n",
       "      <td>NaN</td>\n",
       "      <td>NaN</td>\n",
       "      <td>NaN</td>\n",
       "    </tr>\n",
       "    <tr>\n",
       "      <th>4</th>\n",
       "      <td>11</td>\n",
       "      <td>602.64</td>\n",
       "      <td>606.02</td>\n",
       "      <td>3.38</td>\n",
       "      <td>1499</td>\n",
       "      <td>0</td>\n",
       "      <td>36</td>\n",
       "      <td>-2226678.0</td>\n",
       "      <td>-6827.0</td>\n",
       "      <td>1</td>\n",
       "      <td>...</td>\n",
       "      <td>NaN</td>\n",
       "      <td>NaN</td>\n",
       "      <td>NaN</td>\n",
       "      <td>NaN</td>\n",
       "      <td>NaN</td>\n",
       "      <td>NaN</td>\n",
       "      <td>NaN</td>\n",
       "      <td>NaN</td>\n",
       "      <td>NaN</td>\n",
       "      <td>NaN</td>\n",
       "    </tr>\n",
       "  </tbody>\n",
       "</table>\n",
       "<p>5 rows × 166 columns</p>\n",
       "</div>"
      ],
      "text/plain": [
       "   Id  mintime  maxtime  time_difference  part_week  min_time_station  \\\n",
       "0   4    82.24    87.29             5.05       1508                 0   \n",
       "1   6  1313.12  1315.75             2.63        350                12   \n",
       "2   7  1618.70  1624.42             5.72        686                 0   \n",
       "3   9  1149.20  1154.16             4.96        748                 0   \n",
       "4  11   602.64   606.02             3.38       1499                 0   \n",
       "\n",
       "   max_time_station  mindate_id_diff  mindate_id_diff_reverse  S0  ...  \\\n",
       "0                35       -2314450.0                -224451.0   1  ...   \n",
       "1                33        -943242.0                 -67530.0   0  ...   \n",
       "2                33       -2313512.0                 -26876.0   1  ...   \n",
       "3                36       -2196581.0                  -7838.0   1  ...   \n",
       "4                36       -2226678.0                  -6827.0   1  ...   \n",
       "\n",
       "   L3_S47_D4140  L3_S47_D4145  L3_S48_D4194  L3_S48_D4195  L3_S49_D4218  \\\n",
       "0           NaN           NaN           NaN           NaN           NaN   \n",
       "1           NaN           NaN           NaN           NaN           NaN   \n",
       "2           NaN           NaN           NaN           NaN           NaN   \n",
       "3           NaN           NaN           NaN           NaN           NaN   \n",
       "4           NaN           NaN           NaN           NaN           NaN   \n",
       "\n",
       "   L3_S49_D4223  L3_S50_D4242  L3_S50_D4244  L3_S51_D4255  L3_S51_D4257  \n",
       "0           NaN           NaN           NaN           NaN           NaN  \n",
       "1           NaN           NaN           NaN           NaN           NaN  \n",
       "2           NaN           NaN           NaN           NaN           NaN  \n",
       "3           NaN           NaN           NaN           NaN           NaN  \n",
       "4           NaN           NaN           NaN           NaN           NaN  \n",
       "\n",
       "[5 rows x 166 columns]"
      ]
     },
     "execution_count": 60,
     "metadata": {},
     "output_type": "execute_result"
    }
   ],
   "source": [
    "final_date_feature.head()"
   ]
  },
  {
   "cell_type": "code",
   "execution_count": 61,
   "id": "284d6f3e",
   "metadata": {},
   "outputs": [],
   "source": [
    "#final_date_feature.to_csv('final_date_feature_train1.csv')"
   ]
  },
  {
   "cell_type": "code",
   "execution_count": 2,
   "id": "dcb5ad06",
   "metadata": {},
   "outputs": [],
   "source": [
    "final_date_feature = pd.read_csv('final_date_feature_train1.csv').drop('Unnamed: 0',axis=1)"
   ]
  },
  {
   "cell_type": "code",
   "execution_count": 3,
   "id": "d296a515",
   "metadata": {},
   "outputs": [],
   "source": [
    "df_date = pd.read_csv('C:\\\\OBS Studio\\\\self_case_study_file\\\\train_date.csv',nrows=10)\n",
    "line = ['L0','L1','L2','L3']\n",
    "d = {} #key=station name and value=all the date feature related to that station\n",
    "for l in line:\n",
    "    lst = []\n",
    "    for i in df_date.columns[1:]:\n",
    "        t = i.split(\"_\")\n",
    "        if l in t:\n",
    "            lst.append(i)\n",
    "    d[l] = lst"
   ]
  },
  {
   "cell_type": "code",
   "execution_count": 4,
   "id": "6681d6a5",
   "metadata": {},
   "outputs": [
    {
     "name": "stderr",
     "output_type": "stream",
     "text": [
      "119it [01:23,  1.43it/s]\n"
     ]
    }
   ],
   "source": [
    "#total no of feature related to each production line / how many features visited by the product\n",
    "fraction_of_measurements = pd.DataFrame()\n",
    "for chunk_df in tqdm(pd.read_csv('C:\\\\OBS Studio\\\\self_case_study_file\\\\train_date.csv.zip',iterator=True, chunksize=10000,compression='zip',low_memory=False)):\n",
    "    df = chunk_df[['Id']].copy()\n",
    "    for l in line:\n",
    "        col = d[l]\n",
    "        temp = chunk_df[col]\n",
    "        df['fraction_of_measurements'+l] = temp.count(axis=1)/len(col)\n",
    "    fraction_of_measurements = pd.concat([fraction_of_measurements,df])"
   ]
  },
  {
   "cell_type": "code",
   "execution_count": 5,
   "id": "8f7b413c",
   "metadata": {},
   "outputs": [],
   "source": [
    "final_date_feature['average_time_per_measurement'] = final_date_feature['time_difference']/final_date_feature['path_length']"
   ]
  },
  {
   "cell_type": "code",
   "execution_count": 6,
   "id": "bd32ed10",
   "metadata": {},
   "outputs": [],
   "source": [
    "final_date_features = pd.merge(final_date_feature,fraction_of_measurements,on=\"Id\")"
   ]
  },
  {
   "cell_type": "code",
   "execution_count": 7,
   "id": "d29f421c",
   "metadata": {},
   "outputs": [
    {
     "data": {
      "text/plain": [
       "(1183747, 171)"
      ]
     },
     "execution_count": 7,
     "metadata": {},
     "output_type": "execute_result"
    }
   ],
   "source": [
    "final_date_features.shape"
   ]
  },
  {
   "cell_type": "code",
   "execution_count": 8,
   "id": "53d5dca1",
   "metadata": {},
   "outputs": [],
   "source": [
    "imp_station = ['S32', 'S24', 'S38', 'S26', 'S28', 'S27', 'S36', 'S37', 'S30', 'S29']"
   ]
  },
  {
   "cell_type": "code",
   "execution_count": 9,
   "id": "92f0fa43",
   "metadata": {},
   "outputs": [
    {
     "name": "stderr",
     "output_type": "stream",
     "text": [
      "100%|█████████████████████████████████████████████████████████████████████| 1183747/1183747 [01:04<00:00, 18376.96it/s]\n"
     ]
    }
   ],
   "source": [
    "lst = []\n",
    "imp_date_st = final_date_features[imp_station]\n",
    "for i in tqdm(range(len(final_date_features))):\n",
    "    lst.append((np.count_nonzero(imp_date_st.iloc[i]))/10)"
   ]
  },
  {
   "cell_type": "code",
   "execution_count": 10,
   "id": "e8984827",
   "metadata": {},
   "outputs": [],
   "source": [
    "final_date_features['error_rate_on_imp_stations'] = lst"
   ]
  },
  {
   "cell_type": "code",
   "execution_count": 11,
   "id": "60229839",
   "metadata": {},
   "outputs": [],
   "source": [
    "date = pd.read_csv('C:\\\\OBS Studio\\\\self_case_study_file\\\\train_date.csv',nrows=10)\n",
    "columns = date.columns"
   ]
  },
  {
   "cell_type": "code",
   "execution_count": 12,
   "id": "1c3ff671",
   "metadata": {},
   "outputs": [],
   "source": [
    "imp_st_col_date = []\n",
    "for col in columns[1:]:\n",
    "    if col.split(\"_\")[1] in imp_station:\n",
    "        imp_st_col_date.append(col)"
   ]
  },
  {
   "cell_type": "code",
   "execution_count": 13,
   "id": "c12c5356",
   "metadata": {},
   "outputs": [],
   "source": [
    "imp_st_col_date.append(\"Id\")"
   ]
  },
  {
   "cell_type": "code",
   "execution_count": 14,
   "id": "e627b09f",
   "metadata": {},
   "outputs": [
    {
     "name": "stderr",
     "output_type": "stream",
     "text": [
      "119it [01:03,  1.87it/s]\n"
     ]
    }
   ],
   "source": [
    "new_date_feature_imp_st = pd.DataFrame()\n",
    "for chunk_df in tqdm(pd.read_csv('C:\\\\OBS Studio\\\\self_case_study_file\\\\train_date.csv.zip',iterator=True, usecols = imp_st_col_date, chunksize=10000,compression='zip',low_memory=False)):\n",
    "    columns = chunk_df.columns[1:] \n",
    "    df = chunk_df[['Id']].copy()\n",
    "    df['mintime_imp_st'] = chunk_df[columns].min(axis=1).values\n",
    "    df['maxtime_imp_st'] = chunk_df[columns].max(axis=1).values\n",
    "    df['time_difference_imp_st'] =  df['maxtime_imp_st'] - df['mintime_imp_st']\n",
    "    new_date_feature_imp_st = pd.concat([new_date_feature_imp_st,df])"
   ]
  },
  {
   "cell_type": "code",
   "execution_count": 15,
   "id": "d8b4d098",
   "metadata": {},
   "outputs": [],
   "source": [
    "df_ = pd.merge(final_date_features,new_date_feature_imp_st,on=\"Id\")"
   ]
  },
  {
   "cell_type": "code",
   "execution_count": 16,
   "id": "d8a5aee6",
   "metadata": {},
   "outputs": [
    {
     "data": {
      "text/html": [
       "<div>\n",
       "<style scoped>\n",
       "    .dataframe tbody tr th:only-of-type {\n",
       "        vertical-align: middle;\n",
       "    }\n",
       "\n",
       "    .dataframe tbody tr th {\n",
       "        vertical-align: top;\n",
       "    }\n",
       "\n",
       "    .dataframe thead th {\n",
       "        text-align: right;\n",
       "    }\n",
       "</style>\n",
       "<table border=\"1\" class=\"dataframe\">\n",
       "  <thead>\n",
       "    <tr style=\"text-align: right;\">\n",
       "      <th></th>\n",
       "      <th>Id</th>\n",
       "      <th>mintime</th>\n",
       "      <th>maxtime</th>\n",
       "      <th>time_difference</th>\n",
       "      <th>part_week</th>\n",
       "      <th>min_time_station</th>\n",
       "      <th>max_time_station</th>\n",
       "      <th>mindate_id_diff</th>\n",
       "      <th>mindate_id_diff_reverse</th>\n",
       "      <th>S0</th>\n",
       "      <th>...</th>\n",
       "      <th>L3_S51_D4257</th>\n",
       "      <th>average_time_per_measurement</th>\n",
       "      <th>fraction_of_measurementsL0</th>\n",
       "      <th>fraction_of_measurementsL1</th>\n",
       "      <th>fraction_of_measurementsL2</th>\n",
       "      <th>fraction_of_measurementsL3</th>\n",
       "      <th>error_rate_on_imp_stations</th>\n",
       "      <th>mintime_imp_st</th>\n",
       "      <th>maxtime_imp_st</th>\n",
       "      <th>time_difference_imp_st</th>\n",
       "    </tr>\n",
       "  </thead>\n",
       "  <tbody>\n",
       "    <tr>\n",
       "      <th>0</th>\n",
       "      <td>4</td>\n",
       "      <td>82.24</td>\n",
       "      <td>87.29</td>\n",
       "      <td>5.05</td>\n",
       "      <td>1508</td>\n",
       "      <td>0</td>\n",
       "      <td>35</td>\n",
       "      <td>-2314450.0</td>\n",
       "      <td>-224451.0</td>\n",
       "      <td>1</td>\n",
       "      <td>...</td>\n",
       "      <td>NaN</td>\n",
       "      <td>0.360714</td>\n",
       "      <td>0.255435</td>\n",
       "      <td>0.0</td>\n",
       "      <td>0.0</td>\n",
       "      <td>0.483516</td>\n",
       "      <td>0.3</td>\n",
       "      <td>87.26</td>\n",
       "      <td>87.29</td>\n",
       "      <td>0.03</td>\n",
       "    </tr>\n",
       "  </tbody>\n",
       "</table>\n",
       "<p>1 rows × 175 columns</p>\n",
       "</div>"
      ],
      "text/plain": [
       "   Id  mintime  maxtime  time_difference  part_week  min_time_station  \\\n",
       "0   4    82.24    87.29             5.05       1508                 0   \n",
       "\n",
       "   max_time_station  mindate_id_diff  mindate_id_diff_reverse  S0  ...  \\\n",
       "0                35       -2314450.0                -224451.0   1  ...   \n",
       "\n",
       "   L3_S51_D4257  average_time_per_measurement  fraction_of_measurementsL0  \\\n",
       "0           NaN                      0.360714                    0.255435   \n",
       "\n",
       "   fraction_of_measurementsL1  fraction_of_measurementsL2  \\\n",
       "0                         0.0                         0.0   \n",
       "\n",
       "   fraction_of_measurementsL3  error_rate_on_imp_stations  mintime_imp_st  \\\n",
       "0                    0.483516                         0.3           87.26   \n",
       "\n",
       "   maxtime_imp_st  time_difference_imp_st  \n",
       "0           87.29                    0.03  \n",
       "\n",
       "[1 rows x 175 columns]"
      ]
     },
     "execution_count": 16,
     "metadata": {},
     "output_type": "execute_result"
    }
   ],
   "source": [
    "df_.head(1)"
   ]
  },
  {
   "cell_type": "code",
   "execution_count": 18,
   "id": "89914950",
   "metadata": {},
   "outputs": [
    {
     "name": "stderr",
     "output_type": "stream",
     "text": [
      "119it [13:09,  6.63s/it]\n"
     ]
    }
   ],
   "source": [
    "total_no_of_different_date = []\n",
    "for chunk_df in tqdm(pd.read_csv('C:\\\\OBS Studio\\\\self_case_study_file\\\\train_date.csv.zip',iterator=True, chunksize=10000,compression='zip',low_memory=False)):\n",
    "    chunk_df.fillna(0,inplace=True)\n",
    "    for i in range(len(chunk_df)):\n",
    "        row = chunk_df.iloc[i][1:]\n",
    "        total_no_of_different_date.append(len(pd.unique(row)))"
   ]
  },
  {
   "cell_type": "code",
   "execution_count": 19,
   "id": "ab0c8852",
   "metadata": {},
   "outputs": [],
   "source": [
    "df_['total_no_of_different_date'] = total_no_of_different_date"
   ]
  },
  {
   "cell_type": "code",
   "execution_count": 20,
   "id": "0d2a0736",
   "metadata": {},
   "outputs": [
    {
     "data": {
      "text/plain": [
       "(1183747, 176)"
      ]
     },
     "execution_count": 20,
     "metadata": {},
     "output_type": "execute_result"
    }
   ],
   "source": [
    "df_.shape"
   ]
  },
  {
   "cell_type": "code",
   "execution_count": 22,
   "id": "596b820f",
   "metadata": {},
   "outputs": [],
   "source": [
    "df_.to_csv('final_df_train_date.csv')"
   ]
  },
  {
   "cell_type": "code",
   "execution_count": 23,
   "id": "21d65cd8",
   "metadata": {},
   "outputs": [],
   "source": [
    "df_cat = pd.read_csv('final_df_train_categorical.csv').drop('Unnamed: 0',axis=1)\n",
    "df_nume = pd.read_csv('final_df_train_numeric.csv').drop('Unnamed: 0',axis=1)\n",
    "df_date = pd.read_csv('final_df_train_date.csv').drop('Unnamed: 0',axis=1)"
   ]
  },
  {
   "cell_type": "code",
   "execution_count": 24,
   "id": "2e25cf7f",
   "metadata": {},
   "outputs": [],
   "source": [
    "final_df = pd.merge(df_cat,df_nume,on=\"Id\")\n",
    "final_df = pd.merge(final_df,df_date,on='Id')"
   ]
  },
  {
   "cell_type": "code",
   "execution_count": 41,
   "id": "5d3a7b0a",
   "metadata": {},
   "outputs": [],
   "source": [
    "#final_df.to_csv('final_df_train.csv')"
   ]
  },
  {
   "cell_type": "code",
   "execution_count": 4,
   "id": "ba29c96b",
   "metadata": {},
   "outputs": [],
   "source": [
    "import numpy as np\n",
    "import pandas as pd\n",
    "from tqdm import tqdm\n",
    "from sklearn.model_selection import RandomizedSearchCV\n",
    "import xgboost as xgb\n",
    "from sklearn.metrics import make_scorer, matthews_corrcoef\n",
    "from datetime import datetime\n",
    "from sklearn.model_selection import train_test_split"
   ]
  },
  {
   "cell_type": "code",
   "execution_count": 2,
   "id": "56bf15b6",
   "metadata": {},
   "outputs": [],
   "source": [
    "df = pd.read_csv('final_df_train.csv',nrows = 300000).drop('Unnamed: 0',axis=1)\n",
    "df.drop(['mindate_id_diff_reverse','mindate_id_diff'],axis=1,inplace=True)"
   ]
  },
  {
   "cell_type": "code",
   "execution_count": 3,
   "id": "3265017e",
   "metadata": {},
   "outputs": [],
   "source": [
    "X = df.drop([\"Id\",\"Response\"], axis=1)\n",
    "y = df['Response']"
   ]
  },
  {
   "cell_type": "code",
   "execution_count": 5,
   "id": "f7c1583b",
   "metadata": {},
   "outputs": [],
   "source": [
    "df = pd.read_csv('final_df_train.csv').drop('Unnamed: 0',axis=1)\n",
    "df.drop(['mindate_id_diff_reverse','mindate_id_diff'],axis=1,inplace=True)"
   ]
  },
  {
   "cell_type": "code",
   "execution_count": 6,
   "id": "0108af4c",
   "metadata": {},
   "outputs": [],
   "source": [
    "X_train, X_test, y_train, y_test = train_test_split(df.drop([\"Id\",\"Response\"], axis=1),df[\"Response\"],test_size=0.2, random_state=42, shuffle=True)"
   ]
  },
  {
   "cell_type": "code",
   "execution_count": 8,
   "id": "aec7d52d",
   "metadata": {},
   "outputs": [],
   "source": [
    "model_xgb=xgb.XGBClassifier(booster='gbtree', colsample_bylevel=1,\n",
    "       colsample_bytree=0.3, gamma=3.2, learning_rate=0.5,\n",
    "       max_delta_step=0, max_depth=3, min_child_weight=12, missing=1,\n",
    "       n_estimators=65, n_jobs=1,random_state=0,\n",
    "       objective='binary:logistic', reg_alpha=1.6,\n",
    "       reg_lambda=0.2, scale_pos_weight=1, seed=None, silent=True,\n",
    "       subsample=1,use_label_encoder=False)"
   ]
  },
  {
   "cell_type": "code",
   "execution_count": 9,
   "id": "f4c4a9d6",
   "metadata": {},
   "outputs": [
    {
     "name": "stdout",
     "output_type": "stream",
     "text": [
      "[15:55:15] WARNING: C:/Users/Administrator/workspace/xgboost-win64_release_1.4.0/src/learner.cc:573: \n",
      "Parameters: { \"silent\" } might not be used.\n",
      "\n",
      "  This may not be accurate due to some parameters are only used in language bindings but\n",
      "  passed down to XGBoost core.  Or some parameters are not used but slip through this\n",
      "  verification. Please open an issue if you find above cases.\n",
      "\n",
      "\n",
      "[15:55:22] WARNING: C:/Users/Administrator/workspace/xgboost-win64_release_1.4.0/src/learner.cc:1095: Starting in XGBoost 1.3.0, the default evaluation metric used with the objective 'binary:logistic' was changed from 'error' to 'logloss'. Explicitly set eval_metric if you'd like to restore the old behavior.\n"
     ]
    },
    {
     "data": {
      "text/plain": [
       "XGBClassifier(base_score=0.5, booster='gbtree', colsample_bylevel=1,\n",
       "              colsample_bynode=1, colsample_bytree=0.3, gamma=3.2, gpu_id=-1,\n",
       "              importance_type='gain', interaction_constraints='',\n",
       "              learning_rate=0.5, max_delta_step=0, max_depth=3,\n",
       "              min_child_weight=12, missing=1, monotone_constraints='()',\n",
       "              n_estimators=65, n_jobs=1, num_parallel_tree=1, random_state=0,\n",
       "              reg_alpha=1.6, reg_lambda=0.2, scale_pos_weight=1, seed=0,\n",
       "              silent=True, subsample=1, tree_method='exact',\n",
       "              use_label_encoder=False, validate_parameters=1, verbosity=None)"
      ]
     },
     "execution_count": 9,
     "metadata": {},
     "output_type": "execute_result"
    }
   ],
   "source": [
    "model_xgb.fit(X_train,y_train)"
   ]
  },
  {
   "cell_type": "code",
   "execution_count": 14,
   "id": "4f85be46",
   "metadata": {},
   "outputs": [
    {
     "data": {
      "text/plain": [
       "0.21913769914720096"
      ]
     },
     "execution_count": 14,
     "metadata": {},
     "output_type": "execute_result"
    }
   ],
   "source": [
    "y_pred_train = model_xgb.predict(X_train)\n",
    "matthews_corrcoef(y_train,y_pred_train)"
   ]
  },
  {
   "cell_type": "code",
   "execution_count": 15,
   "id": "2c4c899b",
   "metadata": {},
   "outputs": [
    {
     "data": {
      "text/plain": [
       "0.20136429126324365"
      ]
     },
     "execution_count": 15,
     "metadata": {},
     "output_type": "execute_result"
    }
   ],
   "source": [
    "y_pred_test = model_xgb.predict(X_test)\n",
    "matthews_corrcoef(y_test,y_pred_test)"
   ]
  },
  {
   "cell_type": "code",
   "execution_count": 20,
   "id": "623271b1",
   "metadata": {},
   "outputs": [
    {
     "data": {
      "text/plain": [
       "['pkl_files/final_model.pkl']"
      ]
     },
     "execution_count": 20,
     "metadata": {},
     "output_type": "execute_result"
    }
   ],
   "source": [
    "import joblib\n",
    "joblib.dump(model_xgb,'pkl_files/final_model.pkl')"
   ]
  },
  {
   "cell_type": "code",
   "execution_count": 2,
   "id": "ea6d5ec9",
   "metadata": {},
   "outputs": [],
   "source": [
    "import joblib\n",
    "model = joblib.load('pkl_files/final_model.pkl')"
   ]
  },
  {
   "cell_type": "code",
   "execution_count": 20,
   "id": "bd450aa4",
   "metadata": {},
   "outputs": [],
   "source": [
    "df = pd.read_csv('final_df_train.csv',nrows=2500).drop('Unnamed: 0',axis=1)\n",
    "df.drop(['mindate_id_diff_reverse','mindate_id_diff'],axis=1,inplace=True)"
   ]
  },
  {
   "cell_type": "code",
   "execution_count": 21,
   "id": "dbefa6fe",
   "metadata": {},
   "outputs": [],
   "source": [
    "y = df['Response']\n",
    "X= df.drop(['Response','Id'],axis=1)"
   ]
  },
  {
   "cell_type": "code",
   "execution_count": 22,
   "id": "26848128",
   "metadata": {},
   "outputs": [],
   "source": [
    "y_pred = model.predict(X)"
   ]
  },
  {
   "cell_type": "code",
   "execution_count": 23,
   "id": "64851c1b",
   "metadata": {},
   "outputs": [
    {
     "name": "stdout",
     "output_type": "stream",
     "text": [
      "2489\n",
      "2490\n"
     ]
    }
   ],
   "source": [
    "for i in range(len(y_pred)):\n",
    "    if y_pred[i] == 1 and y[i] == 1:\n",
    "        print(i)"
   ]
  },
  {
   "cell_type": "code",
   "execution_count": 24,
   "id": "95d73b46",
   "metadata": {},
   "outputs": [
    {
     "data": {
      "text/plain": [
       "0.4074303207171238"
      ]
     },
     "execution_count": 24,
     "metadata": {},
     "output_type": "execute_result"
    }
   ],
   "source": [
    "matthews_corrcoef(y,y_pred)"
   ]
  },
  {
   "cell_type": "code",
   "execution_count": null,
   "id": "2e0aa5f8",
   "metadata": {},
   "outputs": [],
   "source": [
    "'''a = pd.read_csv('C:\\\\OBS Studio\\\\self_case_study_file\\\\train_numeric.csv',nrows=5000,low_memory=False)\n",
    "val = list(a.iloc[2490].values)\n",
    "val[0] = int(val[0])\n",
    "val = [str(i) for i in val]\n",
    "str_ = \",\".join(val)\n",
    "file = open(\"newfile.txt\",mode=\"w\",encoding=\"utf-8\")\n",
    "file.seek(2490)\n",
    "file.writelines(str_)\n",
    "file.close'''"
   ]
  },
  {
   "cell_type": "code",
   "execution_count": null,
   "id": "dff1ce8d",
   "metadata": {},
   "outputs": [],
   "source": [
    "'''input_file = open(\"input_data/categorical_data.txt\",\"r\")\n",
    "input_ = list(input_file)\n",
    "input_file.close()'''"
   ]
  },
  {
   "cell_type": "code",
   "execution_count": null,
   "id": "e39e1622",
   "metadata": {},
   "outputs": [],
   "source": [
    "'''df = pd.read_csv('final_df_train.csv',nrows=5).drop('Unnamed: 0',axis=1)\n",
    "df.drop(['mindate_id_diff_reverse','mindate_id_diff'],axis=1,inplace=True)\n",
    "\n",
    "df_cat = pd.read_csv(\"C:\\\\OBS Studio\\\\self_case_study_file\\\\train_categorical.csv\",nrows=2500,low_memory = False)\n",
    "df_nume = pd.read_csv(\"C:\\\\OBS Studio\\\\self_case_study_file\\\\train_numeric.csv\",nrows=2500,low_memory = False)\n",
    "df_date = pd.read_csv(\"C:\\\\OBS Studio\\\\self_case_study_file\\\\train_date.csv\",nrows=2500,low_memory = False)\n",
    "\n",
    "df_cat.to_csv('input_data_df/cat_data.csv')\n",
    "df_nume.to_csv('input_data_df/nume_data.csv')\n",
    "df_date.to_csv('input_data_df/date_data.csv')'''"
   ]
  }
 ],
 "metadata": {
  "kernelspec": {
   "display_name": "Python 3 (ipykernel)",
   "language": "python",
   "name": "python3"
  },
  "language_info": {
   "codemirror_mode": {
    "name": "ipython",
    "version": 3
   },
   "file_extension": ".py",
   "mimetype": "text/x-python",
   "name": "python",
   "nbconvert_exporter": "python",
   "pygments_lexer": "ipython3",
   "version": "3.8.5"
  }
 },
 "nbformat": 4,
 "nbformat_minor": 5
}
